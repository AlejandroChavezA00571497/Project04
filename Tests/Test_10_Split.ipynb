{
 "cells": [
  {
   "cell_type": "code",
   "execution_count": 15,
   "metadata": {},
   "outputs": [],
   "source": [
    "import pandas as pd\n",
    "import numpy as np\n",
    "from sklearn.metrics import balanced_accuracy_score, confusion_matrix, classification_report\n",
    "from sklearn.model_selection import train_test_split\n",
    "from sklearn.linear_model import LogisticRegression\n",
    "from imblearn.over_sampling import RandomOverSampler\n",
    "from sklearn.ensemble import RandomForestClassifier\n",
    "from sklearn.metrics import confusion_matrix, accuracy_score, classification_report\n",
    "from sklearn.ensemble import RandomForestRegressor\n",
    "from sklearn.metrics import mean_squared_error\n",
    "from sklearn.preprocessing import StandardScaler\n"
   ]
  },
  {
   "cell_type": "code",
   "execution_count": 16,
   "metadata": {},
   "outputs": [
    {
     "data": {
      "text/plain": [
       "'\\ndf_01 = pd.read_csv(\"../Resources/ArtistWeek.csv\")\\nprint(df_01.info())\\ndf_01\\n'"
      ]
     },
     "execution_count": 16,
     "metadata": {},
     "output_type": "execute_result"
    }
   ],
   "source": [
    "\"\"\"\n",
    "df_01 = pd.read_csv(\"../Resources/ArtistWeek.csv\")\n",
    "print(df_01.info())\n",
    "df_01\n",
    "\"\"\""
   ]
  },
  {
   "cell_type": "code",
   "execution_count": 17,
   "metadata": {},
   "outputs": [
    {
     "data": {
      "text/plain": [
       "'\\ngenres_lists = df_01[\"Genres\"].str.split(\",\")\\ngenres_lists\\n\\nunique_genres_list = []\\n\\nfor each_list in genres_lists:\\n    for each_genre in each_list:\\n        if not each_genre in unique_genres_list:\\n            unique_genres_list.append(each_genre)\\n\\nunique_genres_list\\n'"
      ]
     },
     "execution_count": 17,
     "metadata": {},
     "output_type": "execute_result"
    }
   ],
   "source": [
    "\"\"\"\n",
    "genres_lists = df_01[\"Genres\"].str.split(\",\")\n",
    "genres_lists\n",
    "\n",
    "unique_genres_list = []\n",
    "\n",
    "for each_list in genres_lists:\n",
    "    for each_genre in each_list:\n",
    "        if not each_genre in unique_genres_list:\n",
    "            unique_genres_list.append(each_genre)\n",
    "\n",
    "unique_genres_list\n",
    "\"\"\"\n"
   ]
  },
  {
   "cell_type": "code",
   "execution_count": 18,
   "metadata": {},
   "outputs": [],
   "source": [
    "#pd.options.display.float_format = '{:.000f}'.format"
   ]
  },
  {
   "cell_type": "code",
   "execution_count": 19,
   "metadata": {},
   "outputs": [
    {
     "name": "stdout",
     "output_type": "stream",
     "text": [
      "<class 'pandas.core.frame.DataFrame'>\n",
      "Index: 934 entries, 0 to 1034\n",
      "Data columns (total 8 columns):\n",
      " #   Column          Non-Null Count  Dtype \n",
      "---  ------          --------------  ----- \n",
      " 0   X               934 non-null    int64 \n",
      " 1   Artist          934 non-null    object\n",
      " 2   Followers       934 non-null    int64 \n",
      " 3   Genres          934 non-null    object\n",
      " 4   NumAlbums       934 non-null    int64 \n",
      " 5   YearFirstAlbum  934 non-null    int64 \n",
      " 6   Gender          934 non-null    object\n",
      " 7   Group.Solo      934 non-null    object\n",
      "dtypes: int64(4), object(4)\n",
      "memory usage: 65.7+ KB\n",
      "None\n"
     ]
    },
    {
     "data": {
      "text/html": [
       "<div>\n",
       "<style scoped>\n",
       "    .dataframe tbody tr th:only-of-type {\n",
       "        vertical-align: middle;\n",
       "    }\n",
       "\n",
       "    .dataframe tbody tr th {\n",
       "        vertical-align: top;\n",
       "    }\n",
       "\n",
       "    .dataframe thead th {\n",
       "        text-align: right;\n",
       "    }\n",
       "</style>\n",
       "<table border=\"1\" class=\"dataframe\">\n",
       "  <thead>\n",
       "    <tr style=\"text-align: right;\">\n",
       "      <th></th>\n",
       "      <th>X</th>\n",
       "      <th>Artist</th>\n",
       "      <th>Followers</th>\n",
       "      <th>Genres</th>\n",
       "      <th>NumAlbums</th>\n",
       "      <th>YearFirstAlbum</th>\n",
       "      <th>Gender</th>\n",
       "      <th>Group.Solo</th>\n",
       "    </tr>\n",
       "  </thead>\n",
       "  <tbody>\n",
       "    <tr>\n",
       "      <th>0</th>\n",
       "      <td>0</td>\n",
       "      <td>Ed Sheeran</td>\n",
       "      <td>52698756</td>\n",
       "      <td>pop,uk pop</td>\n",
       "      <td>8</td>\n",
       "      <td>2011</td>\n",
       "      <td>M</td>\n",
       "      <td>Solo</td>\n",
       "    </tr>\n",
       "    <tr>\n",
       "      <th>1</th>\n",
       "      <td>1</td>\n",
       "      <td>Justin Bieber</td>\n",
       "      <td>30711450</td>\n",
       "      <td>canadian pop,dance pop,pop,post-teen pop</td>\n",
       "      <td>10</td>\n",
       "      <td>2009</td>\n",
       "      <td>M</td>\n",
       "      <td>Solo</td>\n",
       "    </tr>\n",
       "    <tr>\n",
       "      <th>2</th>\n",
       "      <td>2</td>\n",
       "      <td>Jonas Brothers</td>\n",
       "      <td>3069527</td>\n",
       "      <td>boy band,dance pop,pop,post-teen pop</td>\n",
       "      <td>10</td>\n",
       "      <td>2006</td>\n",
       "      <td>M</td>\n",
       "      <td>Group</td>\n",
       "    </tr>\n",
       "    <tr>\n",
       "      <th>3</th>\n",
       "      <td>3</td>\n",
       "      <td>Drake</td>\n",
       "      <td>41420478</td>\n",
       "      <td>canadian hip hop,canadian pop,hip hop,pop rap,...</td>\n",
       "      <td>11</td>\n",
       "      <td>2010</td>\n",
       "      <td>M</td>\n",
       "      <td>Solo</td>\n",
       "    </tr>\n",
       "    <tr>\n",
       "      <th>4</th>\n",
       "      <td>4</td>\n",
       "      <td>Chris Brown</td>\n",
       "      <td>9676862</td>\n",
       "      <td>dance pop,pop,pop rap,r&amp;b,rap</td>\n",
       "      <td>6</td>\n",
       "      <td>2005</td>\n",
       "      <td>M</td>\n",
       "      <td>Solo</td>\n",
       "    </tr>\n",
       "    <tr>\n",
       "      <th>...</th>\n",
       "      <td>...</td>\n",
       "      <td>...</td>\n",
       "      <td>...</td>\n",
       "      <td>...</td>\n",
       "      <td>...</td>\n",
       "      <td>...</td>\n",
       "      <td>...</td>\n",
       "      <td>...</td>\n",
       "    </tr>\n",
       "    <tr>\n",
       "      <th>1028</th>\n",
       "      <td>1028</td>\n",
       "      <td>Mercedes Sosa</td>\n",
       "      <td>404861</td>\n",
       "      <td>argentine rock,cantautor,folklore argentino,nu...</td>\n",
       "      <td>64</td>\n",
       "      <td>1962</td>\n",
       "      <td>F</td>\n",
       "      <td>Solo</td>\n",
       "    </tr>\n",
       "    <tr>\n",
       "      <th>1030</th>\n",
       "      <td>1030</td>\n",
       "      <td>Dwight Yoakam</td>\n",
       "      <td>284597</td>\n",
       "      <td>country,country rock,nashville sound,outlaw co...</td>\n",
       "      <td>25</td>\n",
       "      <td>1985</td>\n",
       "      <td>M</td>\n",
       "      <td>Solo</td>\n",
       "    </tr>\n",
       "    <tr>\n",
       "      <th>1032</th>\n",
       "      <td>1032</td>\n",
       "      <td>Lila McCann</td>\n",
       "      <td>42444</td>\n",
       "      <td>contemporary country,country,country dawn</td>\n",
       "      <td>4</td>\n",
       "      <td>1997</td>\n",
       "      <td>F</td>\n",
       "      <td>Solo</td>\n",
       "    </tr>\n",
       "    <tr>\n",
       "      <th>1033</th>\n",
       "      <td>1033</td>\n",
       "      <td>Everlast</td>\n",
       "      <td>200550</td>\n",
       "      <td>rap rock</td>\n",
       "      <td>11</td>\n",
       "      <td>1990</td>\n",
       "      <td>M</td>\n",
       "      <td>Solo</td>\n",
       "    </tr>\n",
       "    <tr>\n",
       "      <th>1034</th>\n",
       "      <td>1034</td>\n",
       "      <td>Collective Soul</td>\n",
       "      <td>525701</td>\n",
       "      <td>alternative metal,alternative rock,pop rock,po...</td>\n",
       "      <td>12</td>\n",
       "      <td>1994</td>\n",
       "      <td>M</td>\n",
       "      <td>Group</td>\n",
       "    </tr>\n",
       "  </tbody>\n",
       "</table>\n",
       "<p>934 rows × 8 columns</p>\n",
       "</div>"
      ],
      "text/plain": [
       "         X           Artist  Followers  \\\n",
       "0        0       Ed Sheeran   52698756   \n",
       "1        1    Justin Bieber   30711450   \n",
       "2        2   Jonas Brothers    3069527   \n",
       "3        3            Drake   41420478   \n",
       "4        4      Chris Brown    9676862   \n",
       "...    ...              ...        ...   \n",
       "1028  1028    Mercedes Sosa     404861   \n",
       "1030  1030    Dwight Yoakam     284597   \n",
       "1032  1032      Lila McCann      42444   \n",
       "1033  1033         Everlast     200550   \n",
       "1034  1034  Collective Soul     525701   \n",
       "\n",
       "                                                 Genres  NumAlbums  \\\n",
       "0                                            pop,uk pop          8   \n",
       "1              canadian pop,dance pop,pop,post-teen pop         10   \n",
       "2                  boy band,dance pop,pop,post-teen pop         10   \n",
       "3     canadian hip hop,canadian pop,hip hop,pop rap,...         11   \n",
       "4                         dance pop,pop,pop rap,r&b,rap          6   \n",
       "...                                                 ...        ...   \n",
       "1028  argentine rock,cantautor,folklore argentino,nu...         64   \n",
       "1030  country,country rock,nashville sound,outlaw co...         25   \n",
       "1032          contemporary country,country,country dawn          4   \n",
       "1033                                           rap rock         11   \n",
       "1034  alternative metal,alternative rock,pop rock,po...         12   \n",
       "\n",
       "      YearFirstAlbum Gender Group.Solo  \n",
       "0               2011      M       Solo  \n",
       "1               2009      M       Solo  \n",
       "2               2006      M      Group  \n",
       "3               2010      M       Solo  \n",
       "4               2005      M       Solo  \n",
       "...              ...    ...        ...  \n",
       "1028            1962      F       Solo  \n",
       "1030            1985      M       Solo  \n",
       "1032            1997      F       Solo  \n",
       "1033            1990      M       Solo  \n",
       "1034            1994      M      Group  \n",
       "\n",
       "[934 rows x 8 columns]"
      ]
     },
     "execution_count": 19,
     "metadata": {},
     "output_type": "execute_result"
    }
   ],
   "source": [
    "df_01 = pd.read_csv(\"../Resources/artistDf.csv\")\n",
    "df_01 = df_01.dropna()\n",
    "print(df_01.info())\n",
    "df_01"
   ]
  },
  {
   "cell_type": "code",
   "execution_count": 20,
   "metadata": {},
   "outputs": [
    {
     "data": {
      "text/plain": [
       "count    9.340000e+02\n",
       "mean     1.893986e+06\n",
       "std      4.128050e+06\n",
       "min      1.093000e+03\n",
       "25%      2.100548e+05\n",
       "50%      5.797685e+05\n",
       "75%      1.681426e+06\n",
       "max      5.269876e+07\n",
       "Name: Followers, dtype: float64"
      ]
     },
     "execution_count": 20,
     "metadata": {},
     "output_type": "execute_result"
    }
   ],
   "source": [
    "df_01[\"Followers\"].describe()"
   ]
  },
  {
   "cell_type": "code",
   "execution_count": 21,
   "metadata": {},
   "outputs": [
    {
     "data": {
      "text/plain": [
       "is_popular\n",
       "True     508\n",
       "False    426\n",
       "Name: count, dtype: int64"
      ]
     },
     "execution_count": 21,
     "metadata": {},
     "output_type": "execute_result"
    }
   ],
   "source": [
    "df_01[\"is_popular\"] = df_01[\"Followers\"] > 500000\n",
    "df_01[\"is_popular\"].value_counts()"
   ]
  },
  {
   "cell_type": "code",
   "execution_count": 22,
   "metadata": {},
   "outputs": [
    {
     "data": {
      "text/plain": [
       "Index(['X', 'Artist', 'Followers', 'Genres', 'NumAlbums', 'YearFirstAlbum',\n",
       "       'Gender', 'Group.Solo', 'is_popular'],\n",
       "      dtype='object')"
      ]
     },
     "execution_count": 22,
     "metadata": {},
     "output_type": "execute_result"
    }
   ],
   "source": [
    "df_01.columns"
   ]
  },
  {
   "cell_type": "code",
   "execution_count": 23,
   "metadata": {},
   "outputs": [
    {
     "data": {
      "text/html": [
       "<div>\n",
       "<style scoped>\n",
       "    .dataframe tbody tr th:only-of-type {\n",
       "        vertical-align: middle;\n",
       "    }\n",
       "\n",
       "    .dataframe tbody tr th {\n",
       "        vertical-align: top;\n",
       "    }\n",
       "\n",
       "    .dataframe thead th {\n",
       "        text-align: right;\n",
       "    }\n",
       "</style>\n",
       "<table border=\"1\" class=\"dataframe\">\n",
       "  <thead>\n",
       "    <tr style=\"text-align: right;\">\n",
       "      <th></th>\n",
       "      <th>NumAlbums</th>\n",
       "      <th>YearFirstAlbum</th>\n",
       "      <th>is_popular</th>\n",
       "      <th>Gender_F</th>\n",
       "      <th>Gender_M</th>\n",
       "      <th>Group.Solo_Group</th>\n",
       "      <th>Group.Solo_Solo</th>\n",
       "    </tr>\n",
       "  </thead>\n",
       "  <tbody>\n",
       "    <tr>\n",
       "      <th>0</th>\n",
       "      <td>8</td>\n",
       "      <td>2011</td>\n",
       "      <td>True</td>\n",
       "      <td>False</td>\n",
       "      <td>True</td>\n",
       "      <td>False</td>\n",
       "      <td>True</td>\n",
       "    </tr>\n",
       "    <tr>\n",
       "      <th>1</th>\n",
       "      <td>10</td>\n",
       "      <td>2009</td>\n",
       "      <td>True</td>\n",
       "      <td>False</td>\n",
       "      <td>True</td>\n",
       "      <td>False</td>\n",
       "      <td>True</td>\n",
       "    </tr>\n",
       "    <tr>\n",
       "      <th>2</th>\n",
       "      <td>10</td>\n",
       "      <td>2006</td>\n",
       "      <td>True</td>\n",
       "      <td>False</td>\n",
       "      <td>True</td>\n",
       "      <td>True</td>\n",
       "      <td>False</td>\n",
       "    </tr>\n",
       "    <tr>\n",
       "      <th>3</th>\n",
       "      <td>11</td>\n",
       "      <td>2010</td>\n",
       "      <td>True</td>\n",
       "      <td>False</td>\n",
       "      <td>True</td>\n",
       "      <td>False</td>\n",
       "      <td>True</td>\n",
       "    </tr>\n",
       "    <tr>\n",
       "      <th>4</th>\n",
       "      <td>6</td>\n",
       "      <td>2005</td>\n",
       "      <td>True</td>\n",
       "      <td>False</td>\n",
       "      <td>True</td>\n",
       "      <td>False</td>\n",
       "      <td>True</td>\n",
       "    </tr>\n",
       "    <tr>\n",
       "      <th>...</th>\n",
       "      <td>...</td>\n",
       "      <td>...</td>\n",
       "      <td>...</td>\n",
       "      <td>...</td>\n",
       "      <td>...</td>\n",
       "      <td>...</td>\n",
       "      <td>...</td>\n",
       "    </tr>\n",
       "    <tr>\n",
       "      <th>1028</th>\n",
       "      <td>64</td>\n",
       "      <td>1962</td>\n",
       "      <td>False</td>\n",
       "      <td>True</td>\n",
       "      <td>False</td>\n",
       "      <td>False</td>\n",
       "      <td>True</td>\n",
       "    </tr>\n",
       "    <tr>\n",
       "      <th>1030</th>\n",
       "      <td>25</td>\n",
       "      <td>1985</td>\n",
       "      <td>False</td>\n",
       "      <td>False</td>\n",
       "      <td>True</td>\n",
       "      <td>False</td>\n",
       "      <td>True</td>\n",
       "    </tr>\n",
       "    <tr>\n",
       "      <th>1032</th>\n",
       "      <td>4</td>\n",
       "      <td>1997</td>\n",
       "      <td>False</td>\n",
       "      <td>True</td>\n",
       "      <td>False</td>\n",
       "      <td>False</td>\n",
       "      <td>True</td>\n",
       "    </tr>\n",
       "    <tr>\n",
       "      <th>1033</th>\n",
       "      <td>11</td>\n",
       "      <td>1990</td>\n",
       "      <td>False</td>\n",
       "      <td>False</td>\n",
       "      <td>True</td>\n",
       "      <td>False</td>\n",
       "      <td>True</td>\n",
       "    </tr>\n",
       "    <tr>\n",
       "      <th>1034</th>\n",
       "      <td>12</td>\n",
       "      <td>1994</td>\n",
       "      <td>True</td>\n",
       "      <td>False</td>\n",
       "      <td>True</td>\n",
       "      <td>True</td>\n",
       "      <td>False</td>\n",
       "    </tr>\n",
       "  </tbody>\n",
       "</table>\n",
       "<p>934 rows × 7 columns</p>\n",
       "</div>"
      ],
      "text/plain": [
       "      NumAlbums  YearFirstAlbum  is_popular  Gender_F  Gender_M  \\\n",
       "0             8            2011        True     False      True   \n",
       "1            10            2009        True     False      True   \n",
       "2            10            2006        True     False      True   \n",
       "3            11            2010        True     False      True   \n",
       "4             6            2005        True     False      True   \n",
       "...         ...             ...         ...       ...       ...   \n",
       "1028         64            1962       False      True     False   \n",
       "1030         25            1985       False     False      True   \n",
       "1032          4            1997       False      True     False   \n",
       "1033         11            1990       False     False      True   \n",
       "1034         12            1994        True     False      True   \n",
       "\n",
       "      Group.Solo_Group  Group.Solo_Solo  \n",
       "0                False             True  \n",
       "1                False             True  \n",
       "2                 True            False  \n",
       "3                False             True  \n",
       "4                False             True  \n",
       "...                ...              ...  \n",
       "1028             False             True  \n",
       "1030             False             True  \n",
       "1032             False             True  \n",
       "1033             False             True  \n",
       "1034              True            False  \n",
       "\n",
       "[934 rows x 7 columns]"
      ]
     },
     "execution_count": 23,
     "metadata": {},
     "output_type": "execute_result"
    }
   ],
   "source": [
    "clean_df_01 = df_01.drop(columns = [\"X\",\"Artist\",\"Genres\", \"Followers\"])\n",
    "clean_df_01 = pd.get_dummies(clean_df_01)\n",
    "clean_df_01"
   ]
  },
  {
   "cell_type": "code",
   "execution_count": 24,
   "metadata": {},
   "outputs": [
    {
     "data": {
      "text/html": [
       "<div>\n",
       "<style scoped>\n",
       "    .dataframe tbody tr th:only-of-type {\n",
       "        vertical-align: middle;\n",
       "    }\n",
       "\n",
       "    .dataframe tbody tr th {\n",
       "        vertical-align: top;\n",
       "    }\n",
       "\n",
       "    .dataframe thead th {\n",
       "        text-align: right;\n",
       "    }\n",
       "</style>\n",
       "<table border=\"1\" class=\"dataframe\">\n",
       "  <thead>\n",
       "    <tr style=\"text-align: right;\">\n",
       "      <th></th>\n",
       "      <th>NumAlbums</th>\n",
       "      <th>YearFirstAlbum</th>\n",
       "      <th>is_popular</th>\n",
       "      <th>Gender_F</th>\n",
       "      <th>Gender_M</th>\n",
       "      <th>Group.Solo_Group</th>\n",
       "      <th>Group.Solo_Solo</th>\n",
       "    </tr>\n",
       "  </thead>\n",
       "  <tbody>\n",
       "    <tr>\n",
       "      <th>NumAlbums</th>\n",
       "      <td>1.000000</td>\n",
       "      <td>-0.552031</td>\n",
       "      <td>0.127046</td>\n",
       "      <td>-0.121523</td>\n",
       "      <td>0.121523</td>\n",
       "      <td>-0.114632</td>\n",
       "      <td>0.114632</td>\n",
       "    </tr>\n",
       "    <tr>\n",
       "      <th>YearFirstAlbum</th>\n",
       "      <td>-0.552031</td>\n",
       "      <td>1.000000</td>\n",
       "      <td>-0.031771</td>\n",
       "      <td>0.007115</td>\n",
       "      <td>-0.007115</td>\n",
       "      <td>-0.013034</td>\n",
       "      <td>0.013034</td>\n",
       "    </tr>\n",
       "    <tr>\n",
       "      <th>is_popular</th>\n",
       "      <td>0.127046</td>\n",
       "      <td>-0.031771</td>\n",
       "      <td>1.000000</td>\n",
       "      <td>-0.107817</td>\n",
       "      <td>0.107817</td>\n",
       "      <td>0.093301</td>\n",
       "      <td>-0.093301</td>\n",
       "    </tr>\n",
       "    <tr>\n",
       "      <th>Gender_F</th>\n",
       "      <td>-0.121523</td>\n",
       "      <td>0.007115</td>\n",
       "      <td>-0.107817</td>\n",
       "      <td>1.000000</td>\n",
       "      <td>-1.000000</td>\n",
       "      <td>-0.225359</td>\n",
       "      <td>0.225359</td>\n",
       "    </tr>\n",
       "    <tr>\n",
       "      <th>Gender_M</th>\n",
       "      <td>0.121523</td>\n",
       "      <td>-0.007115</td>\n",
       "      <td>0.107817</td>\n",
       "      <td>-1.000000</td>\n",
       "      <td>1.000000</td>\n",
       "      <td>0.225359</td>\n",
       "      <td>-0.225359</td>\n",
       "    </tr>\n",
       "    <tr>\n",
       "      <th>Group.Solo_Group</th>\n",
       "      <td>-0.114632</td>\n",
       "      <td>-0.013034</td>\n",
       "      <td>0.093301</td>\n",
       "      <td>-0.225359</td>\n",
       "      <td>0.225359</td>\n",
       "      <td>1.000000</td>\n",
       "      <td>-1.000000</td>\n",
       "    </tr>\n",
       "    <tr>\n",
       "      <th>Group.Solo_Solo</th>\n",
       "      <td>0.114632</td>\n",
       "      <td>0.013034</td>\n",
       "      <td>-0.093301</td>\n",
       "      <td>0.225359</td>\n",
       "      <td>-0.225359</td>\n",
       "      <td>-1.000000</td>\n",
       "      <td>1.000000</td>\n",
       "    </tr>\n",
       "  </tbody>\n",
       "</table>\n",
       "</div>"
      ],
      "text/plain": [
       "                  NumAlbums  YearFirstAlbum  is_popular  Gender_F  Gender_M  \\\n",
       "NumAlbums          1.000000       -0.552031    0.127046 -0.121523  0.121523   \n",
       "YearFirstAlbum    -0.552031        1.000000   -0.031771  0.007115 -0.007115   \n",
       "is_popular         0.127046       -0.031771    1.000000 -0.107817  0.107817   \n",
       "Gender_F          -0.121523        0.007115   -0.107817  1.000000 -1.000000   \n",
       "Gender_M           0.121523       -0.007115    0.107817 -1.000000  1.000000   \n",
       "Group.Solo_Group  -0.114632       -0.013034    0.093301 -0.225359  0.225359   \n",
       "Group.Solo_Solo    0.114632        0.013034   -0.093301  0.225359 -0.225359   \n",
       "\n",
       "                  Group.Solo_Group  Group.Solo_Solo  \n",
       "NumAlbums                -0.114632         0.114632  \n",
       "YearFirstAlbum           -0.013034         0.013034  \n",
       "is_popular                0.093301        -0.093301  \n",
       "Gender_F                 -0.225359         0.225359  \n",
       "Gender_M                  0.225359        -0.225359  \n",
       "Group.Solo_Group          1.000000        -1.000000  \n",
       "Group.Solo_Solo          -1.000000         1.000000  "
      ]
     },
     "execution_count": 24,
     "metadata": {},
     "output_type": "execute_result"
    }
   ],
   "source": [
    "clean_df_01.corr()"
   ]
  },
  {
   "cell_type": "code",
   "execution_count": 25,
   "metadata": {},
   "outputs": [
    {
     "data": {
      "text/html": [
       "<div>\n",
       "<style scoped>\n",
       "    .dataframe tbody tr th:only-of-type {\n",
       "        vertical-align: middle;\n",
       "    }\n",
       "\n",
       "    .dataframe tbody tr th {\n",
       "        vertical-align: top;\n",
       "    }\n",
       "\n",
       "    .dataframe thead th {\n",
       "        text-align: right;\n",
       "    }\n",
       "</style>\n",
       "<table border=\"1\" class=\"dataframe\">\n",
       "  <thead>\n",
       "    <tr style=\"text-align: right;\">\n",
       "      <th></th>\n",
       "      <th>NumAlbums</th>\n",
       "      <th>YearFirstAlbum</th>\n",
       "      <th>Gender_F</th>\n",
       "      <th>Gender_M</th>\n",
       "      <th>Group.Solo_Group</th>\n",
       "      <th>Group.Solo_Solo</th>\n",
       "    </tr>\n",
       "  </thead>\n",
       "  <tbody>\n",
       "    <tr>\n",
       "      <th>0</th>\n",
       "      <td>8</td>\n",
       "      <td>2011</td>\n",
       "      <td>False</td>\n",
       "      <td>True</td>\n",
       "      <td>False</td>\n",
       "      <td>True</td>\n",
       "    </tr>\n",
       "    <tr>\n",
       "      <th>1</th>\n",
       "      <td>10</td>\n",
       "      <td>2009</td>\n",
       "      <td>False</td>\n",
       "      <td>True</td>\n",
       "      <td>False</td>\n",
       "      <td>True</td>\n",
       "    </tr>\n",
       "    <tr>\n",
       "      <th>2</th>\n",
       "      <td>10</td>\n",
       "      <td>2006</td>\n",
       "      <td>False</td>\n",
       "      <td>True</td>\n",
       "      <td>True</td>\n",
       "      <td>False</td>\n",
       "    </tr>\n",
       "    <tr>\n",
       "      <th>3</th>\n",
       "      <td>11</td>\n",
       "      <td>2010</td>\n",
       "      <td>False</td>\n",
       "      <td>True</td>\n",
       "      <td>False</td>\n",
       "      <td>True</td>\n",
       "    </tr>\n",
       "    <tr>\n",
       "      <th>4</th>\n",
       "      <td>6</td>\n",
       "      <td>2005</td>\n",
       "      <td>False</td>\n",
       "      <td>True</td>\n",
       "      <td>False</td>\n",
       "      <td>True</td>\n",
       "    </tr>\n",
       "  </tbody>\n",
       "</table>\n",
       "</div>"
      ],
      "text/plain": [
       "   NumAlbums  YearFirstAlbum  Gender_F  Gender_M  Group.Solo_Group  \\\n",
       "0          8            2011     False      True             False   \n",
       "1         10            2009     False      True             False   \n",
       "2         10            2006     False      True              True   \n",
       "3         11            2010     False      True             False   \n",
       "4          6            2005     False      True             False   \n",
       "\n",
       "   Group.Solo_Solo  \n",
       "0             True  \n",
       "1             True  \n",
       "2            False  \n",
       "3             True  \n",
       "4             True  "
      ]
     },
     "execution_count": 25,
     "metadata": {},
     "output_type": "execute_result"
    }
   ],
   "source": [
    "X = clean_df_01.copy()\n",
    "X.drop(\"is_popular\", axis=1, inplace=True)\n",
    "X.head()"
   ]
  },
  {
   "cell_type": "code",
   "execution_count": 26,
   "metadata": {},
   "outputs": [
    {
     "data": {
      "text/plain": [
       "array([[ True],\n",
       "       [ True],\n",
       "       [ True],\n",
       "       [ True],\n",
       "       [ True]])"
      ]
     },
     "execution_count": 26,
     "metadata": {},
     "output_type": "execute_result"
    }
   ],
   "source": [
    "y = clean_df_01[\"is_popular\"].values.reshape(-1, 1)\n",
    "y[:5]\n"
   ]
  },
  {
   "cell_type": "code",
   "execution_count": 27,
   "metadata": {},
   "outputs": [],
   "source": [
    "# Splitting into Train and Test sets\n",
    "X_train, X_test, y_train, y_test = train_test_split(X, y, random_state=1)\n",
    "# Creating StandardScaler instance\n",
    "scaler = StandardScaler()\n",
    "X_scaler = scaler.fit(X_train)\n",
    "X_train_scaled = X_scaler.transform(X_train)\n",
    "X_test_scaled = X_scaler.transform(X_test)"
   ]
  },
  {
   "cell_type": "code",
   "execution_count": 28,
   "metadata": {},
   "outputs": [
    {
     "name": "stderr",
     "output_type": "stream",
     "text": [
      "c:\\Users\\Aspire-PC\\anaconda3\\envs\\orange3\\lib\\site-packages\\sklearn\\base.py:1151: DataConversionWarning: A column-vector y was passed when a 1d array was expected. Please change the shape of y to (n_samples,), for example using ravel().\n",
      "  return fit_method(estimator, *args, **kwargs)\n"
     ]
    },
    {
     "name": "stdout",
     "output_type": "stream",
     "text": [
      "Mean Squared Error: 0.29535082261763707\n"
     ]
    }
   ],
   "source": [
    "# Create a Random Forest regressor\n",
    "rf_model = RandomForestRegressor(n_estimators=100, random_state=42)\n",
    "\n",
    "# Train the model\n",
    "rf_model.fit(X_train, y_train)\n",
    "\n",
    "# Make predictions on the test set\n",
    "y_pred = rf_model.predict(X_test)\n",
    "\n",
    "# Evaluate the model\n",
    "mse = mean_squared_error(y_test, y_pred)\n",
    "print(f'Mean Squared Error: {mse}')"
   ]
  },
  {
   "cell_type": "code",
   "execution_count": 29,
   "metadata": {},
   "outputs": [
    {
     "data": {
      "text/plain": [
       "[(0.46991546660664907, 'YearFirstAlbum'),\n",
       " (0.3962189951336024, 'NumAlbums'),\n",
       " (0.03984338096594403, 'Gender_M'),\n",
       " (0.03740547875710532, 'Gender_F'),\n",
       " (0.028552153371392098, 'Group.Solo_Group'),\n",
       " (0.028064525165307094, 'Group.Solo_Solo')]"
      ]
     },
     "execution_count": 29,
     "metadata": {},
     "output_type": "execute_result"
    }
   ],
   "source": [
    "# Random Forests in sklearn will automatically calculate feature importance\n",
    "importances = rf_model.feature_importances_\n",
    "# We can sort the features by their importance\n",
    "sorted(zip(rf_model.feature_importances_, X.columns), reverse=True)"
   ]
  },
  {
   "cell_type": "code",
   "execution_count": 30,
   "metadata": {},
   "outputs": [
    {
     "data": {
      "text/plain": [
       "<Axes: title={'center': 'Features Importances'}, ylabel='1'>"
      ]
     },
     "execution_count": 30,
     "metadata": {},
     "output_type": "execute_result"
    },
    {
     "data": {
      "image/png": "[encoded data removed]",
      "text/plain": [
       "<Figure size 800x1200 with 1 Axes>"
      ]
     },
     "metadata": {},
     "output_type": "display_data"
    }
   ],
   "source": [
    "# Visualize the features by importance\n",
    "importances_df = pd.DataFrame(sorted(zip(rf_model.feature_importances_, X.columns), reverse=True))\n",
    "importances_df.set_index(importances_df[1], inplace=True)\n",
    "importances_df.drop(columns=1, inplace=True)\n",
    "importances_df.rename(columns={0: 'Feature Importances'}, inplace=True)\n",
    "importances_sorted = importances_df.sort_values(by='Feature Importances')\n",
    "importances_sorted.plot(kind='barh', color='lightgreen', title= 'Features Importances',figsize=(8,12), legend=False)"
   ]
  }
 ],
 "metadata": {
  "kernelspec": {
   "display_name": "orange3",
   "language": "python",
   "name": "python3"
  },
  "language_info": {
   "codemirror_mode": {
    "name": "ipython",
    "version": 3
   },
   "file_extension": ".py",
   "mimetype": "text/x-python",
   "name": "python",
   "nbconvert_exporter": "python",
   "pygments_lexer": "ipython3",
   "version": "3.9.18"
  }
 },
 "nbformat": 4,
 "nbformat_minor": 2
}
