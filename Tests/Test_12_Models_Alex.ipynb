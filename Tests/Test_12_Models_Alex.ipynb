{
 "cells": [
  {
   "cell_type": "code",
   "execution_count": 1,
   "metadata": {},
   "outputs": [],
   "source": [
    "import pandas as pd\n",
    "import numpy as np\n",
    "\n",
    "from sklearn.model_selection import train_test_split\n",
    "from sklearn.preprocessing import StandardScaler\n",
    "import pandas as pd\n",
    "import tensorflow as tf\n",
    "\n",
    "from sklearn.metrics import balanced_accuracy_score, confusion_matrix, classification_report\n",
    "from sklearn.linear_model import LogisticRegression\n",
    "\n",
    "from imblearn.over_sampling import RandomOverSampler"
   ]
  },
  {
   "cell_type": "code",
   "execution_count": 2,
   "metadata": {},
   "outputs": [],
   "source": [
    "pd.set_option('display.max_columns', None)"
   ]
  },
  {
   "cell_type": "markdown",
   "metadata": {},
   "source": [
    "# attributesBillboard"
   ]
  },
  {
   "cell_type": "code",
   "execution_count": 3,
   "metadata": {},
   "outputs": [
    {
     "name": "stdout",
     "output_type": "stream",
     "text": [
      "<class 'pandas.core.frame.DataFrame'>\n",
      "RangeIndex: 4774 entries, 0 to 4773\n",
      "Data columns (total 27 columns):\n",
      " #   Column            Non-Null Count  Dtype  \n",
      "---  ------            --------------  -----  \n",
      " 0   Unnamed: 0        4774 non-null   int64  \n",
      " 1   Artist            4774 non-null   object \n",
      " 2   Name              4774 non-null   object \n",
      " 3   Weekly.rank       4774 non-null   int64  \n",
      " 4   Peak.position     4229 non-null   float64\n",
      " 5   Weeks.on.chart    4229 non-null   float64\n",
      " 6   Week              4774 non-null   object \n",
      " 7   Date              3938 non-null   object \n",
      " 8   Genre             4774 non-null   object \n",
      " 9   Writing.Credits   4279 non-null   object \n",
      " 10  Lyrics            4774 non-null   object \n",
      " 11  Features          717 non-null    object \n",
      " 12  Acousticness      4774 non-null   float64\n",
      " 13  Album             4774 non-null   object \n",
      " 14  Danceability      4774 non-null   float64\n",
      " 15  Duration          4774 non-null   int64  \n",
      " 16  Energy            4774 non-null   float64\n",
      " 17  Explicit          4774 non-null   bool   \n",
      " 18  Instrumentalness  4774 non-null   float64\n",
      " 19  Liveness          4774 non-null   float64\n",
      " 20  Loudness          4774 non-null   float64\n",
      " 21  Mode              4774 non-null   int64  \n",
      " 22  Popularity        4774 non-null   int64  \n",
      " 23  Speechiness       4774 non-null   float64\n",
      " 24  Tempo             4774 non-null   float64\n",
      " 25  TimeSignature     4774 non-null   int64  \n",
      " 26  Valence           4774 non-null   float64\n",
      "dtypes: bool(1), float64(11), int64(6), object(9)\n",
      "memory usage: 974.5+ KB\n",
      "None\n"
     ]
    },
    {
     "data": {
      "text/html": [
       "<div>\n",
       "<style scoped>\n",
       "    .dataframe tbody tr th:only-of-type {\n",
       "        vertical-align: middle;\n",
       "    }\n",
       "\n",
       "    .dataframe tbody tr th {\n",
       "        vertical-align: top;\n",
       "    }\n",
       "\n",
       "    .dataframe thead th {\n",
       "        text-align: right;\n",
       "    }\n",
       "</style>\n",
       "<table border=\"1\" class=\"dataframe\">\n",
       "  <thead>\n",
       "    <tr style=\"text-align: right;\">\n",
       "      <th></th>\n",
       "      <th>Unnamed: 0</th>\n",
       "      <th>Artist</th>\n",
       "      <th>Name</th>\n",
       "      <th>Weekly.rank</th>\n",
       "      <th>Peak.position</th>\n",
       "      <th>Weeks.on.chart</th>\n",
       "      <th>Week</th>\n",
       "      <th>Date</th>\n",
       "      <th>Genre</th>\n",
       "      <th>Writing.Credits</th>\n",
       "      <th>Lyrics</th>\n",
       "      <th>Features</th>\n",
       "      <th>Acousticness</th>\n",
       "      <th>Album</th>\n",
       "      <th>Danceability</th>\n",
       "      <th>Duration</th>\n",
       "      <th>Energy</th>\n",
       "      <th>Explicit</th>\n",
       "      <th>Instrumentalness</th>\n",
       "      <th>Liveness</th>\n",
       "      <th>Loudness</th>\n",
       "      <th>Mode</th>\n",
       "      <th>Popularity</th>\n",
       "      <th>Speechiness</th>\n",
       "      <th>Tempo</th>\n",
       "      <th>TimeSignature</th>\n",
       "      <th>Valence</th>\n",
       "    </tr>\n",
       "  </thead>\n",
       "  <tbody>\n",
       "    <tr>\n",
       "      <th>0</th>\n",
       "      <td>0</td>\n",
       "      <td>jonas brothers</td>\n",
       "      <td>sucker</td>\n",
       "      <td>6</td>\n",
       "      <td>1.0</td>\n",
       "      <td>17.0</td>\n",
       "      <td>2019-07-06</td>\n",
       "      <td>March 1, 2019</td>\n",
       "      <td>Alternative Pop,Boy Band,Teen Pop,Pop-Rock,Pop</td>\n",
       "      <td>Ryan tedder, Louis bell, Frank dukes, Nick jon...</td>\n",
       "      <td>Sucker \\nWe go together\\nBetter than birds of ...</td>\n",
       "      <td>NaN</td>\n",
       "      <td>0.04270</td>\n",
       "      <td>Happiness Begins</td>\n",
       "      <td>0.842</td>\n",
       "      <td>181027</td>\n",
       "      <td>0.734</td>\n",
       "      <td>False</td>\n",
       "      <td>0.0</td>\n",
       "      <td>0.1060</td>\n",
       "      <td>-5.065</td>\n",
       "      <td>0</td>\n",
       "      <td>81</td>\n",
       "      <td>0.0588</td>\n",
       "      <td>137.958</td>\n",
       "      <td>4</td>\n",
       "      <td>0.952</td>\n",
       "    </tr>\n",
       "    <tr>\n",
       "      <th>1</th>\n",
       "      <td>1</td>\n",
       "      <td>taylor swift</td>\n",
       "      <td>you need to calm down</td>\n",
       "      <td>13</td>\n",
       "      <td>2.0</td>\n",
       "      <td>2.0</td>\n",
       "      <td>2019-07-06</td>\n",
       "      <td>June 14, 2019</td>\n",
       "      <td>Synth-Pop,LGBTQ+,Pop</td>\n",
       "      <td>Joel little, Taylor swift</td>\n",
       "      <td>You Need To Calm Down \\nYou are somebody that ...</td>\n",
       "      <td>NaN</td>\n",
       "      <td>0.00929</td>\n",
       "      <td>Lover</td>\n",
       "      <td>0.771</td>\n",
       "      <td>171360</td>\n",
       "      <td>0.671</td>\n",
       "      <td>False</td>\n",
       "      <td>0.0</td>\n",
       "      <td>0.0637</td>\n",
       "      <td>-5.617</td>\n",
       "      <td>1</td>\n",
       "      <td>89</td>\n",
       "      <td>0.0553</td>\n",
       "      <td>85.026</td>\n",
       "      <td>4</td>\n",
       "      <td>0.714</td>\n",
       "    </tr>\n",
       "    <tr>\n",
       "      <th>2</th>\n",
       "      <td>2</td>\n",
       "      <td>panic! at the disco</td>\n",
       "      <td>hey look ma, i made it</td>\n",
       "      <td>24</td>\n",
       "      <td>24.0</td>\n",
       "      <td>11.0</td>\n",
       "      <td>2019-07-06</td>\n",
       "      <td>June 22, 2018</td>\n",
       "      <td>Pop-Rock,Jazz Fusion,Alternative,Alternative P...</td>\n",
       "      <td>Jake sinclair, Michael angelakos, Dillon franc...</td>\n",
       "      <td>Hey Look Ma, I Made It \\nAll my life, been hus...</td>\n",
       "      <td>NaN</td>\n",
       "      <td>0.01370</td>\n",
       "      <td>Pray for the Wicked</td>\n",
       "      <td>0.577</td>\n",
       "      <td>169667</td>\n",
       "      <td>0.833</td>\n",
       "      <td>False</td>\n",
       "      <td>0.0</td>\n",
       "      <td>0.1210</td>\n",
       "      <td>-3.337</td>\n",
       "      <td>1</td>\n",
       "      <td>81</td>\n",
       "      <td>0.0695</td>\n",
       "      <td>107.936</td>\n",
       "      <td>4</td>\n",
       "      <td>0.580</td>\n",
       "    </tr>\n",
       "    <tr>\n",
       "      <th>3</th>\n",
       "      <td>3</td>\n",
       "      <td>lee brice</td>\n",
       "      <td>rumor</td>\n",
       "      <td>26</td>\n",
       "      <td>25.0</td>\n",
       "      <td>16.0</td>\n",
       "      <td>2019-07-06</td>\n",
       "      <td>November 3, 2017</td>\n",
       "      <td>Country</td>\n",
       "      <td>Kyle jacobs, Ashley gorley, Lee brice</td>\n",
       "      <td>Rumor \\nGirl you know I've known you forever\\n...</td>\n",
       "      <td>NaN</td>\n",
       "      <td>0.74900</td>\n",
       "      <td>Lee Brice</td>\n",
       "      <td>0.655</td>\n",
       "      <td>198440</td>\n",
       "      <td>0.560</td>\n",
       "      <td>False</td>\n",
       "      <td>0.0</td>\n",
       "      <td>0.1150</td>\n",
       "      <td>-6.857</td>\n",
       "      <td>1</td>\n",
       "      <td>79</td>\n",
       "      <td>0.0486</td>\n",
       "      <td>140.975</td>\n",
       "      <td>4</td>\n",
       "      <td>0.599</td>\n",
       "    </tr>\n",
       "    <tr>\n",
       "      <th>4</th>\n",
       "      <td>4</td>\n",
       "      <td>panic! at the disco</td>\n",
       "      <td>high hopes</td>\n",
       "      <td>32</td>\n",
       "      <td>4.0</td>\n",
       "      <td>47.0</td>\n",
       "      <td>2019-07-06</td>\n",
       "      <td>May 23, 2018</td>\n",
       "      <td>Adult Alternative,Rock,Power Pop,Pop-Rock,Alte...</td>\n",
       "      <td>Sam hollander, Cook classics, Tayla parx, Jake...</td>\n",
       "      <td>High Hopes \\nHigh, high hopes\\nHad to have hig...</td>\n",
       "      <td>NaN</td>\n",
       "      <td>0.19300</td>\n",
       "      <td>Pray for the Wicked</td>\n",
       "      <td>0.579</td>\n",
       "      <td>190947</td>\n",
       "      <td>0.904</td>\n",
       "      <td>False</td>\n",
       "      <td>0.0</td>\n",
       "      <td>0.0640</td>\n",
       "      <td>-2.729</td>\n",
       "      <td>1</td>\n",
       "      <td>87</td>\n",
       "      <td>0.0618</td>\n",
       "      <td>82.014</td>\n",
       "      <td>4</td>\n",
       "      <td>0.681</td>\n",
       "    </tr>\n",
       "  </tbody>\n",
       "</table>\n",
       "</div>"
      ],
      "text/plain": [
       "   Unnamed: 0               Artist                    Name  Weekly.rank  \\\n",
       "0           0       jonas brothers                  sucker            6   \n",
       "1           1         taylor swift   you need to calm down           13   \n",
       "2           2  panic! at the disco  hey look ma, i made it           24   \n",
       "3           3            lee brice                   rumor           26   \n",
       "4           4  panic! at the disco              high hopes           32   \n",
       "\n",
       "   Peak.position  Weeks.on.chart        Week              Date  \\\n",
       "0            1.0            17.0  2019-07-06     March 1, 2019   \n",
       "1            2.0             2.0  2019-07-06     June 14, 2019   \n",
       "2           24.0            11.0  2019-07-06     June 22, 2018   \n",
       "3           25.0            16.0  2019-07-06  November 3, 2017   \n",
       "4            4.0            47.0  2019-07-06      May 23, 2018   \n",
       "\n",
       "                                               Genre  \\\n",
       "0     Alternative Pop,Boy Band,Teen Pop,Pop-Rock,Pop   \n",
       "1                               Synth-Pop,LGBTQ+,Pop   \n",
       "2  Pop-Rock,Jazz Fusion,Alternative,Alternative P...   \n",
       "3                                            Country   \n",
       "4  Adult Alternative,Rock,Power Pop,Pop-Rock,Alte...   \n",
       "\n",
       "                                     Writing.Credits  \\\n",
       "0  Ryan tedder, Louis bell, Frank dukes, Nick jon...   \n",
       "1                          Joel little, Taylor swift   \n",
       "2  Jake sinclair, Michael angelakos, Dillon franc...   \n",
       "3              Kyle jacobs, Ashley gorley, Lee brice   \n",
       "4  Sam hollander, Cook classics, Tayla parx, Jake...   \n",
       "\n",
       "                                              Lyrics Features  Acousticness  \\\n",
       "0  Sucker \\nWe go together\\nBetter than birds of ...      NaN       0.04270   \n",
       "1  You Need To Calm Down \\nYou are somebody that ...      NaN       0.00929   \n",
       "2  Hey Look Ma, I Made It \\nAll my life, been hus...      NaN       0.01370   \n",
       "3  Rumor \\nGirl you know I've known you forever\\n...      NaN       0.74900   \n",
       "4  High Hopes \\nHigh, high hopes\\nHad to have hig...      NaN       0.19300   \n",
       "\n",
       "                 Album  Danceability  Duration  Energy  Explicit  \\\n",
       "0     Happiness Begins         0.842    181027   0.734     False   \n",
       "1                Lover         0.771    171360   0.671     False   \n",
       "2  Pray for the Wicked         0.577    169667   0.833     False   \n",
       "3            Lee Brice         0.655    198440   0.560     False   \n",
       "4  Pray for the Wicked         0.579    190947   0.904     False   \n",
       "\n",
       "   Instrumentalness  Liveness  Loudness  Mode  Popularity  Speechiness  \\\n",
       "0               0.0    0.1060    -5.065     0          81       0.0588   \n",
       "1               0.0    0.0637    -5.617     1          89       0.0553   \n",
       "2               0.0    0.1210    -3.337     1          81       0.0695   \n",
       "3               0.0    0.1150    -6.857     1          79       0.0486   \n",
       "4               0.0    0.0640    -2.729     1          87       0.0618   \n",
       "\n",
       "     Tempo  TimeSignature  Valence  \n",
       "0  137.958              4    0.952  \n",
       "1   85.026              4    0.714  \n",
       "2  107.936              4    0.580  \n",
       "3  140.975              4    0.599  \n",
       "4   82.014              4    0.681  "
      ]
     },
     "execution_count": 3,
     "metadata": {},
     "output_type": "execute_result"
    }
   ],
   "source": [
    "df_01 = pd.read_csv(\"../Resources/attributesBillboard.csv\")\n",
    "print(df_01.info())\n",
    "df_01.head()"
   ]
  },
  {
   "cell_type": "code",
   "execution_count": 4,
   "metadata": {},
   "outputs": [
    {
     "data": {
      "text/plain": [
       "Index(['Unnamed: 0', 'Artist', 'Name', 'Weekly.rank', 'Peak.position',\n",
       "       'Weeks.on.chart', 'Week', 'Date', 'Genre', 'Writing.Credits', 'Lyrics',\n",
       "       'Features', 'Acousticness', 'Album', 'Danceability', 'Duration',\n",
       "       'Energy', 'Explicit', 'Instrumentalness', 'Liveness', 'Loudness',\n",
       "       'Mode', 'Popularity', 'Speechiness', 'Tempo', 'TimeSignature',\n",
       "       'Valence'],\n",
       "      dtype='object')"
      ]
     },
     "execution_count": 4,
     "metadata": {},
     "output_type": "execute_result"
    }
   ],
   "source": [
    "df_01.columns"
   ]
  },
  {
   "cell_type": "code",
   "execution_count": 5,
   "metadata": {},
   "outputs": [
    {
     "data": {
      "text/html": [
       "<div>\n",
       "<style scoped>\n",
       "    .dataframe tbody tr th:only-of-type {\n",
       "        vertical-align: middle;\n",
       "    }\n",
       "\n",
       "    .dataframe tbody tr th {\n",
       "        vertical-align: top;\n",
       "    }\n",
       "\n",
       "    .dataframe thead th {\n",
       "        text-align: right;\n",
       "    }\n",
       "</style>\n",
       "<table border=\"1\" class=\"dataframe\">\n",
       "  <thead>\n",
       "    <tr style=\"text-align: right;\">\n",
       "      <th></th>\n",
       "      <th>Weekly.rank</th>\n",
       "      <th>Peak.position</th>\n",
       "      <th>Weeks.on.chart</th>\n",
       "      <th>Features</th>\n",
       "      <th>Acousticness</th>\n",
       "      <th>Danceability</th>\n",
       "      <th>Duration</th>\n",
       "      <th>Energy</th>\n",
       "      <th>Explicit</th>\n",
       "      <th>Instrumentalness</th>\n",
       "      <th>Liveness</th>\n",
       "      <th>Loudness</th>\n",
       "      <th>Mode</th>\n",
       "      <th>Popularity</th>\n",
       "      <th>Speechiness</th>\n",
       "      <th>Tempo</th>\n",
       "      <th>TimeSignature</th>\n",
       "      <th>Valence</th>\n",
       "    </tr>\n",
       "  </thead>\n",
       "  <tbody>\n",
       "    <tr>\n",
       "      <th>0</th>\n",
       "      <td>6</td>\n",
       "      <td>1.0</td>\n",
       "      <td>17.0</td>\n",
       "      <td>0</td>\n",
       "      <td>0.04270</td>\n",
       "      <td>0.842</td>\n",
       "      <td>181027</td>\n",
       "      <td>0.734</td>\n",
       "      <td>False</td>\n",
       "      <td>0.0</td>\n",
       "      <td>0.1060</td>\n",
       "      <td>-5.065</td>\n",
       "      <td>0</td>\n",
       "      <td>81</td>\n",
       "      <td>0.0588</td>\n",
       "      <td>137.958</td>\n",
       "      <td>4</td>\n",
       "      <td>0.952</td>\n",
       "    </tr>\n",
       "    <tr>\n",
       "      <th>1</th>\n",
       "      <td>13</td>\n",
       "      <td>2.0</td>\n",
       "      <td>2.0</td>\n",
       "      <td>0</td>\n",
       "      <td>0.00929</td>\n",
       "      <td>0.771</td>\n",
       "      <td>171360</td>\n",
       "      <td>0.671</td>\n",
       "      <td>False</td>\n",
       "      <td>0.0</td>\n",
       "      <td>0.0637</td>\n",
       "      <td>-5.617</td>\n",
       "      <td>1</td>\n",
       "      <td>89</td>\n",
       "      <td>0.0553</td>\n",
       "      <td>85.026</td>\n",
       "      <td>4</td>\n",
       "      <td>0.714</td>\n",
       "    </tr>\n",
       "    <tr>\n",
       "      <th>2</th>\n",
       "      <td>24</td>\n",
       "      <td>24.0</td>\n",
       "      <td>11.0</td>\n",
       "      <td>0</td>\n",
       "      <td>0.01370</td>\n",
       "      <td>0.577</td>\n",
       "      <td>169667</td>\n",
       "      <td>0.833</td>\n",
       "      <td>False</td>\n",
       "      <td>0.0</td>\n",
       "      <td>0.1210</td>\n",
       "      <td>-3.337</td>\n",
       "      <td>1</td>\n",
       "      <td>81</td>\n",
       "      <td>0.0695</td>\n",
       "      <td>107.936</td>\n",
       "      <td>4</td>\n",
       "      <td>0.580</td>\n",
       "    </tr>\n",
       "    <tr>\n",
       "      <th>3</th>\n",
       "      <td>26</td>\n",
       "      <td>25.0</td>\n",
       "      <td>16.0</td>\n",
       "      <td>0</td>\n",
       "      <td>0.74900</td>\n",
       "      <td>0.655</td>\n",
       "      <td>198440</td>\n",
       "      <td>0.560</td>\n",
       "      <td>False</td>\n",
       "      <td>0.0</td>\n",
       "      <td>0.1150</td>\n",
       "      <td>-6.857</td>\n",
       "      <td>1</td>\n",
       "      <td>79</td>\n",
       "      <td>0.0486</td>\n",
       "      <td>140.975</td>\n",
       "      <td>4</td>\n",
       "      <td>0.599</td>\n",
       "    </tr>\n",
       "    <tr>\n",
       "      <th>4</th>\n",
       "      <td>32</td>\n",
       "      <td>4.0</td>\n",
       "      <td>47.0</td>\n",
       "      <td>0</td>\n",
       "      <td>0.19300</td>\n",
       "      <td>0.579</td>\n",
       "      <td>190947</td>\n",
       "      <td>0.904</td>\n",
       "      <td>False</td>\n",
       "      <td>0.0</td>\n",
       "      <td>0.0640</td>\n",
       "      <td>-2.729</td>\n",
       "      <td>1</td>\n",
       "      <td>87</td>\n",
       "      <td>0.0618</td>\n",
       "      <td>82.014</td>\n",
       "      <td>4</td>\n",
       "      <td>0.681</td>\n",
       "    </tr>\n",
       "  </tbody>\n",
       "</table>\n",
       "</div>"
      ],
      "text/plain": [
       "   Weekly.rank  Peak.position  Weeks.on.chart  Features  Acousticness  \\\n",
       "0            6            1.0            17.0         0       0.04270   \n",
       "1           13            2.0             2.0         0       0.00929   \n",
       "2           24           24.0            11.0         0       0.01370   \n",
       "3           26           25.0            16.0         0       0.74900   \n",
       "4           32            4.0            47.0         0       0.19300   \n",
       "\n",
       "   Danceability  Duration  Energy  Explicit  Instrumentalness  Liveness  \\\n",
       "0         0.842    181027   0.734     False               0.0    0.1060   \n",
       "1         0.771    171360   0.671     False               0.0    0.0637   \n",
       "2         0.577    169667   0.833     False               0.0    0.1210   \n",
       "3         0.655    198440   0.560     False               0.0    0.1150   \n",
       "4         0.579    190947   0.904     False               0.0    0.0640   \n",
       "\n",
       "   Loudness  Mode  Popularity  Speechiness    Tempo  TimeSignature  Valence  \n",
       "0    -5.065     0          81       0.0588  137.958              4    0.952  \n",
       "1    -5.617     1          89       0.0553   85.026              4    0.714  \n",
       "2    -3.337     1          81       0.0695  107.936              4    0.580  \n",
       "3    -6.857     1          79       0.0486  140.975              4    0.599  \n",
       "4    -2.729     1          87       0.0618   82.014              4    0.681  "
      ]
     },
     "execution_count": 5,
     "metadata": {},
     "output_type": "execute_result"
    }
   ],
   "source": [
    "df_01 = df_01.drop(columns= [\"Unnamed: 0\", \"Artist\",\"Name\",\"Genre\",\"Writing.Credits\",\"Lyrics\",\"Album\",\"Week\",\"Date\"])\n",
    "df_01['Features'] = df_01['Features'].notna().astype(int)\n",
    "df_01.head()"
   ]
  },
  {
   "cell_type": "code",
   "execution_count": 6,
   "metadata": {},
   "outputs": [
    {
     "data": {
      "text/html": [
       "<div>\n",
       "<style scoped>\n",
       "    .dataframe tbody tr th:only-of-type {\n",
       "        vertical-align: middle;\n",
       "    }\n",
       "\n",
       "    .dataframe tbody tr th {\n",
       "        vertical-align: top;\n",
       "    }\n",
       "\n",
       "    .dataframe thead th {\n",
       "        text-align: right;\n",
       "    }\n",
       "</style>\n",
       "<table border=\"1\" class=\"dataframe\">\n",
       "  <thead>\n",
       "    <tr style=\"text-align: right;\">\n",
       "      <th></th>\n",
       "      <th>Weekly.rank</th>\n",
       "      <th>Peak.position</th>\n",
       "      <th>Weeks.on.chart</th>\n",
       "      <th>Features</th>\n",
       "      <th>Acousticness</th>\n",
       "      <th>Danceability</th>\n",
       "      <th>Duration</th>\n",
       "      <th>Energy</th>\n",
       "      <th>Explicit</th>\n",
       "      <th>Instrumentalness</th>\n",
       "      <th>Liveness</th>\n",
       "      <th>Loudness</th>\n",
       "      <th>Mode</th>\n",
       "      <th>Popularity</th>\n",
       "      <th>Speechiness</th>\n",
       "      <th>Tempo</th>\n",
       "      <th>TimeSignature</th>\n",
       "      <th>Valence</th>\n",
       "    </tr>\n",
       "  </thead>\n",
       "  <tbody>\n",
       "    <tr>\n",
       "      <th>0</th>\n",
       "      <td>6</td>\n",
       "      <td>1.0</td>\n",
       "      <td>17.0</td>\n",
       "      <td>0</td>\n",
       "      <td>0.04270</td>\n",
       "      <td>0.842</td>\n",
       "      <td>181027</td>\n",
       "      <td>0.734</td>\n",
       "      <td>False</td>\n",
       "      <td>0.0</td>\n",
       "      <td>0.1060</td>\n",
       "      <td>-5.065</td>\n",
       "      <td>0</td>\n",
       "      <td>81</td>\n",
       "      <td>0.0588</td>\n",
       "      <td>137.958</td>\n",
       "      <td>4</td>\n",
       "      <td>0.952</td>\n",
       "    </tr>\n",
       "    <tr>\n",
       "      <th>1</th>\n",
       "      <td>13</td>\n",
       "      <td>2.0</td>\n",
       "      <td>2.0</td>\n",
       "      <td>0</td>\n",
       "      <td>0.00929</td>\n",
       "      <td>0.771</td>\n",
       "      <td>171360</td>\n",
       "      <td>0.671</td>\n",
       "      <td>False</td>\n",
       "      <td>0.0</td>\n",
       "      <td>0.0637</td>\n",
       "      <td>-5.617</td>\n",
       "      <td>1</td>\n",
       "      <td>89</td>\n",
       "      <td>0.0553</td>\n",
       "      <td>85.026</td>\n",
       "      <td>4</td>\n",
       "      <td>0.714</td>\n",
       "    </tr>\n",
       "    <tr>\n",
       "      <th>2</th>\n",
       "      <td>24</td>\n",
       "      <td>24.0</td>\n",
       "      <td>11.0</td>\n",
       "      <td>0</td>\n",
       "      <td>0.01370</td>\n",
       "      <td>0.577</td>\n",
       "      <td>169667</td>\n",
       "      <td>0.833</td>\n",
       "      <td>False</td>\n",
       "      <td>0.0</td>\n",
       "      <td>0.1210</td>\n",
       "      <td>-3.337</td>\n",
       "      <td>1</td>\n",
       "      <td>81</td>\n",
       "      <td>0.0695</td>\n",
       "      <td>107.936</td>\n",
       "      <td>4</td>\n",
       "      <td>0.580</td>\n",
       "    </tr>\n",
       "    <tr>\n",
       "      <th>3</th>\n",
       "      <td>26</td>\n",
       "      <td>25.0</td>\n",
       "      <td>16.0</td>\n",
       "      <td>0</td>\n",
       "      <td>0.74900</td>\n",
       "      <td>0.655</td>\n",
       "      <td>198440</td>\n",
       "      <td>0.560</td>\n",
       "      <td>False</td>\n",
       "      <td>0.0</td>\n",
       "      <td>0.1150</td>\n",
       "      <td>-6.857</td>\n",
       "      <td>1</td>\n",
       "      <td>79</td>\n",
       "      <td>0.0486</td>\n",
       "      <td>140.975</td>\n",
       "      <td>4</td>\n",
       "      <td>0.599</td>\n",
       "    </tr>\n",
       "    <tr>\n",
       "      <th>4</th>\n",
       "      <td>32</td>\n",
       "      <td>4.0</td>\n",
       "      <td>47.0</td>\n",
       "      <td>0</td>\n",
       "      <td>0.19300</td>\n",
       "      <td>0.579</td>\n",
       "      <td>190947</td>\n",
       "      <td>0.904</td>\n",
       "      <td>False</td>\n",
       "      <td>0.0</td>\n",
       "      <td>0.0640</td>\n",
       "      <td>-2.729</td>\n",
       "      <td>1</td>\n",
       "      <td>87</td>\n",
       "      <td>0.0618</td>\n",
       "      <td>82.014</td>\n",
       "      <td>4</td>\n",
       "      <td>0.681</td>\n",
       "    </tr>\n",
       "  </tbody>\n",
       "</table>\n",
       "</div>"
      ],
      "text/plain": [
       "   Weekly.rank  Peak.position  Weeks.on.chart  Features  Acousticness  \\\n",
       "0            6            1.0            17.0         0       0.04270   \n",
       "1           13            2.0             2.0         0       0.00929   \n",
       "2           24           24.0            11.0         0       0.01370   \n",
       "3           26           25.0            16.0         0       0.74900   \n",
       "4           32            4.0            47.0         0       0.19300   \n",
       "\n",
       "   Danceability  Duration  Energy  Explicit  Instrumentalness  Liveness  \\\n",
       "0         0.842    181027   0.734     False               0.0    0.1060   \n",
       "1         0.771    171360   0.671     False               0.0    0.0637   \n",
       "2         0.577    169667   0.833     False               0.0    0.1210   \n",
       "3         0.655    198440   0.560     False               0.0    0.1150   \n",
       "4         0.579    190947   0.904     False               0.0    0.0640   \n",
       "\n",
       "   Loudness  Mode  Popularity  Speechiness    Tempo  TimeSignature  Valence  \n",
       "0    -5.065     0          81       0.0588  137.958              4    0.952  \n",
       "1    -5.617     1          89       0.0553   85.026              4    0.714  \n",
       "2    -3.337     1          81       0.0695  107.936              4    0.580  \n",
       "3    -6.857     1          79       0.0486  140.975              4    0.599  \n",
       "4    -2.729     1          87       0.0618   82.014              4    0.681  "
      ]
     },
     "execution_count": 6,
     "metadata": {},
     "output_type": "execute_result"
    }
   ],
   "source": [
    "df_01_dummies = pd.get_dummies(df_01)\n",
    "df_01_dummies.head()"
   ]
  },
  {
   "cell_type": "code",
   "execution_count": 7,
   "metadata": {},
   "outputs": [
    {
     "data": {
      "text/plain": [
       "count    4774.000000\n",
       "mean       39.847926\n",
       "std        21.823721\n",
       "min         0.000000\n",
       "25%        23.000000\n",
       "50%        42.000000\n",
       "75%        58.000000\n",
       "max        89.000000\n",
       "Name: Popularity, dtype: float64"
      ]
     },
     "execution_count": 7,
     "metadata": {},
     "output_type": "execute_result"
    }
   ],
   "source": [
    "df_01_dummies[\"Popularity\"].describe()"
   ]
  },
  {
   "cell_type": "code",
   "execution_count": 8,
   "metadata": {},
   "outputs": [
    {
     "name": "stdout",
     "output_type": "stream",
     "text": [
      "<class 'pandas.core.frame.DataFrame'>\n",
      "Int64Index: 4229 entries, 0 to 4773\n",
      "Data columns (total 18 columns):\n",
      " #   Column            Non-Null Count  Dtype  \n",
      "---  ------            --------------  -----  \n",
      " 0   Weekly.rank       4229 non-null   int64  \n",
      " 1   Peak.position     4229 non-null   float64\n",
      " 2   Weeks.on.chart    4229 non-null   float64\n",
      " 3   Features          4229 non-null   int32  \n",
      " 4   Acousticness      4229 non-null   float64\n",
      " 5   Danceability      4229 non-null   float64\n",
      " 6   Duration          4229 non-null   int64  \n",
      " 7   Energy            4229 non-null   float64\n",
      " 8   Explicit          4229 non-null   bool   \n",
      " 9   Instrumentalness  4229 non-null   float64\n",
      " 10  Liveness          4229 non-null   float64\n",
      " 11  Loudness          4229 non-null   float64\n",
      " 12  Mode              4229 non-null   int64  \n",
      " 13  Popularity        4229 non-null   int64  \n",
      " 14  Speechiness       4229 non-null   float64\n",
      " 15  Tempo             4229 non-null   float64\n",
      " 16  TimeSignature     4229 non-null   int64  \n",
      " 17  Valence           4229 non-null   float64\n",
      "dtypes: bool(1), float64(11), int32(1), int64(5)\n",
      "memory usage: 582.3 KB\n"
     ]
    }
   ],
   "source": [
    "df_01_dummies = df_01_dummies.dropna()\n",
    "df_01_dummies.info()"
   ]
  },
  {
   "cell_type": "code",
   "execution_count": 9,
   "metadata": {},
   "outputs": [
    {
     "data": {
      "text/html": [
       "<div>\n",
       "<style scoped>\n",
       "    .dataframe tbody tr th:only-of-type {\n",
       "        vertical-align: middle;\n",
       "    }\n",
       "\n",
       "    .dataframe tbody tr th {\n",
       "        vertical-align: top;\n",
       "    }\n",
       "\n",
       "    .dataframe thead th {\n",
       "        text-align: right;\n",
       "    }\n",
       "</style>\n",
       "<table border=\"1\" class=\"dataframe\">\n",
       "  <thead>\n",
       "    <tr style=\"text-align: right;\">\n",
       "      <th></th>\n",
       "      <th>Weekly.rank</th>\n",
       "      <th>Peak.position</th>\n",
       "      <th>Weeks.on.chart</th>\n",
       "      <th>Features</th>\n",
       "      <th>Acousticness</th>\n",
       "      <th>Danceability</th>\n",
       "      <th>Duration</th>\n",
       "      <th>Energy</th>\n",
       "      <th>Explicit</th>\n",
       "      <th>Instrumentalness</th>\n",
       "      <th>Liveness</th>\n",
       "      <th>Loudness</th>\n",
       "      <th>Mode</th>\n",
       "      <th>Speechiness</th>\n",
       "      <th>Tempo</th>\n",
       "      <th>TimeSignature</th>\n",
       "      <th>Valence</th>\n",
       "      <th>is_popular</th>\n",
       "    </tr>\n",
       "  </thead>\n",
       "  <tbody>\n",
       "    <tr>\n",
       "      <th>0</th>\n",
       "      <td>6</td>\n",
       "      <td>1.0</td>\n",
       "      <td>17.0</td>\n",
       "      <td>0</td>\n",
       "      <td>0.04270</td>\n",
       "      <td>0.842</td>\n",
       "      <td>181027</td>\n",
       "      <td>0.734</td>\n",
       "      <td>False</td>\n",
       "      <td>0.0</td>\n",
       "      <td>0.1060</td>\n",
       "      <td>-5.065</td>\n",
       "      <td>0</td>\n",
       "      <td>0.0588</td>\n",
       "      <td>137.958</td>\n",
       "      <td>4</td>\n",
       "      <td>0.952</td>\n",
       "      <td>True</td>\n",
       "    </tr>\n",
       "    <tr>\n",
       "      <th>1</th>\n",
       "      <td>13</td>\n",
       "      <td>2.0</td>\n",
       "      <td>2.0</td>\n",
       "      <td>0</td>\n",
       "      <td>0.00929</td>\n",
       "      <td>0.771</td>\n",
       "      <td>171360</td>\n",
       "      <td>0.671</td>\n",
       "      <td>False</td>\n",
       "      <td>0.0</td>\n",
       "      <td>0.0637</td>\n",
       "      <td>-5.617</td>\n",
       "      <td>1</td>\n",
       "      <td>0.0553</td>\n",
       "      <td>85.026</td>\n",
       "      <td>4</td>\n",
       "      <td>0.714</td>\n",
       "      <td>True</td>\n",
       "    </tr>\n",
       "    <tr>\n",
       "      <th>2</th>\n",
       "      <td>24</td>\n",
       "      <td>24.0</td>\n",
       "      <td>11.0</td>\n",
       "      <td>0</td>\n",
       "      <td>0.01370</td>\n",
       "      <td>0.577</td>\n",
       "      <td>169667</td>\n",
       "      <td>0.833</td>\n",
       "      <td>False</td>\n",
       "      <td>0.0</td>\n",
       "      <td>0.1210</td>\n",
       "      <td>-3.337</td>\n",
       "      <td>1</td>\n",
       "      <td>0.0695</td>\n",
       "      <td>107.936</td>\n",
       "      <td>4</td>\n",
       "      <td>0.580</td>\n",
       "      <td>True</td>\n",
       "    </tr>\n",
       "    <tr>\n",
       "      <th>3</th>\n",
       "      <td>26</td>\n",
       "      <td>25.0</td>\n",
       "      <td>16.0</td>\n",
       "      <td>0</td>\n",
       "      <td>0.74900</td>\n",
       "      <td>0.655</td>\n",
       "      <td>198440</td>\n",
       "      <td>0.560</td>\n",
       "      <td>False</td>\n",
       "      <td>0.0</td>\n",
       "      <td>0.1150</td>\n",
       "      <td>-6.857</td>\n",
       "      <td>1</td>\n",
       "      <td>0.0486</td>\n",
       "      <td>140.975</td>\n",
       "      <td>4</td>\n",
       "      <td>0.599</td>\n",
       "      <td>True</td>\n",
       "    </tr>\n",
       "    <tr>\n",
       "      <th>4</th>\n",
       "      <td>32</td>\n",
       "      <td>4.0</td>\n",
       "      <td>47.0</td>\n",
       "      <td>0</td>\n",
       "      <td>0.19300</td>\n",
       "      <td>0.579</td>\n",
       "      <td>190947</td>\n",
       "      <td>0.904</td>\n",
       "      <td>False</td>\n",
       "      <td>0.0</td>\n",
       "      <td>0.0640</td>\n",
       "      <td>-2.729</td>\n",
       "      <td>1</td>\n",
       "      <td>0.0618</td>\n",
       "      <td>82.014</td>\n",
       "      <td>4</td>\n",
       "      <td>0.681</td>\n",
       "      <td>True</td>\n",
       "    </tr>\n",
       "  </tbody>\n",
       "</table>\n",
       "</div>"
      ],
      "text/plain": [
       "   Weekly.rank  Peak.position  Weeks.on.chart  Features  Acousticness  \\\n",
       "0            6            1.0            17.0         0       0.04270   \n",
       "1           13            2.0             2.0         0       0.00929   \n",
       "2           24           24.0            11.0         0       0.01370   \n",
       "3           26           25.0            16.0         0       0.74900   \n",
       "4           32            4.0            47.0         0       0.19300   \n",
       "\n",
       "   Danceability  Duration  Energy  Explicit  Instrumentalness  Liveness  \\\n",
       "0         0.842    181027   0.734     False               0.0    0.1060   \n",
       "1         0.771    171360   0.671     False               0.0    0.0637   \n",
       "2         0.577    169667   0.833     False               0.0    0.1210   \n",
       "3         0.655    198440   0.560     False               0.0    0.1150   \n",
       "4         0.579    190947   0.904     False               0.0    0.0640   \n",
       "\n",
       "   Loudness  Mode  Speechiness    Tempo  TimeSignature  Valence  is_popular  \n",
       "0    -5.065     0       0.0588  137.958              4    0.952        True  \n",
       "1    -5.617     1       0.0553   85.026              4    0.714        True  \n",
       "2    -3.337     1       0.0695  107.936              4    0.580        True  \n",
       "3    -6.857     1       0.0486  140.975              4    0.599        True  \n",
       "4    -2.729     1       0.0618   82.014              4    0.681        True  "
      ]
     },
     "execution_count": 9,
     "metadata": {},
     "output_type": "execute_result"
    }
   ],
   "source": [
    "df_01_dummies[\"is_popular\"] = df_01_dummies[\"Popularity\"] >= 58\n",
    "df_01_dummies = df_01_dummies.drop(columns=[\"Popularity\"])\n",
    "df_01_dummies.head()"
   ]
  },
  {
   "cell_type": "code",
   "execution_count": 10,
   "metadata": {},
   "outputs": [
    {
     "data": {
      "text/plain": [
       "False    3125\n",
       "True     1104\n",
       "Name: is_popular, dtype: int64"
      ]
     },
     "execution_count": 10,
     "metadata": {},
     "output_type": "execute_result"
    }
   ],
   "source": [
    "df_01_dummies[\"is_popular\"].value_counts()"
   ]
  },
  {
   "cell_type": "code",
   "execution_count": 11,
   "metadata": {},
   "outputs": [],
   "source": [
    "# Split our preprocessed data into our features and target arrays\n",
    "X = df_01_dummies.drop(columns = [\"is_popular\"])\n",
    "y = df_01_dummies[\"is_popular\"]\n",
    "# Split the preprocessed data into a training and testing dataset\n",
    "X_train, X_test, y_train, y_test = train_test_split(X, y, random_state=1)"
   ]
  },
  {
   "cell_type": "code",
   "execution_count": 12,
   "metadata": {},
   "outputs": [],
   "source": [
    "# Create a StandardScaler instances\n",
    "scaler = StandardScaler()\n",
    "\n",
    "# Fit the StandardScaler\n",
    "X_scaler = scaler.fit(X_train)\n",
    "\n",
    "# Scale the data\n",
    "X_train_scaled = X_scaler.transform(X_train)\n",
    "X_test_scaled = X_scaler.transform(X_test)"
   ]
  },
  {
   "cell_type": "markdown",
   "metadata": {},
   "source": [
    "## Neural Network"
   ]
  },
  {
   "cell_type": "code",
   "execution_count": 13,
   "metadata": {},
   "outputs": [
    {
     "name": "stdout",
     "output_type": "stream",
     "text": [
      "Model: \"sequential\"\n",
      "_________________________________________________________________\n",
      " Layer (type)                Output Shape              Param #   \n",
      "=================================================================\n",
      " dense (Dense)               (None, 30)                540       \n",
      "                                                                 \n",
      " dense_1 (Dense)             (None, 30)                930       \n",
      "                                                                 \n",
      " dense_2 (Dense)             (None, 30)                930       \n",
      "                                                                 \n",
      " dense_3 (Dense)             (None, 1)                 31        \n",
      "                                                                 \n",
      "=================================================================\n",
      "Total params: 2431 (9.50 KB)\n",
      "Trainable params: 2431 (9.50 KB)\n",
      "Non-trainable params: 0 (0.00 Byte)\n",
      "_________________________________________________________________\n"
     ]
    }
   ],
   "source": [
    "# Define the model - deep neural net, i.e., the number of input features and hidden nodes for each layer.\n",
    "num_input_features = len(X_train_scaled[0])\n",
    "num_neurons_hl1 = 30\n",
    "num_neurons_hl2 = 30\n",
    "num_neurons_hl3 = 30\n",
    "\n",
    "nn = tf.keras.models.Sequential()\n",
    "\n",
    "# First hidden layer\n",
    "nn.add(tf.keras.layers.Dense(units = num_neurons_hl1, input_dim = num_input_features, activation = \"relu\"))\n",
    "\n",
    "# Second hidden layer\n",
    "nn.add(tf.keras.layers.Dense(units = num_neurons_hl2, activation = \"relu\"))\n",
    "\n",
    "# Third hidden layer\n",
    "nn.add(tf.keras.layers.Dense(units = num_neurons_hl3, activation = \"relu\"))\n",
    "\n",
    "# Output layer\n",
    "nn.add(tf.keras.layers.Dense(units = 1, activation = \"sigmoid\"))\n",
    "\n",
    "# Check the structure of the model\n",
    "nn.summary()"
   ]
  },
  {
   "cell_type": "code",
   "execution_count": 14,
   "metadata": {},
   "outputs": [],
   "source": [
    "# Compile the model\n",
    "nn.compile(loss = 'binary_crossentropy', optimizer = 'adam', metrics=['accuracy'])\n"
   ]
  },
  {
   "cell_type": "code",
   "execution_count": 15,
   "metadata": {},
   "outputs": [
    {
     "name": "stdout",
     "output_type": "stream",
     "text": [
      "Epoch 1/50\n",
      "100/100 [==============================] - 1s 899us/step - loss: 0.6056 - accuracy: 0.6988\n",
      "Epoch 2/50\n",
      "100/100 [==============================] - 0s 751us/step - loss: 0.5482 - accuracy: 0.7430\n",
      "Epoch 3/50\n",
      "100/100 [==============================] - 0s 714us/step - loss: 0.5387 - accuracy: 0.7452\n",
      "Epoch 4/50\n",
      "100/100 [==============================] - 0s 726us/step - loss: 0.5322 - accuracy: 0.7499\n",
      "Epoch 5/50\n",
      "100/100 [==============================] - 0s 729us/step - loss: 0.5281 - accuracy: 0.7531\n",
      "Epoch 6/50\n",
      "100/100 [==============================] - 0s 719us/step - loss: 0.5244 - accuracy: 0.7531\n",
      "Epoch 7/50\n",
      "100/100 [==============================] - 0s 725us/step - loss: 0.5198 - accuracy: 0.7553\n",
      "Epoch 8/50\n",
      "100/100 [==============================] - 0s 777us/step - loss: 0.5174 - accuracy: 0.7597\n",
      "Epoch 9/50\n",
      "100/100 [==============================] - 0s 780us/step - loss: 0.5129 - accuracy: 0.7591\n",
      "Epoch 10/50\n",
      "100/100 [==============================] - 0s 724us/step - loss: 0.5084 - accuracy: 0.7616\n",
      "Epoch 11/50\n",
      "100/100 [==============================] - 0s 727us/step - loss: 0.5061 - accuracy: 0.7641\n",
      "Epoch 12/50\n",
      "100/100 [==============================] - 0s 708us/step - loss: 0.5018 - accuracy: 0.7625\n",
      "Epoch 13/50\n",
      "100/100 [==============================] - 0s 715us/step - loss: 0.4995 - accuracy: 0.7616\n",
      "Epoch 14/50\n",
      "100/100 [==============================] - 0s 742us/step - loss: 0.4965 - accuracy: 0.7651\n",
      "Epoch 15/50\n",
      "100/100 [==============================] - 0s 737us/step - loss: 0.4904 - accuracy: 0.7707\n",
      "Epoch 16/50\n",
      "100/100 [==============================] - 0s 747us/step - loss: 0.4876 - accuracy: 0.7660\n",
      "Epoch 17/50\n",
      "100/100 [==============================] - 0s 755us/step - loss: 0.4842 - accuracy: 0.7707\n",
      "Epoch 18/50\n",
      "100/100 [==============================] - 0s 719us/step - loss: 0.4811 - accuracy: 0.7742\n",
      "Epoch 19/50\n",
      "100/100 [==============================] - 0s 722us/step - loss: 0.4765 - accuracy: 0.7736\n",
      "Epoch 20/50\n",
      "100/100 [==============================] - 0s 720us/step - loss: 0.4766 - accuracy: 0.7755\n",
      "Epoch 21/50\n",
      "100/100 [==============================] - 0s 730us/step - loss: 0.4674 - accuracy: 0.7837\n",
      "Epoch 22/50\n",
      "100/100 [==============================] - 0s 717us/step - loss: 0.4636 - accuracy: 0.7833\n",
      "Epoch 23/50\n",
      "100/100 [==============================] - 0s 753us/step - loss: 0.4595 - accuracy: 0.7897\n",
      "Epoch 24/50\n",
      "100/100 [==============================] - 0s 777us/step - loss: 0.4565 - accuracy: 0.7881\n",
      "Epoch 25/50\n",
      "100/100 [==============================] - 0s 773us/step - loss: 0.4520 - accuracy: 0.7919\n",
      "Epoch 26/50\n",
      "100/100 [==============================] - 0s 719us/step - loss: 0.4494 - accuracy: 0.7928\n",
      "Epoch 27/50\n",
      "100/100 [==============================] - 0s 711us/step - loss: 0.4413 - accuracy: 0.7979\n",
      "Epoch 28/50\n",
      "100/100 [==============================] - 0s 722us/step - loss: 0.4438 - accuracy: 0.7985\n",
      "Epoch 29/50\n",
      "100/100 [==============================] - 0s 719us/step - loss: 0.4354 - accuracy: 0.8020\n",
      "Epoch 30/50\n",
      "100/100 [==============================] - 0s 712us/step - loss: 0.4352 - accuracy: 0.8016\n",
      "Epoch 31/50\n",
      "100/100 [==============================] - 0s 711us/step - loss: 0.4305 - accuracy: 0.8026\n",
      "Epoch 32/50\n",
      "100/100 [==============================] - 0s 722us/step - loss: 0.4251 - accuracy: 0.8076\n",
      "Epoch 33/50\n",
      "100/100 [==============================] - 0s 759us/step - loss: 0.4207 - accuracy: 0.8130\n",
      "Epoch 34/50\n",
      "100/100 [==============================] - 0s 754us/step - loss: 0.4185 - accuracy: 0.8127\n",
      "Epoch 35/50\n",
      "100/100 [==============================] - 0s 716us/step - loss: 0.4149 - accuracy: 0.8165\n",
      "Epoch 36/50\n",
      "100/100 [==============================] - 0s 711us/step - loss: 0.4126 - accuracy: 0.8174\n",
      "Epoch 37/50\n",
      "100/100 [==============================] - 0s 741us/step - loss: 0.4075 - accuracy: 0.8177\n",
      "Epoch 38/50\n",
      "100/100 [==============================] - 0s 718us/step - loss: 0.4032 - accuracy: 0.8250\n",
      "Epoch 39/50\n",
      "100/100 [==============================] - 0s 742us/step - loss: 0.4007 - accuracy: 0.8221\n",
      "Epoch 40/50\n",
      "100/100 [==============================] - 0s 779us/step - loss: 0.3973 - accuracy: 0.8288\n",
      "Epoch 41/50\n",
      "100/100 [==============================] - 0s 736us/step - loss: 0.3954 - accuracy: 0.8275\n",
      "Epoch 42/50\n",
      "100/100 [==============================] - 0s 698us/step - loss: 0.3929 - accuracy: 0.8215\n",
      "Epoch 43/50\n",
      "100/100 [==============================] - 0s 718us/step - loss: 0.3868 - accuracy: 0.8275\n",
      "Epoch 44/50\n",
      "100/100 [==============================] - 0s 711us/step - loss: 0.3825 - accuracy: 0.8341\n",
      "Epoch 45/50\n",
      "100/100 [==============================] - 0s 753us/step - loss: 0.3801 - accuracy: 0.8322\n",
      "Epoch 46/50\n",
      "100/100 [==============================] - 0s 776us/step - loss: 0.3812 - accuracy: 0.8303\n",
      "Epoch 47/50\n",
      "100/100 [==============================] - 0s 756us/step - loss: 0.3734 - accuracy: 0.8389\n",
      "Epoch 48/50\n",
      "100/100 [==============================] - 0s 776us/step - loss: 0.3707 - accuracy: 0.8379\n",
      "Epoch 49/50\n",
      "100/100 [==============================] - 0s 748us/step - loss: 0.3710 - accuracy: 0.8379\n",
      "Epoch 50/50\n",
      "100/100 [==============================] - 0s 749us/step - loss: 0.3637 - accuracy: 0.8401\n"
     ]
    }
   ],
   "source": [
    "# Train the model\n",
    "fit_model = nn.fit(X_train_scaled, y_train, epochs = 50)\n"
   ]
  },
  {
   "cell_type": "code",
   "execution_count": 16,
   "metadata": {},
   "outputs": [
    {
     "name": "stdout",
     "output_type": "stream",
     "text": [
      "34/34 - 0s - loss: 0.7090 - accuracy: 0.7070 - 112ms/epoch - 3ms/step\n",
      "Loss: 0.7090135216712952, Accuracy: 0.706994354724884\n"
     ]
    }
   ],
   "source": [
    "# Evaluate the model using the test data\n",
    "model_loss, model_accuracy = nn.evaluate(X_test_scaled,y_test,verbose=2)\n",
    "print(f\"Loss: {model_loss}, Accuracy: {model_accuracy}\")"
   ]
  },
  {
   "cell_type": "markdown",
   "metadata": {},
   "source": [
    "## Logistic Regression"
   ]
  },
  {
   "cell_type": "code",
   "execution_count": 17,
   "metadata": {},
   "outputs": [
    {
     "data": {
      "text/html": [
       "<style>#sk-container-id-1 {color: black;background-color: white;}#sk-container-id-1 pre{padding: 0;}#sk-container-id-1 div.sk-toggleable {background-color: white;}#sk-container-id-1 label.sk-toggleable__label {cursor: pointer;display: block;width: 100%;margin-bottom: 0;padding: 0.3em;box-sizing: border-box;text-align: center;}#sk-container-id-1 label.sk-toggleable__label-arrow:before {content: \"▸\";float: left;margin-right: 0.25em;color: #696969;}#sk-container-id-1 label.sk-toggleable__label-arrow:hover:before {color: black;}#sk-container-id-1 div.sk-estimator:hover label.sk-toggleable__label-arrow:before {color: black;}#sk-container-id-1 div.sk-toggleable__content {max-height: 0;max-width: 0;overflow: hidden;text-align: left;background-color: #f0f8ff;}#sk-container-id-1 div.sk-toggleable__content pre {margin: 0.2em;color: black;border-radius: 0.25em;background-color: #f0f8ff;}#sk-container-id-1 input.sk-toggleable__control:checked~div.sk-toggleable__content {max-height: 200px;max-width: 100%;overflow: auto;}#sk-container-id-1 input.sk-toggleable__control:checked~label.sk-toggleable__label-arrow:before {content: \"▾\";}#sk-container-id-1 div.sk-estimator input.sk-toggleable__control:checked~label.sk-toggleable__label {background-color: #d4ebff;}#sk-container-id-1 div.sk-label input.sk-toggleable__control:checked~label.sk-toggleable__label {background-color: #d4ebff;}#sk-container-id-1 input.sk-hidden--visually {border: 0;clip: rect(1px 1px 1px 1px);clip: rect(1px, 1px, 1px, 1px);height: 1px;margin: -1px;overflow: hidden;padding: 0;position: absolute;width: 1px;}#sk-container-id-1 div.sk-estimator {font-family: monospace;background-color: #f0f8ff;border: 1px dotted black;border-radius: 0.25em;box-sizing: border-box;margin-bottom: 0.5em;}#sk-container-id-1 div.sk-estimator:hover {background-color: #d4ebff;}#sk-container-id-1 div.sk-parallel-item::after {content: \"\";width: 100%;border-bottom: 1px solid gray;flex-grow: 1;}#sk-container-id-1 div.sk-label:hover label.sk-toggleable__label {background-color: #d4ebff;}#sk-container-id-1 div.sk-serial::before {content: \"\";position: absolute;border-left: 1px solid gray;box-sizing: border-box;top: 0;bottom: 0;left: 50%;z-index: 0;}#sk-container-id-1 div.sk-serial {display: flex;flex-direction: column;align-items: center;background-color: white;padding-right: 0.2em;padding-left: 0.2em;position: relative;}#sk-container-id-1 div.sk-item {position: relative;z-index: 1;}#sk-container-id-1 div.sk-parallel {display: flex;align-items: stretch;justify-content: center;background-color: white;position: relative;}#sk-container-id-1 div.sk-item::before, #sk-container-id-1 div.sk-parallel-item::before {content: \"\";position: absolute;border-left: 1px solid gray;box-sizing: border-box;top: 0;bottom: 0;left: 50%;z-index: -1;}#sk-container-id-1 div.sk-parallel-item {display: flex;flex-direction: column;z-index: 1;position: relative;background-color: white;}#sk-container-id-1 div.sk-parallel-item:first-child::after {align-self: flex-end;width: 50%;}#sk-container-id-1 div.sk-parallel-item:last-child::after {align-self: flex-start;width: 50%;}#sk-container-id-1 div.sk-parallel-item:only-child::after {width: 0;}#sk-container-id-1 div.sk-dashed-wrapped {border: 1px dashed gray;margin: 0 0.4em 0.5em 0.4em;box-sizing: border-box;padding-bottom: 0.4em;background-color: white;}#sk-container-id-1 div.sk-label label {font-family: monospace;font-weight: bold;display: inline-block;line-height: 1.2em;}#sk-container-id-1 div.sk-label-container {text-align: center;}#sk-container-id-1 div.sk-container {/* jupyter's `normalize.less` sets `[hidden] { display: none; }` but bootstrap.min.css set `[hidden] { display: none !important; }` so we also need the `!important` here to be able to override the default hidden behavior on the sphinx rendered scikit-learn.org. See: https://github.com/scikit-learn/scikit-learn/issues/21755 */display: inline-block !important;position: relative;}#sk-container-id-1 div.sk-text-repr-fallback {display: none;}</style><div id=\"sk-container-id-1\" class=\"sk-top-container\"><div class=\"sk-text-repr-fallback\"><pre>LogisticRegression(random_state=1)</pre><b>In a Jupyter environment, please rerun this cell to show the HTML representation or trust the notebook. <br />On GitHub, the HTML representation is unable to render, please try loading this page with nbviewer.org.</b></div><div class=\"sk-container\" hidden><div class=\"sk-item\"><div class=\"sk-estimator sk-toggleable\"><input class=\"sk-toggleable__control sk-hidden--visually\" id=\"sk-estimator-id-1\" type=\"checkbox\" checked><label for=\"sk-estimator-id-1\" class=\"sk-toggleable__label sk-toggleable__label-arrow\">LogisticRegression</label><div class=\"sk-toggleable__content\"><pre>LogisticRegression(random_state=1)</pre></div></div></div></div></div>"
      ],
      "text/plain": [
       "LogisticRegression(random_state=1)"
      ]
     },
     "execution_count": 17,
     "metadata": {},
     "output_type": "execute_result"
    }
   ],
   "source": [
    "# Instantiate the Logistic Regression model\n",
    "logistic_regression_model = LogisticRegression(random_state=1)\n",
    "\n",
    "# Fit the model using training data\n",
    "logistic_regression_model.fit(X_train, y_train)"
   ]
  },
  {
   "cell_type": "code",
   "execution_count": 18,
   "metadata": {},
   "outputs": [
    {
     "data": {
      "text/plain": [
       "array([False, False, False, ..., False, False, False])"
      ]
     },
     "execution_count": 18,
     "metadata": {},
     "output_type": "execute_result"
    }
   ],
   "source": [
    "predictions = logistic_regression_model.predict(X_test)\n",
    "predictions"
   ]
  },
  {
   "cell_type": "code",
   "execution_count": 19,
   "metadata": {},
   "outputs": [
    {
     "name": "stdout",
     "output_type": "stream",
     "text": [
      "Balanced Accuracy Score: 0.49934980494148246 %\n"
     ]
    }
   ],
   "source": [
    "# Print the balanced_accuracy score of the model\n",
    "print(f\"Balanced Accuracy Score: {balanced_accuracy_score(y_test,predictions)} %\")"
   ]
  },
  {
   "cell_type": "code",
   "execution_count": 20,
   "metadata": {},
   "outputs": [
    {
     "name": "stdout",
     "output_type": "stream",
     "text": [
      "[[768   1]\n",
      " [289   0]]\n"
     ]
    }
   ],
   "source": [
    "# Generate a confusion matrix for the model\n",
    "cm = confusion_matrix(y_test, predictions)\n",
    "print(cm)"
   ]
  },
  {
   "cell_type": "code",
   "execution_count": 21,
   "metadata": {},
   "outputs": [
    {
     "name": "stdout",
     "output_type": "stream",
     "text": [
      "              precision    recall  f1-score   support\n",
      "\n",
      "       False       0.73      1.00      0.84       769\n",
      "        True       0.00      0.00      0.00       289\n",
      "\n",
      "    accuracy                           0.73      1058\n",
      "   macro avg       0.36      0.50      0.42      1058\n",
      "weighted avg       0.53      0.73      0.61      1058\n",
      "\n"
     ]
    }
   ],
   "source": [
    "# Print the classification report for the model\n",
    "print(classification_report(y_test, predictions))"
   ]
  },
  {
   "cell_type": "markdown",
   "metadata": {},
   "source": [
    "## Logistic Regression Resampled"
   ]
  },
  {
   "cell_type": "code",
   "execution_count": 22,
   "metadata": {},
   "outputs": [],
   "source": [
    "# Instantiate the random oversampler model\n",
    "random_over_sampler_model = RandomOverSampler(random_state=1)\n",
    "\n",
    "# Fit the original training data to the random_oversampler model\n",
    "X_res, y_res = random_over_sampler_model.fit_resample(X_train, y_train)"
   ]
  },
  {
   "cell_type": "code",
   "execution_count": 23,
   "metadata": {},
   "outputs": [
    {
     "name": "stdout",
     "output_type": "stream",
     "text": [
      "True     2356\n",
      "False    2356\n",
      "Name: is_popular, dtype: int64\n"
     ]
    }
   ],
   "source": [
    "# Count the distinct values of the resampled labels data\n",
    "print(y_res.value_counts())"
   ]
  },
  {
   "cell_type": "code",
   "execution_count": 24,
   "metadata": {},
   "outputs": [],
   "source": [
    "# Instantiate the Logistic Regression model\n",
    "# Assign a random_state parameter of 1 to the model\n",
    "logistic_regression_model_resampled = LogisticRegression(random_state=1)\n",
    "\n",
    "# Fit the model using the resampled training data\n",
    "logistic_regression_model_resampled.fit(X_res, y_res)\n",
    "\n",
    "# Make a prediction using the testing data\n",
    "predictions_resampled = logistic_regression_model_resampled.predict(X_test)"
   ]
  },
  {
   "cell_type": "code",
   "execution_count": 25,
   "metadata": {},
   "outputs": [
    {
     "name": "stdout",
     "output_type": "stream",
     "text": [
      "Balanced Accuracy Score Resampled: 0.5 %\n"
     ]
    }
   ],
   "source": [
    "# Print the balanced_accuracy score of the model \n",
    "print(f\"Balanced Accuracy Score Resampled: {balanced_accuracy_score(y_test,predictions_resampled)} %\")"
   ]
  },
  {
   "cell_type": "code",
   "execution_count": 26,
   "metadata": {},
   "outputs": [
    {
     "name": "stdout",
     "output_type": "stream",
     "text": [
      "[[769   0]\n",
      " [289   0]]\n"
     ]
    }
   ],
   "source": [
    "# Generate a confusion matrix for the model\n",
    "cm_resampled = confusion_matrix(y_test, predictions_resampled)\n",
    "print(cm_resampled)"
   ]
  },
  {
   "cell_type": "code",
   "execution_count": 27,
   "metadata": {},
   "outputs": [
    {
     "name": "stdout",
     "output_type": "stream",
     "text": [
      "              precision    recall  f1-score   support\n",
      "\n",
      "       False       0.73      1.00      0.84       769\n",
      "        True       0.00      0.00      0.00       289\n",
      "\n",
      "    accuracy                           0.73      1058\n",
      "   macro avg       0.36      0.50      0.42      1058\n",
      "weighted avg       0.53      0.73      0.61      1058\n",
      "\n"
     ]
    },
    {
     "name": "stderr",
     "output_type": "stream",
     "text": [
      "c:\\Users\\Usuario\\anaconda3\\envs\\dev\\lib\\site-packages\\sklearn\\metrics\\_classification.py:1344: UndefinedMetricWarning: Precision and F-score are ill-defined and being set to 0.0 in labels with no predicted samples. Use `zero_division` parameter to control this behavior.\n",
      "  _warn_prf(average, modifier, msg_start, len(result))\n",
      "c:\\Users\\Usuario\\anaconda3\\envs\\dev\\lib\\site-packages\\sklearn\\metrics\\_classification.py:1344: UndefinedMetricWarning: Precision and F-score are ill-defined and being set to 0.0 in labels with no predicted samples. Use `zero_division` parameter to control this behavior.\n",
      "  _warn_prf(average, modifier, msg_start, len(result))\n",
      "c:\\Users\\Usuario\\anaconda3\\envs\\dev\\lib\\site-packages\\sklearn\\metrics\\_classification.py:1344: UndefinedMetricWarning: Precision and F-score are ill-defined and being set to 0.0 in labels with no predicted samples. Use `zero_division` parameter to control this behavior.\n",
      "  _warn_prf(average, modifier, msg_start, len(result))\n"
     ]
    }
   ],
   "source": [
    "# Print the classification report for the model\n",
    "print(classification_report(y_test, predictions_resampled))"
   ]
  },
  {
   "cell_type": "markdown",
   "metadata": {},
   "source": [
    "# ArtistWeek"
   ]
  },
  {
   "cell_type": "markdown",
   "metadata": {},
   "source": [
    "## Neural Network"
   ]
  },
  {
   "cell_type": "code",
   "execution_count": 28,
   "metadata": {},
   "outputs": [
    {
     "name": "stdout",
     "output_type": "stream",
     "text": [
      "<class 'pandas.core.frame.DataFrame'>\n",
      "RangeIndex: 595 entries, 0 to 594\n",
      "Data columns (total 12 columns):\n",
      " #   Column          Non-Null Count  Dtype  \n",
      "---  ------          --------------  -----  \n",
      " 0   Unnamed: 0      595 non-null    int64  \n",
      " 1   index           595 non-null    int64  \n",
      " 2   Artist          595 non-null    object \n",
      " 3   Followers       130 non-null    float64\n",
      " 4   Genres          129 non-null    object \n",
      " 5   NumAlbums       130 non-null    float64\n",
      " 6   YearFirstAlbum  130 non-null    float64\n",
      " 7   Gender          126 non-null    object \n",
      " 8   Group.Solo      130 non-null    object \n",
      " 9   Features        108 non-null    object \n",
      " 10  Week            595 non-null    object \n",
      " 11  Total streams   595 non-null    float64\n",
      "dtypes: float64(4), int64(2), object(6)\n",
      "memory usage: 55.9+ KB\n",
      "None\n"
     ]
    },
    {
     "data": {
      "text/html": [
       "<div>\n",
       "<style scoped>\n",
       "    .dataframe tbody tr th:only-of-type {\n",
       "        vertical-align: middle;\n",
       "    }\n",
       "\n",
       "    .dataframe tbody tr th {\n",
       "        vertical-align: top;\n",
       "    }\n",
       "\n",
       "    .dataframe thead th {\n",
       "        text-align: right;\n",
       "    }\n",
       "</style>\n",
       "<table border=\"1\" class=\"dataframe\">\n",
       "  <thead>\n",
       "    <tr style=\"text-align: right;\">\n",
       "      <th></th>\n",
       "      <th>Unnamed: 0</th>\n",
       "      <th>index</th>\n",
       "      <th>Artist</th>\n",
       "      <th>Followers</th>\n",
       "      <th>Genres</th>\n",
       "      <th>NumAlbums</th>\n",
       "      <th>YearFirstAlbum</th>\n",
       "      <th>Gender</th>\n",
       "      <th>Group.Solo</th>\n",
       "      <th>Features</th>\n",
       "      <th>Week</th>\n",
       "      <th>Total streams</th>\n",
       "    </tr>\n",
       "  </thead>\n",
       "  <tbody>\n",
       "    <tr>\n",
       "      <th>0</th>\n",
       "      <td>0</td>\n",
       "      <td>0</td>\n",
       "      <td>ed sheeran</td>\n",
       "      <td>52698756.0</td>\n",
       "      <td>pop,uk pop</td>\n",
       "      <td>8.0</td>\n",
       "      <td>2011.0</td>\n",
       "      <td>M</td>\n",
       "      <td>Solo</td>\n",
       "      <td>NaN</td>\n",
       "      <td>2018-07-20</td>\n",
       "      <td>9.361553e+08</td>\n",
       "    </tr>\n",
       "    <tr>\n",
       "      <th>1</th>\n",
       "      <td>1</td>\n",
       "      <td>1</td>\n",
       "      <td>justin bieber</td>\n",
       "      <td>30711450.0</td>\n",
       "      <td>canadian pop,dance pop,pop,post-teen pop</td>\n",
       "      <td>10.0</td>\n",
       "      <td>2009.0</td>\n",
       "      <td>M</td>\n",
       "      <td>Solo</td>\n",
       "      <td>NaN</td>\n",
       "      <td>2018-12-14</td>\n",
       "      <td>4.543449e+07</td>\n",
       "    </tr>\n",
       "    <tr>\n",
       "      <th>2</th>\n",
       "      <td>2</td>\n",
       "      <td>2</td>\n",
       "      <td>jonas brothers</td>\n",
       "      <td>3069527.0</td>\n",
       "      <td>boy band,dance pop,pop,post-teen pop</td>\n",
       "      <td>10.0</td>\n",
       "      <td>2006.0</td>\n",
       "      <td>M</td>\n",
       "      <td>Group</td>\n",
       "      <td>NaN</td>\n",
       "      <td>2019-04-12</td>\n",
       "      <td>1.825584e+08</td>\n",
       "    </tr>\n",
       "    <tr>\n",
       "      <th>3</th>\n",
       "      <td>3</td>\n",
       "      <td>3</td>\n",
       "      <td>drake</td>\n",
       "      <td>41420478.0</td>\n",
       "      <td>canadian hip hop,canadian pop,hip hop,pop rap,...</td>\n",
       "      <td>11.0</td>\n",
       "      <td>2010.0</td>\n",
       "      <td>M</td>\n",
       "      <td>Solo</td>\n",
       "      <td>NaN</td>\n",
       "      <td>2018-07-20</td>\n",
       "      <td>3.441947e+09</td>\n",
       "    </tr>\n",
       "    <tr>\n",
       "      <th>4</th>\n",
       "      <td>4</td>\n",
       "      <td>4</td>\n",
       "      <td>chris brown</td>\n",
       "      <td>9676862.0</td>\n",
       "      <td>dance pop,pop,pop rap,r&amp;b,rap</td>\n",
       "      <td>6.0</td>\n",
       "      <td>2005.0</td>\n",
       "      <td>M</td>\n",
       "      <td>Solo</td>\n",
       "      <td>NaN</td>\n",
       "      <td>2017-11-10</td>\n",
       "      <td>1.383342e+08</td>\n",
       "    </tr>\n",
       "  </tbody>\n",
       "</table>\n",
       "</div>"
      ],
      "text/plain": [
       "   Unnamed: 0  index          Artist   Followers  \\\n",
       "0           0      0      ed sheeran  52698756.0   \n",
       "1           1      1   justin bieber  30711450.0   \n",
       "2           2      2  jonas brothers   3069527.0   \n",
       "3           3      3           drake  41420478.0   \n",
       "4           4      4     chris brown   9676862.0   \n",
       "\n",
       "                                              Genres  NumAlbums  \\\n",
       "0                                         pop,uk pop        8.0   \n",
       "1           canadian pop,dance pop,pop,post-teen pop       10.0   \n",
       "2               boy band,dance pop,pop,post-teen pop       10.0   \n",
       "3  canadian hip hop,canadian pop,hip hop,pop rap,...       11.0   \n",
       "4                      dance pop,pop,pop rap,r&b,rap        6.0   \n",
       "\n",
       "   YearFirstAlbum Gender Group.Solo Features        Week  Total streams  \n",
       "0          2011.0      M       Solo      NaN  2018-07-20   9.361553e+08  \n",
       "1          2009.0      M       Solo      NaN  2018-12-14   4.543449e+07  \n",
       "2          2006.0      M      Group      NaN  2019-04-12   1.825584e+08  \n",
       "3          2010.0      M       Solo      NaN  2018-07-20   3.441947e+09  \n",
       "4          2005.0      M       Solo      NaN  2017-11-10   1.383342e+08  "
      ]
     },
     "execution_count": 28,
     "metadata": {},
     "output_type": "execute_result"
    }
   ],
   "source": [
    "df_02 = pd.read_csv(\"../Resources/ArtistWeek.csv\")\n",
    "print(df_02.info())\n",
    "df_02.head()"
   ]
  },
  {
   "cell_type": "code",
   "execution_count": 29,
   "metadata": {},
   "outputs": [
    {
     "data": {
      "text/plain": [
       "Index(['Unnamed: 0', 'index', 'Artist', 'Followers', 'Genres', 'NumAlbums',\n",
       "       'YearFirstAlbum', 'Gender', 'Group.Solo', 'Features', 'Week',\n",
       "       'Total streams'],\n",
       "      dtype='object')"
      ]
     },
     "execution_count": 29,
     "metadata": {},
     "output_type": "execute_result"
    }
   ],
   "source": [
    "df_02.columns"
   ]
  },
  {
   "cell_type": "code",
   "execution_count": 30,
   "metadata": {},
   "outputs": [
    {
     "data": {
      "text/html": [
       "<div>\n",
       "<style scoped>\n",
       "    .dataframe tbody tr th:only-of-type {\n",
       "        vertical-align: middle;\n",
       "    }\n",
       "\n",
       "    .dataframe tbody tr th {\n",
       "        vertical-align: top;\n",
       "    }\n",
       "\n",
       "    .dataframe thead th {\n",
       "        text-align: right;\n",
       "    }\n",
       "</style>\n",
       "<table border=\"1\" class=\"dataframe\">\n",
       "  <thead>\n",
       "    <tr style=\"text-align: right;\">\n",
       "      <th></th>\n",
       "      <th>Followers</th>\n",
       "      <th>NumAlbums</th>\n",
       "      <th>YearFirstAlbum</th>\n",
       "      <th>Gender</th>\n",
       "      <th>Group.Solo</th>\n",
       "      <th>Features</th>\n",
       "      <th>Total streams</th>\n",
       "    </tr>\n",
       "  </thead>\n",
       "  <tbody>\n",
       "    <tr>\n",
       "      <th>0</th>\n",
       "      <td>52698756.0</td>\n",
       "      <td>8.0</td>\n",
       "      <td>2011.0</td>\n",
       "      <td>M</td>\n",
       "      <td>Solo</td>\n",
       "      <td>0</td>\n",
       "      <td>9.361553e+08</td>\n",
       "    </tr>\n",
       "    <tr>\n",
       "      <th>1</th>\n",
       "      <td>30711450.0</td>\n",
       "      <td>10.0</td>\n",
       "      <td>2009.0</td>\n",
       "      <td>M</td>\n",
       "      <td>Solo</td>\n",
       "      <td>0</td>\n",
       "      <td>4.543449e+07</td>\n",
       "    </tr>\n",
       "    <tr>\n",
       "      <th>2</th>\n",
       "      <td>3069527.0</td>\n",
       "      <td>10.0</td>\n",
       "      <td>2006.0</td>\n",
       "      <td>M</td>\n",
       "      <td>Group</td>\n",
       "      <td>0</td>\n",
       "      <td>1.825584e+08</td>\n",
       "    </tr>\n",
       "    <tr>\n",
       "      <th>3</th>\n",
       "      <td>41420478.0</td>\n",
       "      <td>11.0</td>\n",
       "      <td>2010.0</td>\n",
       "      <td>M</td>\n",
       "      <td>Solo</td>\n",
       "      <td>0</td>\n",
       "      <td>3.441947e+09</td>\n",
       "    </tr>\n",
       "    <tr>\n",
       "      <th>4</th>\n",
       "      <td>9676862.0</td>\n",
       "      <td>6.0</td>\n",
       "      <td>2005.0</td>\n",
       "      <td>M</td>\n",
       "      <td>Solo</td>\n",
       "      <td>0</td>\n",
       "      <td>1.383342e+08</td>\n",
       "    </tr>\n",
       "  </tbody>\n",
       "</table>\n",
       "</div>"
      ],
      "text/plain": [
       "    Followers  NumAlbums  YearFirstAlbum Gender Group.Solo  Features  \\\n",
       "0  52698756.0        8.0          2011.0      M       Solo         0   \n",
       "1  30711450.0       10.0          2009.0      M       Solo         0   \n",
       "2   3069527.0       10.0          2006.0      M      Group         0   \n",
       "3  41420478.0       11.0          2010.0      M       Solo         0   \n",
       "4   9676862.0        6.0          2005.0      M       Solo         0   \n",
       "\n",
       "   Total streams  \n",
       "0   9.361553e+08  \n",
       "1   4.543449e+07  \n",
       "2   1.825584e+08  \n",
       "3   3.441947e+09  \n",
       "4   1.383342e+08  "
      ]
     },
     "execution_count": 30,
     "metadata": {},
     "output_type": "execute_result"
    }
   ],
   "source": [
    "df_02 = df_02.drop(columns= [\"Unnamed: 0\", \"index\",\"Artist\",\"Genres\",\"Week\"])\n",
    "df_02['Features'] = df_02['Features'].notna().astype(int)\n",
    "df_02.head()"
   ]
  },
  {
   "cell_type": "code",
   "execution_count": 31,
   "metadata": {},
   "outputs": [
    {
     "data": {
      "text/html": [
       "<div>\n",
       "<style scoped>\n",
       "    .dataframe tbody tr th:only-of-type {\n",
       "        vertical-align: middle;\n",
       "    }\n",
       "\n",
       "    .dataframe tbody tr th {\n",
       "        vertical-align: top;\n",
       "    }\n",
       "\n",
       "    .dataframe thead th {\n",
       "        text-align: right;\n",
       "    }\n",
       "</style>\n",
       "<table border=\"1\" class=\"dataframe\">\n",
       "  <thead>\n",
       "    <tr style=\"text-align: right;\">\n",
       "      <th></th>\n",
       "      <th>Followers</th>\n",
       "      <th>NumAlbums</th>\n",
       "      <th>YearFirstAlbum</th>\n",
       "      <th>Features</th>\n",
       "      <th>Total streams</th>\n",
       "      <th>Gender_F</th>\n",
       "      <th>Gender_M</th>\n",
       "      <th>Group.Solo_Group</th>\n",
       "      <th>Group.Solo_Solo</th>\n",
       "    </tr>\n",
       "  </thead>\n",
       "  <tbody>\n",
       "    <tr>\n",
       "      <th>0</th>\n",
       "      <td>52698756.0</td>\n",
       "      <td>8.0</td>\n",
       "      <td>2011.0</td>\n",
       "      <td>0</td>\n",
       "      <td>9.361553e+08</td>\n",
       "      <td>0</td>\n",
       "      <td>1</td>\n",
       "      <td>0</td>\n",
       "      <td>1</td>\n",
       "    </tr>\n",
       "    <tr>\n",
       "      <th>1</th>\n",
       "      <td>30711450.0</td>\n",
       "      <td>10.0</td>\n",
       "      <td>2009.0</td>\n",
       "      <td>0</td>\n",
       "      <td>4.543449e+07</td>\n",
       "      <td>0</td>\n",
       "      <td>1</td>\n",
       "      <td>0</td>\n",
       "      <td>1</td>\n",
       "    </tr>\n",
       "    <tr>\n",
       "      <th>2</th>\n",
       "      <td>3069527.0</td>\n",
       "      <td>10.0</td>\n",
       "      <td>2006.0</td>\n",
       "      <td>0</td>\n",
       "      <td>1.825584e+08</td>\n",
       "      <td>0</td>\n",
       "      <td>1</td>\n",
       "      <td>1</td>\n",
       "      <td>0</td>\n",
       "    </tr>\n",
       "    <tr>\n",
       "      <th>3</th>\n",
       "      <td>41420478.0</td>\n",
       "      <td>11.0</td>\n",
       "      <td>2010.0</td>\n",
       "      <td>0</td>\n",
       "      <td>3.441947e+09</td>\n",
       "      <td>0</td>\n",
       "      <td>1</td>\n",
       "      <td>0</td>\n",
       "      <td>1</td>\n",
       "    </tr>\n",
       "    <tr>\n",
       "      <th>4</th>\n",
       "      <td>9676862.0</td>\n",
       "      <td>6.0</td>\n",
       "      <td>2005.0</td>\n",
       "      <td>0</td>\n",
       "      <td>1.383342e+08</td>\n",
       "      <td>0</td>\n",
       "      <td>1</td>\n",
       "      <td>0</td>\n",
       "      <td>1</td>\n",
       "    </tr>\n",
       "  </tbody>\n",
       "</table>\n",
       "</div>"
      ],
      "text/plain": [
       "    Followers  NumAlbums  YearFirstAlbum  Features  Total streams  Gender_F  \\\n",
       "0  52698756.0        8.0          2011.0         0   9.361553e+08         0   \n",
       "1  30711450.0       10.0          2009.0         0   4.543449e+07         0   \n",
       "2   3069527.0       10.0          2006.0         0   1.825584e+08         0   \n",
       "3  41420478.0       11.0          2010.0         0   3.441947e+09         0   \n",
       "4   9676862.0        6.0          2005.0         0   1.383342e+08         0   \n",
       "\n",
       "   Gender_M  Group.Solo_Group  Group.Solo_Solo  \n",
       "0         1                 0                1  \n",
       "1         1                 0                1  \n",
       "2         1                 1                0  \n",
       "3         1                 0                1  \n",
       "4         1                 0                1  "
      ]
     },
     "execution_count": 31,
     "metadata": {},
     "output_type": "execute_result"
    }
   ],
   "source": [
    "df_02_dummies = pd.get_dummies(df_02)\n",
    "df_02_dummies.head()"
   ]
  },
  {
   "cell_type": "code",
   "execution_count": 32,
   "metadata": {},
   "outputs": [
    {
     "data": {
      "text/plain": [
       "count    1.300000e+02\n",
       "mean     6.954067e+06\n",
       "std      8.476361e+06\n",
       "min      1.047000e+04\n",
       "25%      1.916465e+06\n",
       "50%      3.766748e+06\n",
       "75%      8.624010e+06\n",
       "max      5.269876e+07\n",
       "Name: Followers, dtype: float64"
      ]
     },
     "execution_count": 32,
     "metadata": {},
     "output_type": "execute_result"
    }
   ],
   "source": [
    "df_02_dummies[\"Followers\"].describe()"
   ]
  },
  {
   "cell_type": "code",
   "execution_count": 33,
   "metadata": {},
   "outputs": [
    {
     "name": "stdout",
     "output_type": "stream",
     "text": [
      "<class 'pandas.core.frame.DataFrame'>\n",
      "Int64Index: 130 entries, 0 to 129\n",
      "Data columns (total 9 columns):\n",
      " #   Column            Non-Null Count  Dtype  \n",
      "---  ------            --------------  -----  \n",
      " 0   Followers         130 non-null    float64\n",
      " 1   NumAlbums         130 non-null    float64\n",
      " 2   YearFirstAlbum    130 non-null    float64\n",
      " 3   Features          130 non-null    int32  \n",
      " 4   Total streams     130 non-null    float64\n",
      " 5   Gender_F          130 non-null    uint8  \n",
      " 6   Gender_M          130 non-null    uint8  \n",
      " 7   Group.Solo_Group  130 non-null    uint8  \n",
      " 8   Group.Solo_Solo   130 non-null    uint8  \n",
      "dtypes: float64(4), int32(1), uint8(4)\n",
      "memory usage: 6.1 KB\n"
     ]
    }
   ],
   "source": [
    "df_02_dummies = df_02_dummies.dropna()\n",
    "df_02_dummies.info()"
   ]
  },
  {
   "cell_type": "code",
   "execution_count": 34,
   "metadata": {},
   "outputs": [
    {
     "data": {
      "text/html": [
       "<div>\n",
       "<style scoped>\n",
       "    .dataframe tbody tr th:only-of-type {\n",
       "        vertical-align: middle;\n",
       "    }\n",
       "\n",
       "    .dataframe tbody tr th {\n",
       "        vertical-align: top;\n",
       "    }\n",
       "\n",
       "    .dataframe thead th {\n",
       "        text-align: right;\n",
       "    }\n",
       "</style>\n",
       "<table border=\"1\" class=\"dataframe\">\n",
       "  <thead>\n",
       "    <tr style=\"text-align: right;\">\n",
       "      <th></th>\n",
       "      <th>NumAlbums</th>\n",
       "      <th>YearFirstAlbum</th>\n",
       "      <th>Features</th>\n",
       "      <th>Total streams</th>\n",
       "      <th>Gender_F</th>\n",
       "      <th>Gender_M</th>\n",
       "      <th>Group.Solo_Group</th>\n",
       "      <th>Group.Solo_Solo</th>\n",
       "      <th>is_popular</th>\n",
       "    </tr>\n",
       "  </thead>\n",
       "  <tbody>\n",
       "    <tr>\n",
       "      <th>0</th>\n",
       "      <td>8.0</td>\n",
       "      <td>2011.0</td>\n",
       "      <td>0</td>\n",
       "      <td>9.361553e+08</td>\n",
       "      <td>0</td>\n",
       "      <td>1</td>\n",
       "      <td>0</td>\n",
       "      <td>1</td>\n",
       "      <td>True</td>\n",
       "    </tr>\n",
       "    <tr>\n",
       "      <th>1</th>\n",
       "      <td>10.0</td>\n",
       "      <td>2009.0</td>\n",
       "      <td>0</td>\n",
       "      <td>4.543449e+07</td>\n",
       "      <td>0</td>\n",
       "      <td>1</td>\n",
       "      <td>0</td>\n",
       "      <td>1</td>\n",
       "      <td>True</td>\n",
       "    </tr>\n",
       "    <tr>\n",
       "      <th>2</th>\n",
       "      <td>10.0</td>\n",
       "      <td>2006.0</td>\n",
       "      <td>0</td>\n",
       "      <td>1.825584e+08</td>\n",
       "      <td>0</td>\n",
       "      <td>1</td>\n",
       "      <td>1</td>\n",
       "      <td>0</td>\n",
       "      <td>False</td>\n",
       "    </tr>\n",
       "    <tr>\n",
       "      <th>3</th>\n",
       "      <td>11.0</td>\n",
       "      <td>2010.0</td>\n",
       "      <td>0</td>\n",
       "      <td>3.441947e+09</td>\n",
       "      <td>0</td>\n",
       "      <td>1</td>\n",
       "      <td>0</td>\n",
       "      <td>1</td>\n",
       "      <td>True</td>\n",
       "    </tr>\n",
       "    <tr>\n",
       "      <th>4</th>\n",
       "      <td>6.0</td>\n",
       "      <td>2005.0</td>\n",
       "      <td>0</td>\n",
       "      <td>1.383342e+08</td>\n",
       "      <td>0</td>\n",
       "      <td>1</td>\n",
       "      <td>0</td>\n",
       "      <td>1</td>\n",
       "      <td>True</td>\n",
       "    </tr>\n",
       "  </tbody>\n",
       "</table>\n",
       "</div>"
      ],
      "text/plain": [
       "   NumAlbums  YearFirstAlbum  Features  Total streams  Gender_F  Gender_M  \\\n",
       "0        8.0          2011.0         0   9.361553e+08         0         1   \n",
       "1       10.0          2009.0         0   4.543449e+07         0         1   \n",
       "2       10.0          2006.0         0   1.825584e+08         0         1   \n",
       "3       11.0          2010.0         0   3.441947e+09         0         1   \n",
       "4        6.0          2005.0         0   1.383342e+08         0         1   \n",
       "\n",
       "   Group.Solo_Group  Group.Solo_Solo  is_popular  \n",
       "0                 0                1        True  \n",
       "1                 0                1        True  \n",
       "2                 1                0       False  \n",
       "3                 0                1        True  \n",
       "4                 0                1        True  "
      ]
     },
     "execution_count": 34,
     "metadata": {},
     "output_type": "execute_result"
    }
   ],
   "source": [
    "df_02_dummies[\"is_popular\"] = df_02_dummies[\"Followers\"] >= 8624010\n",
    "df_02_dummies = df_02_dummies.drop(columns=[\"Followers\"])\n",
    "df_02_dummies.head()"
   ]
  },
  {
   "cell_type": "code",
   "execution_count": 35,
   "metadata": {},
   "outputs": [
    {
     "data": {
      "text/plain": [
       "False    97\n",
       "True     33\n",
       "Name: is_popular, dtype: int64"
      ]
     },
     "execution_count": 35,
     "metadata": {},
     "output_type": "execute_result"
    }
   ],
   "source": [
    "df_02_dummies[\"is_popular\"].value_counts()"
   ]
  },
  {
   "cell_type": "code",
   "execution_count": 36,
   "metadata": {},
   "outputs": [],
   "source": [
    "\n",
    "# Split our preprocessed data into our features and target arrays\n",
    "X = df_02_dummies.drop(columns = [\"is_popular\"])\n",
    "y = df_02_dummies[\"is_popular\"]\n",
    "# Split the preprocessed data into a training and testing dataset\n",
    "X_train, X_test, y_train, y_test = train_test_split(X, y, random_state=1)"
   ]
  },
  {
   "cell_type": "code",
   "execution_count": 37,
   "metadata": {},
   "outputs": [],
   "source": [
    "# Create a StandardScaler instances\n",
    "scaler = StandardScaler()\n",
    "\n",
    "# Fit the StandardScaler\n",
    "X_scaler = scaler.fit(X_train)\n",
    "\n",
    "# Scale the data\n",
    "X_train_scaled = X_scaler.transform(X_train)\n",
    "X_test_scaled = X_scaler.transform(X_test)"
   ]
  },
  {
   "cell_type": "code",
   "execution_count": 38,
   "metadata": {},
   "outputs": [
    {
     "name": "stdout",
     "output_type": "stream",
     "text": [
      "Model: \"sequential_1\"\n",
      "_________________________________________________________________\n",
      " Layer (type)                Output Shape              Param #   \n",
      "=================================================================\n",
      " dense_4 (Dense)             (None, 30)                270       \n",
      "                                                                 \n",
      " dense_5 (Dense)             (None, 30)                930       \n",
      "                                                                 \n",
      " dense_6 (Dense)             (None, 30)                930       \n",
      "                                                                 \n",
      " dense_7 (Dense)             (None, 1)                 31        \n",
      "                                                                 \n",
      "=================================================================\n",
      "Total params: 2161 (8.44 KB)\n",
      "Trainable params: 2161 (8.44 KB)\n",
      "Non-trainable params: 0 (0.00 Byte)\n",
      "_________________________________________________________________\n"
     ]
    }
   ],
   "source": [
    "# Define the model - deep neural net, i.e., the number of input features and hidden nodes for each layer.\n",
    "num_input_features = len(X_train_scaled[0])\n",
    "num_neurons_hl1 = 30\n",
    "num_neurons_hl2 = 30\n",
    "num_neurons_hl3 = 30\n",
    "\n",
    "nn = tf.keras.models.Sequential()\n",
    "\n",
    "# First hidden layer\n",
    "nn.add(tf.keras.layers.Dense(units = num_neurons_hl1, input_dim = num_input_features, activation = \"relu\"))\n",
    "\n",
    "# Second hidden layer\n",
    "nn.add(tf.keras.layers.Dense(units = num_neurons_hl2, activation = \"relu\"))\n",
    "\n",
    "# Third hidden layer\n",
    "nn.add(tf.keras.layers.Dense(units = num_neurons_hl3, activation = \"relu\"))\n",
    "\n",
    "# Output layer\n",
    "nn.add(tf.keras.layers.Dense(units = 1, activation = \"sigmoid\"))\n",
    "\n",
    "# Check the structure of the model\n",
    "nn.summary()"
   ]
  },
  {
   "cell_type": "code",
   "execution_count": 39,
   "metadata": {},
   "outputs": [],
   "source": [
    "# Compile the model\n",
    "nn.compile(loss = 'binary_crossentropy', optimizer = 'adam', metrics=['accuracy'])\n"
   ]
  },
  {
   "cell_type": "code",
   "execution_count": 40,
   "metadata": {},
   "outputs": [
    {
     "name": "stdout",
     "output_type": "stream",
     "text": [
      "Epoch 1/50\n"
     ]
    },
    {
     "name": "stdout",
     "output_type": "stream",
     "text": [
      "4/4 [==============================] - 0s 2ms/step - loss: 0.7460 - accuracy: 0.3402\n",
      "Epoch 2/50\n",
      "4/4 [==============================] - 0s 1ms/step - loss: 0.7146 - accuracy: 0.3402\n",
      "Epoch 3/50\n",
      "4/4 [==============================] - 0s 1ms/step - loss: 0.6947 - accuracy: 0.5052\n",
      "Epoch 4/50\n",
      "4/4 [==============================] - 0s 1ms/step - loss: 0.6789 - accuracy: 0.6701\n",
      "Epoch 5/50\n",
      "4/4 [==============================] - 0s 1ms/step - loss: 0.6626 - accuracy: 0.6907\n",
      "Epoch 6/50\n",
      "4/4 [==============================] - 0s 1ms/step - loss: 0.6488 - accuracy: 0.7423\n",
      "Epoch 7/50\n",
      "4/4 [==============================] - 0s 2ms/step - loss: 0.6347 - accuracy: 0.8144\n",
      "Epoch 8/50\n",
      "4/4 [==============================] - 0s 1ms/step - loss: 0.6235 - accuracy: 0.8144\n",
      "Epoch 9/50\n",
      "4/4 [==============================] - 0s 1ms/step - loss: 0.6131 - accuracy: 0.8041\n",
      "Epoch 10/50\n",
      "4/4 [==============================] - 0s 2ms/step - loss: 0.6021 - accuracy: 0.8041\n",
      "Epoch 11/50\n",
      "4/4 [==============================] - 0s 1ms/step - loss: 0.5905 - accuracy: 0.8041\n",
      "Epoch 12/50\n",
      "4/4 [==============================] - 0s 1ms/step - loss: 0.5801 - accuracy: 0.8041\n",
      "Epoch 13/50\n",
      "4/4 [==============================] - 0s 1ms/step - loss: 0.5672 - accuracy: 0.8041\n",
      "Epoch 14/50\n",
      "4/4 [==============================] - 0s 1000us/step - loss: 0.5561 - accuracy: 0.8041\n",
      "Epoch 15/50\n",
      "4/4 [==============================] - 0s 1ms/step - loss: 0.5462 - accuracy: 0.8041\n",
      "Epoch 16/50\n",
      "4/4 [==============================] - 0s 2ms/step - loss: 0.5385 - accuracy: 0.7938\n",
      "Epoch 17/50\n",
      "4/4 [==============================] - 0s 1ms/step - loss: 0.5324 - accuracy: 0.7938\n",
      "Epoch 18/50\n",
      "4/4 [==============================] - 0s 1ms/step - loss: 0.5252 - accuracy: 0.7938\n",
      "Epoch 19/50\n",
      "4/4 [==============================] - 0s 1ms/step - loss: 0.5186 - accuracy: 0.7938\n",
      "Epoch 20/50\n",
      "4/4 [==============================] - 0s 2ms/step - loss: 0.5103 - accuracy: 0.8041\n",
      "Epoch 21/50\n",
      "4/4 [==============================] - 0s 1ms/step - loss: 0.5008 - accuracy: 0.8247\n",
      "Epoch 22/50\n",
      "4/4 [==============================] - 0s 1ms/step - loss: 0.4909 - accuracy: 0.8247\n",
      "Epoch 23/50\n",
      "4/4 [==============================] - 0s 1ms/step - loss: 0.4803 - accuracy: 0.8041\n",
      "Epoch 24/50\n",
      "4/4 [==============================] - 0s 1ms/step - loss: 0.4697 - accuracy: 0.8041\n",
      "Epoch 25/50\n",
      "4/4 [==============================] - 0s 1ms/step - loss: 0.4604 - accuracy: 0.8041\n",
      "Epoch 26/50\n",
      "4/4 [==============================] - 0s 1000us/step - loss: 0.4516 - accuracy: 0.8041\n",
      "Epoch 27/50\n",
      "4/4 [==============================] - 0s 1ms/step - loss: 0.4450 - accuracy: 0.8454\n",
      "Epoch 28/50\n",
      "4/4 [==============================] - 0s 4ms/step - loss: 0.4386 - accuracy: 0.8454\n",
      "Epoch 29/50\n",
      "4/4 [==============================] - 0s 2ms/step - loss: 0.4318 - accuracy: 0.8454\n",
      "Epoch 30/50\n",
      "4/4 [==============================] - 0s 3ms/step - loss: 0.4246 - accuracy: 0.8454\n",
      "Epoch 31/50\n",
      "4/4 [==============================] - 0s 1ms/step - loss: 0.4184 - accuracy: 0.8454\n",
      "Epoch 32/50\n",
      "4/4 [==============================] - 0s 1ms/step - loss: 0.4138 - accuracy: 0.8454\n",
      "Epoch 33/50\n",
      "4/4 [==============================] - 0s 1ms/step - loss: 0.4083 - accuracy: 0.8351\n",
      "Epoch 34/50\n",
      "4/4 [==============================] - 0s 1ms/step - loss: 0.4036 - accuracy: 0.8454\n",
      "Epoch 35/50\n",
      "4/4 [==============================] - 0s 1ms/step - loss: 0.4022 - accuracy: 0.8351\n",
      "Epoch 36/50\n",
      "4/4 [==============================] - 0s 1ms/step - loss: 0.4005 - accuracy: 0.8454\n",
      "Epoch 37/50\n",
      "4/4 [==============================] - 0s 1ms/step - loss: 0.3947 - accuracy: 0.8454\n",
      "Epoch 38/50\n",
      "4/4 [==============================] - 0s 1000us/step - loss: 0.3897 - accuracy: 0.8454\n",
      "Epoch 39/50\n",
      "4/4 [==============================] - 0s 1ms/step - loss: 0.3858 - accuracy: 0.8247\n",
      "Epoch 40/50\n",
      "4/4 [==============================] - 0s 1ms/step - loss: 0.3844 - accuracy: 0.8144\n",
      "Epoch 41/50\n",
      "4/4 [==============================] - 0s 1ms/step - loss: 0.3810 - accuracy: 0.8041\n",
      "Epoch 42/50\n",
      "4/4 [==============================] - 0s 1ms/step - loss: 0.3810 - accuracy: 0.8247\n",
      "Epoch 43/50\n",
      "4/4 [==============================] - 0s 1ms/step - loss: 0.3808 - accuracy: 0.8247\n",
      "Epoch 44/50\n",
      "4/4 [==============================] - 0s 1ms/step - loss: 0.3800 - accuracy: 0.8247\n",
      "Epoch 45/50\n",
      "4/4 [==============================] - 0s 1ms/step - loss: 0.3806 - accuracy: 0.8247\n",
      "Epoch 46/50\n",
      "4/4 [==============================] - 0s 1ms/step - loss: 0.3848 - accuracy: 0.8351\n",
      "Epoch 47/50\n",
      "4/4 [==============================] - 0s 1ms/step - loss: 0.3861 - accuracy: 0.8247\n",
      "Epoch 48/50\n",
      "4/4 [==============================] - 0s 1ms/step - loss: 0.3882 - accuracy: 0.8351\n",
      "Epoch 49/50\n",
      "4/4 [==============================] - 0s 1ms/step - loss: 0.3910 - accuracy: 0.8351\n",
      "Epoch 50/50\n",
      "4/4 [==============================] - 0s 1ms/step - loss: 0.3926 - accuracy: 0.8351\n"
     ]
    }
   ],
   "source": [
    "# Train the model\n",
    "fit_model = nn.fit(X_train_scaled, y_train, epochs = 50)\n"
   ]
  },
  {
   "cell_type": "code",
   "execution_count": 41,
   "metadata": {},
   "outputs": [
    {
     "name": "stdout",
     "output_type": "stream",
     "text": [
      "2/2 - 0s - loss: 0.4296 - accuracy: 0.8788 - 67ms/epoch - 34ms/step\n",
      "Loss: 0.4295934736728668, Accuracy: 0.8787878751754761\n"
     ]
    }
   ],
   "source": [
    "# Evaluate the model using the test data\n",
    "model_loss, model_accuracy = nn.evaluate(X_test_scaled,y_test,verbose=2)\n",
    "print(f\"Loss: {model_loss}, Accuracy: {model_accuracy}\")"
   ]
  },
  {
   "cell_type": "markdown",
   "metadata": {},
   "source": [
    "## Logistic Regression"
   ]
  },
  {
   "cell_type": "code",
   "execution_count": 42,
   "metadata": {},
   "outputs": [
    {
     "data": {
      "text/html": [
       "<style>#sk-container-id-2 {color: black;background-color: white;}#sk-container-id-2 pre{padding: 0;}#sk-container-id-2 div.sk-toggleable {background-color: white;}#sk-container-id-2 label.sk-toggleable__label {cursor: pointer;display: block;width: 100%;margin-bottom: 0;padding: 0.3em;box-sizing: border-box;text-align: center;}#sk-container-id-2 label.sk-toggleable__label-arrow:before {content: \"▸\";float: left;margin-right: 0.25em;color: #696969;}#sk-container-id-2 label.sk-toggleable__label-arrow:hover:before {color: black;}#sk-container-id-2 div.sk-estimator:hover label.sk-toggleable__label-arrow:before {color: black;}#sk-container-id-2 div.sk-toggleable__content {max-height: 0;max-width: 0;overflow: hidden;text-align: left;background-color: #f0f8ff;}#sk-container-id-2 div.sk-toggleable__content pre {margin: 0.2em;color: black;border-radius: 0.25em;background-color: #f0f8ff;}#sk-container-id-2 input.sk-toggleable__control:checked~div.sk-toggleable__content {max-height: 200px;max-width: 100%;overflow: auto;}#sk-container-id-2 input.sk-toggleable__control:checked~label.sk-toggleable__label-arrow:before {content: \"▾\";}#sk-container-id-2 div.sk-estimator input.sk-toggleable__control:checked~label.sk-toggleable__label {background-color: #d4ebff;}#sk-container-id-2 div.sk-label input.sk-toggleable__control:checked~label.sk-toggleable__label {background-color: #d4ebff;}#sk-container-id-2 input.sk-hidden--visually {border: 0;clip: rect(1px 1px 1px 1px);clip: rect(1px, 1px, 1px, 1px);height: 1px;margin: -1px;overflow: hidden;padding: 0;position: absolute;width: 1px;}#sk-container-id-2 div.sk-estimator {font-family: monospace;background-color: #f0f8ff;border: 1px dotted black;border-radius: 0.25em;box-sizing: border-box;margin-bottom: 0.5em;}#sk-container-id-2 div.sk-estimator:hover {background-color: #d4ebff;}#sk-container-id-2 div.sk-parallel-item::after {content: \"\";width: 100%;border-bottom: 1px solid gray;flex-grow: 1;}#sk-container-id-2 div.sk-label:hover label.sk-toggleable__label {background-color: #d4ebff;}#sk-container-id-2 div.sk-serial::before {content: \"\";position: absolute;border-left: 1px solid gray;box-sizing: border-box;top: 0;bottom: 0;left: 50%;z-index: 0;}#sk-container-id-2 div.sk-serial {display: flex;flex-direction: column;align-items: center;background-color: white;padding-right: 0.2em;padding-left: 0.2em;position: relative;}#sk-container-id-2 div.sk-item {position: relative;z-index: 1;}#sk-container-id-2 div.sk-parallel {display: flex;align-items: stretch;justify-content: center;background-color: white;position: relative;}#sk-container-id-2 div.sk-item::before, #sk-container-id-2 div.sk-parallel-item::before {content: \"\";position: absolute;border-left: 1px solid gray;box-sizing: border-box;top: 0;bottom: 0;left: 50%;z-index: -1;}#sk-container-id-2 div.sk-parallel-item {display: flex;flex-direction: column;z-index: 1;position: relative;background-color: white;}#sk-container-id-2 div.sk-parallel-item:first-child::after {align-self: flex-end;width: 50%;}#sk-container-id-2 div.sk-parallel-item:last-child::after {align-self: flex-start;width: 50%;}#sk-container-id-2 div.sk-parallel-item:only-child::after {width: 0;}#sk-container-id-2 div.sk-dashed-wrapped {border: 1px dashed gray;margin: 0 0.4em 0.5em 0.4em;box-sizing: border-box;padding-bottom: 0.4em;background-color: white;}#sk-container-id-2 div.sk-label label {font-family: monospace;font-weight: bold;display: inline-block;line-height: 1.2em;}#sk-container-id-2 div.sk-label-container {text-align: center;}#sk-container-id-2 div.sk-container {/* jupyter's `normalize.less` sets `[hidden] { display: none; }` but bootstrap.min.css set `[hidden] { display: none !important; }` so we also need the `!important` here to be able to override the default hidden behavior on the sphinx rendered scikit-learn.org. See: https://github.com/scikit-learn/scikit-learn/issues/21755 */display: inline-block !important;position: relative;}#sk-container-id-2 div.sk-text-repr-fallback {display: none;}</style><div id=\"sk-container-id-2\" class=\"sk-top-container\"><div class=\"sk-text-repr-fallback\"><pre>LogisticRegression(random_state=1)</pre><b>In a Jupyter environment, please rerun this cell to show the HTML representation or trust the notebook. <br />On GitHub, the HTML representation is unable to render, please try loading this page with nbviewer.org.</b></div><div class=\"sk-container\" hidden><div class=\"sk-item\"><div class=\"sk-estimator sk-toggleable\"><input class=\"sk-toggleable__control sk-hidden--visually\" id=\"sk-estimator-id-2\" type=\"checkbox\" checked><label for=\"sk-estimator-id-2\" class=\"sk-toggleable__label sk-toggleable__label-arrow\">LogisticRegression</label><div class=\"sk-toggleable__content\"><pre>LogisticRegression(random_state=1)</pre></div></div></div></div></div>"
      ],
      "text/plain": [
       "LogisticRegression(random_state=1)"
      ]
     },
     "execution_count": 42,
     "metadata": {},
     "output_type": "execute_result"
    }
   ],
   "source": [
    "# Instantiate the Logistic Regression model\n",
    "logistic_regression_model = LogisticRegression(random_state=1)\n",
    "\n",
    "# Fit the model using training data\n",
    "logistic_regression_model.fit(X_train, y_train)"
   ]
  },
  {
   "cell_type": "code",
   "execution_count": 43,
   "metadata": {},
   "outputs": [
    {
     "data": {
      "text/plain": [
       "array([ True,  True,  True,  True,  True,  True,  True,  True,  True,\n",
       "        True,  True,  True,  True,  True,  True,  True,  True,  True,\n",
       "        True,  True,  True,  True,  True,  True,  True,  True,  True,\n",
       "        True,  True,  True,  True,  True,  True])"
      ]
     },
     "execution_count": 43,
     "metadata": {},
     "output_type": "execute_result"
    }
   ],
   "source": [
    "predictions = logistic_regression_model.predict(X_test)\n",
    "predictions"
   ]
  },
  {
   "cell_type": "code",
   "execution_count": 44,
   "metadata": {},
   "outputs": [
    {
     "name": "stdout",
     "output_type": "stream",
     "text": [
      "Balanced Accuracy Score: 0.5 %\n"
     ]
    }
   ],
   "source": [
    "# Print the balanced_accuracy score of the model\n",
    "print(f\"Balanced Accuracy Score: {balanced_accuracy_score(y_test,predictions)} %\")"
   ]
  },
  {
   "cell_type": "code",
   "execution_count": 45,
   "metadata": {},
   "outputs": [
    {
     "name": "stdout",
     "output_type": "stream",
     "text": [
      "[[ 0 28]\n",
      " [ 0  5]]\n"
     ]
    }
   ],
   "source": [
    "# Generate a confusion matrix for the model\n",
    "cm = confusion_matrix(y_test, predictions)\n",
    "print(cm)"
   ]
  },
  {
   "cell_type": "code",
   "execution_count": 46,
   "metadata": {},
   "outputs": [
    {
     "name": "stdout",
     "output_type": "stream",
     "text": [
      "              precision    recall  f1-score   support\n",
      "\n",
      "       False       0.00      0.00      0.00        28\n",
      "        True       0.15      1.00      0.26         5\n",
      "\n",
      "    accuracy                           0.15        33\n",
      "   macro avg       0.08      0.50      0.13        33\n",
      "weighted avg       0.02      0.15      0.04        33\n",
      "\n"
     ]
    },
    {
     "name": "stderr",
     "output_type": "stream",
     "text": [
      "c:\\Users\\Usuario\\anaconda3\\envs\\dev\\lib\\site-packages\\sklearn\\metrics\\_classification.py:1344: UndefinedMetricWarning: Precision and F-score are ill-defined and being set to 0.0 in labels with no predicted samples. Use `zero_division` parameter to control this behavior.\n",
      "  _warn_prf(average, modifier, msg_start, len(result))\n",
      "c:\\Users\\Usuario\\anaconda3\\envs\\dev\\lib\\site-packages\\sklearn\\metrics\\_classification.py:1344: UndefinedMetricWarning: Precision and F-score are ill-defined and being set to 0.0 in labels with no predicted samples. Use `zero_division` parameter to control this behavior.\n",
      "  _warn_prf(average, modifier, msg_start, len(result))\n",
      "c:\\Users\\Usuario\\anaconda3\\envs\\dev\\lib\\site-packages\\sklearn\\metrics\\_classification.py:1344: UndefinedMetricWarning: Precision and F-score are ill-defined and being set to 0.0 in labels with no predicted samples. Use `zero_division` parameter to control this behavior.\n",
      "  _warn_prf(average, modifier, msg_start, len(result))\n"
     ]
    }
   ],
   "source": [
    "# Print the classification report for the model\n",
    "print(classification_report(y_test, predictions))"
   ]
  },
  {
   "cell_type": "markdown",
   "metadata": {},
   "source": [
    "## Logistic Regression Resampled"
   ]
  },
  {
   "cell_type": "code",
   "execution_count": 47,
   "metadata": {},
   "outputs": [],
   "source": [
    "# Instantiate the random oversampler model\n",
    "random_over_sampler_model = RandomOverSampler(random_state=1)\n",
    "\n",
    "# Fit the original training data to the random_oversampler model\n",
    "X_res, y_res = random_over_sampler_model.fit_resample(X_train, y_train)"
   ]
  },
  {
   "cell_type": "code",
   "execution_count": 48,
   "metadata": {},
   "outputs": [
    {
     "name": "stdout",
     "output_type": "stream",
     "text": [
      "False    69\n",
      "True     69\n",
      "Name: is_popular, dtype: int64\n"
     ]
    }
   ],
   "source": [
    "# Count the distinct values of the resampled labels data\n",
    "print(y_res.value_counts())"
   ]
  },
  {
   "cell_type": "code",
   "execution_count": 49,
   "metadata": {},
   "outputs": [],
   "source": [
    "# Instantiate the Logistic Regression model\n",
    "# Assign a random_state parameter of 1 to the model\n",
    "logistic_regression_model_resampled = LogisticRegression(random_state=1)\n",
    "\n",
    "# Fit the model using the resampled training data\n",
    "logistic_regression_model_resampled.fit(X_res, y_res)\n",
    "\n",
    "# Make a prediction using the testing data\n",
    "predictions_resampled = logistic_regression_model_resampled.predict(X_test)"
   ]
  },
  {
   "cell_type": "code",
   "execution_count": 50,
   "metadata": {},
   "outputs": [
    {
     "name": "stdout",
     "output_type": "stream",
     "text": [
      "Balanced Accuracy Score Resampled: 0.5 %\n"
     ]
    }
   ],
   "source": [
    "# Print the balanced_accuracy score of the model \n",
    "print(f\"Balanced Accuracy Score Resampled: {balanced_accuracy_score(y_test,predictions_resampled)} %\")"
   ]
  },
  {
   "cell_type": "code",
   "execution_count": 51,
   "metadata": {},
   "outputs": [
    {
     "name": "stdout",
     "output_type": "stream",
     "text": [
      "[[ 0 28]\n",
      " [ 0  5]]\n"
     ]
    }
   ],
   "source": [
    "# Generate a confusion matrix for the model\n",
    "cm_resampled = confusion_matrix(y_test, predictions_resampled)\n",
    "print(cm_resampled)"
   ]
  },
  {
   "cell_type": "code",
   "execution_count": 52,
   "metadata": {},
   "outputs": [
    {
     "name": "stdout",
     "output_type": "stream",
     "text": [
      "              precision    recall  f1-score   support\n",
      "\n",
      "       False       0.00      0.00      0.00        28\n",
      "        True       0.15      1.00      0.26         5\n",
      "\n",
      "    accuracy                           0.15        33\n",
      "   macro avg       0.08      0.50      0.13        33\n",
      "weighted avg       0.02      0.15      0.04        33\n",
      "\n"
     ]
    },
    {
     "name": "stderr",
     "output_type": "stream",
     "text": [
      "c:\\Users\\Usuario\\anaconda3\\envs\\dev\\lib\\site-packages\\sklearn\\metrics\\_classification.py:1344: UndefinedMetricWarning: Precision and F-score are ill-defined and being set to 0.0 in labels with no predicted samples. Use `zero_division` parameter to control this behavior.\n",
      "  _warn_prf(average, modifier, msg_start, len(result))\n",
      "c:\\Users\\Usuario\\anaconda3\\envs\\dev\\lib\\site-packages\\sklearn\\metrics\\_classification.py:1344: UndefinedMetricWarning: Precision and F-score are ill-defined and being set to 0.0 in labels with no predicted samples. Use `zero_division` parameter to control this behavior.\n",
      "  _warn_prf(average, modifier, msg_start, len(result))\n",
      "c:\\Users\\Usuario\\anaconda3\\envs\\dev\\lib\\site-packages\\sklearn\\metrics\\_classification.py:1344: UndefinedMetricWarning: Precision and F-score are ill-defined and being set to 0.0 in labels with no predicted samples. Use `zero_division` parameter to control this behavior.\n",
      "  _warn_prf(average, modifier, msg_start, len(result))\n"
     ]
    }
   ],
   "source": [
    "# Print the classification report for the model\n",
    "print(classification_report(y_test, predictions_resampled))"
   ]
  },
  {
   "cell_type": "markdown",
   "metadata": {},
   "source": [
    "# Attributes"
   ]
  },
  {
   "cell_type": "code",
   "execution_count": 53,
   "metadata": {},
   "outputs": [
    {
     "name": "stdout",
     "output_type": "stream",
     "text": [
      "<class 'pandas.core.frame.DataFrame'>\n",
      "RangeIndex: 154931 entries, 0 to 154930\n",
      "Data columns (total 18 columns):\n",
      " #   Column            Non-Null Count   Dtype  \n",
      "---  ------            --------------   -----  \n",
      " 0   X                 154931 non-null  int64  \n",
      " 1   Acousticness      154931 non-null  float64\n",
      " 2   Album             154931 non-null  object \n",
      " 3   Artist            154931 non-null  object \n",
      " 4   Danceability      154931 non-null  float64\n",
      " 5   Duration          154931 non-null  int64  \n",
      " 6   Energy            154931 non-null  float64\n",
      " 7   Explicit          154931 non-null  bool   \n",
      " 8   Instrumentalness  154931 non-null  float64\n",
      " 9   Liveness          154931 non-null  float64\n",
      " 10  Loudness          154931 non-null  float64\n",
      " 11  Mode              154931 non-null  int64  \n",
      " 12  Name              154931 non-null  object \n",
      " 13  Popularity        154931 non-null  int64  \n",
      " 14  Speechiness       154931 non-null  float64\n",
      " 15  Tempo             154931 non-null  float64\n",
      " 16  TimeSignature     154931 non-null  int64  \n",
      " 17  Valence           154931 non-null  float64\n",
      "dtypes: bool(1), float64(9), int64(5), object(3)\n",
      "memory usage: 20.2+ MB\n",
      "None\n"
     ]
    },
    {
     "data": {
      "text/html": [
       "<div>\n",
       "<style scoped>\n",
       "    .dataframe tbody tr th:only-of-type {\n",
       "        vertical-align: middle;\n",
       "    }\n",
       "\n",
       "    .dataframe tbody tr th {\n",
       "        vertical-align: top;\n",
       "    }\n",
       "\n",
       "    .dataframe thead th {\n",
       "        text-align: right;\n",
       "    }\n",
       "</style>\n",
       "<table border=\"1\" class=\"dataframe\">\n",
       "  <thead>\n",
       "    <tr style=\"text-align: right;\">\n",
       "      <th></th>\n",
       "      <th>X</th>\n",
       "      <th>Acousticness</th>\n",
       "      <th>Album</th>\n",
       "      <th>Artist</th>\n",
       "      <th>Danceability</th>\n",
       "      <th>Duration</th>\n",
       "      <th>Energy</th>\n",
       "      <th>Explicit</th>\n",
       "      <th>Instrumentalness</th>\n",
       "      <th>Liveness</th>\n",
       "      <th>Loudness</th>\n",
       "      <th>Mode</th>\n",
       "      <th>Name</th>\n",
       "      <th>Popularity</th>\n",
       "      <th>Speechiness</th>\n",
       "      <th>Tempo</th>\n",
       "      <th>TimeSignature</th>\n",
       "      <th>Valence</th>\n",
       "    </tr>\n",
       "  </thead>\n",
       "  <tbody>\n",
       "    <tr>\n",
       "      <th>0</th>\n",
       "      <td>0</td>\n",
       "      <td>0.000728</td>\n",
       "      <td>Collective Soul (Deluxe Version)</td>\n",
       "      <td>Collective Soul</td>\n",
       "      <td>0.520</td>\n",
       "      <td>234947</td>\n",
       "      <td>0.904</td>\n",
       "      <td>False</td>\n",
       "      <td>0.010300</td>\n",
       "      <td>0.0634</td>\n",
       "      <td>-5.030</td>\n",
       "      <td>1</td>\n",
       "      <td>Welcome All Again</td>\n",
       "      <td>35</td>\n",
       "      <td>0.0309</td>\n",
       "      <td>106.022</td>\n",
       "      <td>4</td>\n",
       "      <td>0.365</td>\n",
       "    </tr>\n",
       "    <tr>\n",
       "      <th>1</th>\n",
       "      <td>1</td>\n",
       "      <td>0.018200</td>\n",
       "      <td>Collective Soul (Deluxe Version)</td>\n",
       "      <td>Collective Soul</td>\n",
       "      <td>0.581</td>\n",
       "      <td>239573</td>\n",
       "      <td>0.709</td>\n",
       "      <td>False</td>\n",
       "      <td>0.000664</td>\n",
       "      <td>0.1740</td>\n",
       "      <td>-4.909</td>\n",
       "      <td>1</td>\n",
       "      <td>Fuzzy</td>\n",
       "      <td>31</td>\n",
       "      <td>0.0282</td>\n",
       "      <td>120.027</td>\n",
       "      <td>4</td>\n",
       "      <td>0.408</td>\n",
       "    </tr>\n",
       "    <tr>\n",
       "      <th>2</th>\n",
       "      <td>2</td>\n",
       "      <td>0.000473</td>\n",
       "      <td>Collective Soul (Deluxe Version)</td>\n",
       "      <td>Collective Soul</td>\n",
       "      <td>0.572</td>\n",
       "      <td>198400</td>\n",
       "      <td>0.918</td>\n",
       "      <td>False</td>\n",
       "      <td>0.000431</td>\n",
       "      <td>0.0977</td>\n",
       "      <td>-3.324</td>\n",
       "      <td>0</td>\n",
       "      <td>Dig</td>\n",
       "      <td>30</td>\n",
       "      <td>0.0559</td>\n",
       "      <td>144.061</td>\n",
       "      <td>4</td>\n",
       "      <td>0.370</td>\n",
       "    </tr>\n",
       "    <tr>\n",
       "      <th>3</th>\n",
       "      <td>3</td>\n",
       "      <td>0.000970</td>\n",
       "      <td>Collective Soul (Deluxe Version)</td>\n",
       "      <td>Collective Soul</td>\n",
       "      <td>0.596</td>\n",
       "      <td>231453</td>\n",
       "      <td>0.661</td>\n",
       "      <td>False</td>\n",
       "      <td>0.000033</td>\n",
       "      <td>0.1130</td>\n",
       "      <td>-5.051</td>\n",
       "      <td>1</td>\n",
       "      <td>You</td>\n",
       "      <td>35</td>\n",
       "      <td>0.0254</td>\n",
       "      <td>111.975</td>\n",
       "      <td>4</td>\n",
       "      <td>0.183</td>\n",
       "    </tr>\n",
       "    <tr>\n",
       "      <th>4</th>\n",
       "      <td>4</td>\n",
       "      <td>0.000036</td>\n",
       "      <td>Collective Soul (Deluxe Version)</td>\n",
       "      <td>Collective Soul</td>\n",
       "      <td>0.520</td>\n",
       "      <td>222520</td>\n",
       "      <td>0.808</td>\n",
       "      <td>False</td>\n",
       "      <td>0.000010</td>\n",
       "      <td>0.0800</td>\n",
       "      <td>-4.553</td>\n",
       "      <td>0</td>\n",
       "      <td>My Days</td>\n",
       "      <td>21</td>\n",
       "      <td>0.0318</td>\n",
       "      <td>92.721</td>\n",
       "      <td>4</td>\n",
       "      <td>0.666</td>\n",
       "    </tr>\n",
       "  </tbody>\n",
       "</table>\n",
       "</div>"
      ],
      "text/plain": [
       "   X  Acousticness                             Album           Artist  \\\n",
       "0  0      0.000728  Collective Soul (Deluxe Version)  Collective Soul   \n",
       "1  1      0.018200  Collective Soul (Deluxe Version)  Collective Soul   \n",
       "2  2      0.000473  Collective Soul (Deluxe Version)  Collective Soul   \n",
       "3  3      0.000970  Collective Soul (Deluxe Version)  Collective Soul   \n",
       "4  4      0.000036  Collective Soul (Deluxe Version)  Collective Soul   \n",
       "\n",
       "   Danceability  Duration  Energy  Explicit  Instrumentalness  Liveness  \\\n",
       "0         0.520    234947   0.904     False          0.010300    0.0634   \n",
       "1         0.581    239573   0.709     False          0.000664    0.1740   \n",
       "2         0.572    198400   0.918     False          0.000431    0.0977   \n",
       "3         0.596    231453   0.661     False          0.000033    0.1130   \n",
       "4         0.520    222520   0.808     False          0.000010    0.0800   \n",
       "\n",
       "   Loudness  Mode               Name  Popularity  Speechiness    Tempo  \\\n",
       "0    -5.030     1  Welcome All Again          35       0.0309  106.022   \n",
       "1    -4.909     1              Fuzzy          31       0.0282  120.027   \n",
       "2    -3.324     0                Dig          30       0.0559  144.061   \n",
       "3    -5.051     1                You          35       0.0254  111.975   \n",
       "4    -4.553     0            My Days          21       0.0318   92.721   \n",
       "\n",
       "   TimeSignature  Valence  \n",
       "0              4    0.365  \n",
       "1              4    0.408  \n",
       "2              4    0.370  \n",
       "3              4    0.183  \n",
       "4              4    0.666  "
      ]
     },
     "execution_count": 53,
     "metadata": {},
     "output_type": "execute_result"
    }
   ],
   "source": [
    "df_03 = pd.read_csv(\"../Resources/songAttributes_1999-2019.csv\", encoding='latin-1')\n",
    "print(df_03.info())\n",
    "df_03.head()"
   ]
  },
  {
   "cell_type": "code",
   "execution_count": 54,
   "metadata": {},
   "outputs": [
    {
     "data": {
      "text/plain": [
       "Index(['X', 'Acousticness', 'Album', 'Artist', 'Danceability', 'Duration',\n",
       "       'Energy', 'Explicit', 'Instrumentalness', 'Liveness', 'Loudness',\n",
       "       'Mode', 'Name', 'Popularity', 'Speechiness', 'Tempo', 'TimeSignature',\n",
       "       'Valence'],\n",
       "      dtype='object')"
      ]
     },
     "execution_count": 54,
     "metadata": {},
     "output_type": "execute_result"
    }
   ],
   "source": [
    "df_03.columns"
   ]
  },
  {
   "cell_type": "code",
   "execution_count": 55,
   "metadata": {},
   "outputs": [
    {
     "data": {
      "text/html": [
       "<div>\n",
       "<style scoped>\n",
       "    .dataframe tbody tr th:only-of-type {\n",
       "        vertical-align: middle;\n",
       "    }\n",
       "\n",
       "    .dataframe tbody tr th {\n",
       "        vertical-align: top;\n",
       "    }\n",
       "\n",
       "    .dataframe thead th {\n",
       "        text-align: right;\n",
       "    }\n",
       "</style>\n",
       "<table border=\"1\" class=\"dataframe\">\n",
       "  <thead>\n",
       "    <tr style=\"text-align: right;\">\n",
       "      <th></th>\n",
       "      <th>Acousticness</th>\n",
       "      <th>Danceability</th>\n",
       "      <th>Duration</th>\n",
       "      <th>Energy</th>\n",
       "      <th>Explicit</th>\n",
       "      <th>Instrumentalness</th>\n",
       "      <th>Liveness</th>\n",
       "      <th>Loudness</th>\n",
       "      <th>Mode</th>\n",
       "      <th>Popularity</th>\n",
       "      <th>Speechiness</th>\n",
       "      <th>Tempo</th>\n",
       "      <th>TimeSignature</th>\n",
       "      <th>Valence</th>\n",
       "    </tr>\n",
       "  </thead>\n",
       "  <tbody>\n",
       "    <tr>\n",
       "      <th>0</th>\n",
       "      <td>0.000728</td>\n",
       "      <td>0.520</td>\n",
       "      <td>234947</td>\n",
       "      <td>0.904</td>\n",
       "      <td>False</td>\n",
       "      <td>0.010300</td>\n",
       "      <td>0.0634</td>\n",
       "      <td>-5.030</td>\n",
       "      <td>1</td>\n",
       "      <td>35</td>\n",
       "      <td>0.0309</td>\n",
       "      <td>106.022</td>\n",
       "      <td>4</td>\n",
       "      <td>0.365</td>\n",
       "    </tr>\n",
       "    <tr>\n",
       "      <th>1</th>\n",
       "      <td>0.018200</td>\n",
       "      <td>0.581</td>\n",
       "      <td>239573</td>\n",
       "      <td>0.709</td>\n",
       "      <td>False</td>\n",
       "      <td>0.000664</td>\n",
       "      <td>0.1740</td>\n",
       "      <td>-4.909</td>\n",
       "      <td>1</td>\n",
       "      <td>31</td>\n",
       "      <td>0.0282</td>\n",
       "      <td>120.027</td>\n",
       "      <td>4</td>\n",
       "      <td>0.408</td>\n",
       "    </tr>\n",
       "    <tr>\n",
       "      <th>2</th>\n",
       "      <td>0.000473</td>\n",
       "      <td>0.572</td>\n",
       "      <td>198400</td>\n",
       "      <td>0.918</td>\n",
       "      <td>False</td>\n",
       "      <td>0.000431</td>\n",
       "      <td>0.0977</td>\n",
       "      <td>-3.324</td>\n",
       "      <td>0</td>\n",
       "      <td>30</td>\n",
       "      <td>0.0559</td>\n",
       "      <td>144.061</td>\n",
       "      <td>4</td>\n",
       "      <td>0.370</td>\n",
       "    </tr>\n",
       "    <tr>\n",
       "      <th>3</th>\n",
       "      <td>0.000970</td>\n",
       "      <td>0.596</td>\n",
       "      <td>231453</td>\n",
       "      <td>0.661</td>\n",
       "      <td>False</td>\n",
       "      <td>0.000033</td>\n",
       "      <td>0.1130</td>\n",
       "      <td>-5.051</td>\n",
       "      <td>1</td>\n",
       "      <td>35</td>\n",
       "      <td>0.0254</td>\n",
       "      <td>111.975</td>\n",
       "      <td>4</td>\n",
       "      <td>0.183</td>\n",
       "    </tr>\n",
       "    <tr>\n",
       "      <th>4</th>\n",
       "      <td>0.000036</td>\n",
       "      <td>0.520</td>\n",
       "      <td>222520</td>\n",
       "      <td>0.808</td>\n",
       "      <td>False</td>\n",
       "      <td>0.000010</td>\n",
       "      <td>0.0800</td>\n",
       "      <td>-4.553</td>\n",
       "      <td>0</td>\n",
       "      <td>21</td>\n",
       "      <td>0.0318</td>\n",
       "      <td>92.721</td>\n",
       "      <td>4</td>\n",
       "      <td>0.666</td>\n",
       "    </tr>\n",
       "  </tbody>\n",
       "</table>\n",
       "</div>"
      ],
      "text/plain": [
       "   Acousticness  Danceability  Duration  Energy  Explicit  Instrumentalness  \\\n",
       "0      0.000728         0.520    234947   0.904     False          0.010300   \n",
       "1      0.018200         0.581    239573   0.709     False          0.000664   \n",
       "2      0.000473         0.572    198400   0.918     False          0.000431   \n",
       "3      0.000970         0.596    231453   0.661     False          0.000033   \n",
       "4      0.000036         0.520    222520   0.808     False          0.000010   \n",
       "\n",
       "   Liveness  Loudness  Mode  Popularity  Speechiness    Tempo  TimeSignature  \\\n",
       "0    0.0634    -5.030     1          35       0.0309  106.022              4   \n",
       "1    0.1740    -4.909     1          31       0.0282  120.027              4   \n",
       "2    0.0977    -3.324     0          30       0.0559  144.061              4   \n",
       "3    0.1130    -5.051     1          35       0.0254  111.975              4   \n",
       "4    0.0800    -4.553     0          21       0.0318   92.721              4   \n",
       "\n",
       "   Valence  \n",
       "0    0.365  \n",
       "1    0.408  \n",
       "2    0.370  \n",
       "3    0.183  \n",
       "4    0.666  "
      ]
     },
     "execution_count": 55,
     "metadata": {},
     "output_type": "execute_result"
    }
   ],
   "source": [
    "df_03 = df_03.drop(columns= [\"X\", \"Album\",\"Artist\",\"Name\"])\n",
    "df_03.head()"
   ]
  },
  {
   "cell_type": "code",
   "execution_count": 56,
   "metadata": {},
   "outputs": [
    {
     "data": {
      "text/html": [
       "<div>\n",
       "<style scoped>\n",
       "    .dataframe tbody tr th:only-of-type {\n",
       "        vertical-align: middle;\n",
       "    }\n",
       "\n",
       "    .dataframe tbody tr th {\n",
       "        vertical-align: top;\n",
       "    }\n",
       "\n",
       "    .dataframe thead th {\n",
       "        text-align: right;\n",
       "    }\n",
       "</style>\n",
       "<table border=\"1\" class=\"dataframe\">\n",
       "  <thead>\n",
       "    <tr style=\"text-align: right;\">\n",
       "      <th></th>\n",
       "      <th>Acousticness</th>\n",
       "      <th>Danceability</th>\n",
       "      <th>Duration</th>\n",
       "      <th>Energy</th>\n",
       "      <th>Explicit</th>\n",
       "      <th>Instrumentalness</th>\n",
       "      <th>Liveness</th>\n",
       "      <th>Loudness</th>\n",
       "      <th>Mode</th>\n",
       "      <th>Popularity</th>\n",
       "      <th>Speechiness</th>\n",
       "      <th>Tempo</th>\n",
       "      <th>TimeSignature</th>\n",
       "      <th>Valence</th>\n",
       "    </tr>\n",
       "  </thead>\n",
       "  <tbody>\n",
       "    <tr>\n",
       "      <th>0</th>\n",
       "      <td>0.000728</td>\n",
       "      <td>0.520</td>\n",
       "      <td>234947</td>\n",
       "      <td>0.904</td>\n",
       "      <td>False</td>\n",
       "      <td>0.010300</td>\n",
       "      <td>0.0634</td>\n",
       "      <td>-5.030</td>\n",
       "      <td>1</td>\n",
       "      <td>35</td>\n",
       "      <td>0.0309</td>\n",
       "      <td>106.022</td>\n",
       "      <td>4</td>\n",
       "      <td>0.365</td>\n",
       "    </tr>\n",
       "    <tr>\n",
       "      <th>1</th>\n",
       "      <td>0.018200</td>\n",
       "      <td>0.581</td>\n",
       "      <td>239573</td>\n",
       "      <td>0.709</td>\n",
       "      <td>False</td>\n",
       "      <td>0.000664</td>\n",
       "      <td>0.1740</td>\n",
       "      <td>-4.909</td>\n",
       "      <td>1</td>\n",
       "      <td>31</td>\n",
       "      <td>0.0282</td>\n",
       "      <td>120.027</td>\n",
       "      <td>4</td>\n",
       "      <td>0.408</td>\n",
       "    </tr>\n",
       "    <tr>\n",
       "      <th>2</th>\n",
       "      <td>0.000473</td>\n",
       "      <td>0.572</td>\n",
       "      <td>198400</td>\n",
       "      <td>0.918</td>\n",
       "      <td>False</td>\n",
       "      <td>0.000431</td>\n",
       "      <td>0.0977</td>\n",
       "      <td>-3.324</td>\n",
       "      <td>0</td>\n",
       "      <td>30</td>\n",
       "      <td>0.0559</td>\n",
       "      <td>144.061</td>\n",
       "      <td>4</td>\n",
       "      <td>0.370</td>\n",
       "    </tr>\n",
       "    <tr>\n",
       "      <th>3</th>\n",
       "      <td>0.000970</td>\n",
       "      <td>0.596</td>\n",
       "      <td>231453</td>\n",
       "      <td>0.661</td>\n",
       "      <td>False</td>\n",
       "      <td>0.000033</td>\n",
       "      <td>0.1130</td>\n",
       "      <td>-5.051</td>\n",
       "      <td>1</td>\n",
       "      <td>35</td>\n",
       "      <td>0.0254</td>\n",
       "      <td>111.975</td>\n",
       "      <td>4</td>\n",
       "      <td>0.183</td>\n",
       "    </tr>\n",
       "    <tr>\n",
       "      <th>4</th>\n",
       "      <td>0.000036</td>\n",
       "      <td>0.520</td>\n",
       "      <td>222520</td>\n",
       "      <td>0.808</td>\n",
       "      <td>False</td>\n",
       "      <td>0.000010</td>\n",
       "      <td>0.0800</td>\n",
       "      <td>-4.553</td>\n",
       "      <td>0</td>\n",
       "      <td>21</td>\n",
       "      <td>0.0318</td>\n",
       "      <td>92.721</td>\n",
       "      <td>4</td>\n",
       "      <td>0.666</td>\n",
       "    </tr>\n",
       "  </tbody>\n",
       "</table>\n",
       "</div>"
      ],
      "text/plain": [
       "   Acousticness  Danceability  Duration  Energy  Explicit  Instrumentalness  \\\n",
       "0      0.000728         0.520    234947   0.904     False          0.010300   \n",
       "1      0.018200         0.581    239573   0.709     False          0.000664   \n",
       "2      0.000473         0.572    198400   0.918     False          0.000431   \n",
       "3      0.000970         0.596    231453   0.661     False          0.000033   \n",
       "4      0.000036         0.520    222520   0.808     False          0.000010   \n",
       "\n",
       "   Liveness  Loudness  Mode  Popularity  Speechiness    Tempo  TimeSignature  \\\n",
       "0    0.0634    -5.030     1          35       0.0309  106.022              4   \n",
       "1    0.1740    -4.909     1          31       0.0282  120.027              4   \n",
       "2    0.0977    -3.324     0          30       0.0559  144.061              4   \n",
       "3    0.1130    -5.051     1          35       0.0254  111.975              4   \n",
       "4    0.0800    -4.553     0          21       0.0318   92.721              4   \n",
       "\n",
       "   Valence  \n",
       "0    0.365  \n",
       "1    0.408  \n",
       "2    0.370  \n",
       "3    0.183  \n",
       "4    0.666  "
      ]
     },
     "execution_count": 56,
     "metadata": {},
     "output_type": "execute_result"
    }
   ],
   "source": [
    "df_03_dummies = pd.get_dummies(df_03)\n",
    "df_03_dummies.head()"
   ]
  },
  {
   "cell_type": "code",
   "execution_count": 57,
   "metadata": {},
   "outputs": [
    {
     "data": {
      "text/plain": [
       "count    154931.000000\n",
       "mean         20.249111\n",
       "std          16.506651\n",
       "min           0.000000\n",
       "25%           6.000000\n",
       "50%          17.000000\n",
       "75%          31.000000\n",
       "max          91.000000\n",
       "Name: Popularity, dtype: float64"
      ]
     },
     "execution_count": 57,
     "metadata": {},
     "output_type": "execute_result"
    }
   ],
   "source": [
    "df_03_dummies[\"Popularity\"].describe()"
   ]
  },
  {
   "cell_type": "code",
   "execution_count": 58,
   "metadata": {},
   "outputs": [
    {
     "name": "stdout",
     "output_type": "stream",
     "text": [
      "<class 'pandas.core.frame.DataFrame'>\n",
      "RangeIndex: 154931 entries, 0 to 154930\n",
      "Data columns (total 14 columns):\n",
      " #   Column            Non-Null Count   Dtype  \n",
      "---  ------            --------------   -----  \n",
      " 0   Acousticness      154931 non-null  float64\n",
      " 1   Danceability      154931 non-null  float64\n",
      " 2   Duration          154931 non-null  int64  \n",
      " 3   Energy            154931 non-null  float64\n",
      " 4   Explicit          154931 non-null  bool   \n",
      " 5   Instrumentalness  154931 non-null  float64\n",
      " 6   Liveness          154931 non-null  float64\n",
      " 7   Loudness          154931 non-null  float64\n",
      " 8   Mode              154931 non-null  int64  \n",
      " 9   Popularity        154931 non-null  int64  \n",
      " 10  Speechiness       154931 non-null  float64\n",
      " 11  Tempo             154931 non-null  float64\n",
      " 12  TimeSignature     154931 non-null  int64  \n",
      " 13  Valence           154931 non-null  float64\n",
      "dtypes: bool(1), float64(9), int64(4)\n",
      "memory usage: 15.5 MB\n"
     ]
    }
   ],
   "source": [
    "df_03_dummies = df_03_dummies.dropna()\n",
    "df_03_dummies.info()"
   ]
  },
  {
   "cell_type": "code",
   "execution_count": 59,
   "metadata": {},
   "outputs": [
    {
     "data": {
      "text/html": [
       "<div>\n",
       "<style scoped>\n",
       "    .dataframe tbody tr th:only-of-type {\n",
       "        vertical-align: middle;\n",
       "    }\n",
       "\n",
       "    .dataframe tbody tr th {\n",
       "        vertical-align: top;\n",
       "    }\n",
       "\n",
       "    .dataframe thead th {\n",
       "        text-align: right;\n",
       "    }\n",
       "</style>\n",
       "<table border=\"1\" class=\"dataframe\">\n",
       "  <thead>\n",
       "    <tr style=\"text-align: right;\">\n",
       "      <th></th>\n",
       "      <th>Acousticness</th>\n",
       "      <th>Danceability</th>\n",
       "      <th>Duration</th>\n",
       "      <th>Energy</th>\n",
       "      <th>Explicit</th>\n",
       "      <th>Instrumentalness</th>\n",
       "      <th>Liveness</th>\n",
       "      <th>Loudness</th>\n",
       "      <th>Mode</th>\n",
       "      <th>Speechiness</th>\n",
       "      <th>Tempo</th>\n",
       "      <th>TimeSignature</th>\n",
       "      <th>Valence</th>\n",
       "      <th>is_popular</th>\n",
       "    </tr>\n",
       "  </thead>\n",
       "  <tbody>\n",
       "    <tr>\n",
       "      <th>0</th>\n",
       "      <td>0.000728</td>\n",
       "      <td>0.520</td>\n",
       "      <td>234947</td>\n",
       "      <td>0.904</td>\n",
       "      <td>False</td>\n",
       "      <td>0.010300</td>\n",
       "      <td>0.0634</td>\n",
       "      <td>-5.030</td>\n",
       "      <td>1</td>\n",
       "      <td>0.0309</td>\n",
       "      <td>106.022</td>\n",
       "      <td>4</td>\n",
       "      <td>0.365</td>\n",
       "      <td>True</td>\n",
       "    </tr>\n",
       "    <tr>\n",
       "      <th>1</th>\n",
       "      <td>0.018200</td>\n",
       "      <td>0.581</td>\n",
       "      <td>239573</td>\n",
       "      <td>0.709</td>\n",
       "      <td>False</td>\n",
       "      <td>0.000664</td>\n",
       "      <td>0.1740</td>\n",
       "      <td>-4.909</td>\n",
       "      <td>1</td>\n",
       "      <td>0.0282</td>\n",
       "      <td>120.027</td>\n",
       "      <td>4</td>\n",
       "      <td>0.408</td>\n",
       "      <td>True</td>\n",
       "    </tr>\n",
       "    <tr>\n",
       "      <th>2</th>\n",
       "      <td>0.000473</td>\n",
       "      <td>0.572</td>\n",
       "      <td>198400</td>\n",
       "      <td>0.918</td>\n",
       "      <td>False</td>\n",
       "      <td>0.000431</td>\n",
       "      <td>0.0977</td>\n",
       "      <td>-3.324</td>\n",
       "      <td>0</td>\n",
       "      <td>0.0559</td>\n",
       "      <td>144.061</td>\n",
       "      <td>4</td>\n",
       "      <td>0.370</td>\n",
       "      <td>False</td>\n",
       "    </tr>\n",
       "    <tr>\n",
       "      <th>3</th>\n",
       "      <td>0.000970</td>\n",
       "      <td>0.596</td>\n",
       "      <td>231453</td>\n",
       "      <td>0.661</td>\n",
       "      <td>False</td>\n",
       "      <td>0.000033</td>\n",
       "      <td>0.1130</td>\n",
       "      <td>-5.051</td>\n",
       "      <td>1</td>\n",
       "      <td>0.0254</td>\n",
       "      <td>111.975</td>\n",
       "      <td>4</td>\n",
       "      <td>0.183</td>\n",
       "      <td>True</td>\n",
       "    </tr>\n",
       "    <tr>\n",
       "      <th>4</th>\n",
       "      <td>0.000036</td>\n",
       "      <td>0.520</td>\n",
       "      <td>222520</td>\n",
       "      <td>0.808</td>\n",
       "      <td>False</td>\n",
       "      <td>0.000010</td>\n",
       "      <td>0.0800</td>\n",
       "      <td>-4.553</td>\n",
       "      <td>0</td>\n",
       "      <td>0.0318</td>\n",
       "      <td>92.721</td>\n",
       "      <td>4</td>\n",
       "      <td>0.666</td>\n",
       "      <td>False</td>\n",
       "    </tr>\n",
       "  </tbody>\n",
       "</table>\n",
       "</div>"
      ],
      "text/plain": [
       "   Acousticness  Danceability  Duration  Energy  Explicit  Instrumentalness  \\\n",
       "0      0.000728         0.520    234947   0.904     False          0.010300   \n",
       "1      0.018200         0.581    239573   0.709     False          0.000664   \n",
       "2      0.000473         0.572    198400   0.918     False          0.000431   \n",
       "3      0.000970         0.596    231453   0.661     False          0.000033   \n",
       "4      0.000036         0.520    222520   0.808     False          0.000010   \n",
       "\n",
       "   Liveness  Loudness  Mode  Speechiness    Tempo  TimeSignature  Valence  \\\n",
       "0    0.0634    -5.030     1       0.0309  106.022              4    0.365   \n",
       "1    0.1740    -4.909     1       0.0282  120.027              4    0.408   \n",
       "2    0.0977    -3.324     0       0.0559  144.061              4    0.370   \n",
       "3    0.1130    -5.051     1       0.0254  111.975              4    0.183   \n",
       "4    0.0800    -4.553     0       0.0318   92.721              4    0.666   \n",
       "\n",
       "   is_popular  \n",
       "0        True  \n",
       "1        True  \n",
       "2       False  \n",
       "3        True  \n",
       "4       False  "
      ]
     },
     "execution_count": 59,
     "metadata": {},
     "output_type": "execute_result"
    }
   ],
   "source": [
    "df_03_dummies[\"is_popular\"] = df_03_dummies[\"Popularity\"] >= 31\n",
    "df_03_dummies = df_03_dummies.drop(columns=[\"Popularity\"])\n",
    "df_03_dummies.head()"
   ]
  },
  {
   "cell_type": "code",
   "execution_count": 60,
   "metadata": {},
   "outputs": [
    {
     "data": {
      "text/plain": [
       "False    115742\n",
       "True      39189\n",
       "Name: is_popular, dtype: int64"
      ]
     },
     "execution_count": 60,
     "metadata": {},
     "output_type": "execute_result"
    }
   ],
   "source": [
    "df_03_dummies[\"is_popular\"].value_counts()"
   ]
  },
  {
   "cell_type": "code",
   "execution_count": 61,
   "metadata": {},
   "outputs": [],
   "source": [
    "# Split our preprocessed data into our features and target arrays\n",
    "X = df_03_dummies.drop(columns = [\"is_popular\"])\n",
    "y = df_03_dummies[\"is_popular\"]\n",
    "# Split the preprocessed data into a training and testing dataset\n",
    "X_train, X_test, y_train, y_test = train_test_split(X, y, random_state=1)"
   ]
  },
  {
   "cell_type": "code",
   "execution_count": 62,
   "metadata": {},
   "outputs": [],
   "source": [
    "# Create a StandardScaler instances\n",
    "scaler = StandardScaler()\n",
    "\n",
    "# Fit the StandardScaler\n",
    "X_scaler = scaler.fit(X_train)\n",
    "\n",
    "# Scale the data\n",
    "X_train_scaled = X_scaler.transform(X_train)\n",
    "X_test_scaled = X_scaler.transform(X_test)"
   ]
  },
  {
   "cell_type": "markdown",
   "metadata": {},
   "source": [
    "## Neural Network"
   ]
  },
  {
   "cell_type": "code",
   "execution_count": 63,
   "metadata": {},
   "outputs": [
    {
     "name": "stdout",
     "output_type": "stream",
     "text": [
      "Model: \"sequential_2\"\n",
      "_________________________________________________________________\n",
      " Layer (type)                Output Shape              Param #   \n",
      "=================================================================\n",
      " dense_8 (Dense)             (None, 5)                 70        \n",
      "                                                                 \n",
      " dense_9 (Dense)             (None, 5)                 30        \n",
      "                                                                 \n",
      " dense_10 (Dense)            (None, 1)                 6         \n",
      "                                                                 \n",
      "=================================================================\n",
      "Total params: 106 (424.00 Byte)\n",
      "Trainable params: 106 (424.00 Byte)\n",
      "Non-trainable params: 0 (0.00 Byte)\n",
      "_________________________________________________________________\n"
     ]
    }
   ],
   "source": [
    "# Define the model - deep neural net, i.e., the number of input features and hidden nodes for each layer.\n",
    "num_input_features = len(X_train_scaled[0])\n",
    "num_neurons_hl1 = 5\n",
    "num_neurons_hl2 = 5\n",
    "num_neurons_hl3 = 10\n",
    "\n",
    "nn = tf.keras.models.Sequential()\n",
    "\n",
    "# First hidden layer\n",
    "nn.add(tf.keras.layers.Dense(units = num_neurons_hl1, input_dim = num_input_features, activation = \"relu\"))\n",
    "\n",
    "# Second hidden layer\n",
    "nn.add(tf.keras.layers.Dense(units = num_neurons_hl2, activation = \"relu\"))\n",
    "\n",
    "# Third hidden layer\n",
    "#nn.add(tf.keras.layers.Dense(units = num_neurons_hl3, activation = \"relu\"))\n",
    "\n",
    "# Output layer\n",
    "nn.add(tf.keras.layers.Dense(units = 1, activation = \"sigmoid\"))\n",
    "\n",
    "# Check the structure of the model\n",
    "nn.summary()"
   ]
  },
  {
   "cell_type": "code",
   "execution_count": 64,
   "metadata": {},
   "outputs": [],
   "source": [
    "# Compile the model\n",
    "nn.compile(loss = 'binary_crossentropy', optimizer = 'adam', metrics=['accuracy'])\n"
   ]
  },
  {
   "cell_type": "code",
   "execution_count": 65,
   "metadata": {},
   "outputs": [
    {
     "name": "stdout",
     "output_type": "stream",
     "text": [
      "Epoch 1/100\n"
     ]
    },
    {
     "name": "stdout",
     "output_type": "stream",
     "text": [
      "3632/3632 [==============================] - 3s 690us/step - loss: 0.5554 - accuracy: 0.7453\n",
      "Epoch 2/100\n",
      "3632/3632 [==============================] - 2s 682us/step - loss: 0.5449 - accuracy: 0.7476\n",
      "Epoch 3/100\n",
      "3632/3632 [==============================] - 2s 666us/step - loss: 0.5431 - accuracy: 0.7476\n",
      "Epoch 4/100\n",
      "3632/3632 [==============================] - 2s 677us/step - loss: 0.5419 - accuracy: 0.7476\n",
      "Epoch 5/100\n",
      "3632/3632 [==============================] - 3s 696us/step - loss: 0.5411 - accuracy: 0.7476\n",
      "Epoch 6/100\n",
      "3632/3632 [==============================] - 2s 666us/step - loss: 0.5407 - accuracy: 0.7476\n",
      "Epoch 7/100\n",
      "3632/3632 [==============================] - 2s 676us/step - loss: 0.5403 - accuracy: 0.7476\n",
      "Epoch 8/100\n",
      "3632/3632 [==============================] - 2s 682us/step - loss: 0.5401 - accuracy: 0.7476\n",
      "Epoch 9/100\n",
      "3632/3632 [==============================] - 3s 722us/step - loss: 0.5399 - accuracy: 0.7476\n",
      "Epoch 10/100\n",
      "3632/3632 [==============================] - 2s 688us/step - loss: 0.5397 - accuracy: 0.7476\n",
      "Epoch 11/100\n",
      "3632/3632 [==============================] - 3s 692us/step - loss: 0.5396 - accuracy: 0.7476\n",
      "Epoch 12/100\n",
      "3632/3632 [==============================] - 3s 694us/step - loss: 0.5394 - accuracy: 0.7476\n",
      "Epoch 13/100\n",
      "3632/3632 [==============================] - 3s 700us/step - loss: 0.5394 - accuracy: 0.7476\n",
      "Epoch 14/100\n",
      "3632/3632 [==============================] - 3s 690us/step - loss: 0.5393 - accuracy: 0.7476\n",
      "Epoch 15/100\n",
      "3632/3632 [==============================] - 2s 671us/step - loss: 0.5392 - accuracy: 0.7476\n",
      "Epoch 16/100\n",
      "3632/3632 [==============================] - 2s 682us/step - loss: 0.5392 - accuracy: 0.7476\n",
      "Epoch 17/100\n",
      "3632/3632 [==============================] - 2s 670us/step - loss: 0.5390 - accuracy: 0.7476\n",
      "Epoch 18/100\n",
      "3632/3632 [==============================] - 2s 673us/step - loss: 0.5389 - accuracy: 0.7476\n",
      "Epoch 19/100\n",
      "3632/3632 [==============================] - 2s 687us/step - loss: 0.5389 - accuracy: 0.7476\n",
      "Epoch 20/100\n",
      "3632/3632 [==============================] - 2s 684us/step - loss: 0.5388 - accuracy: 0.7476\n",
      "Epoch 21/100\n",
      "3632/3632 [==============================] - 3s 701us/step - loss: 0.5388 - accuracy: 0.7476\n",
      "Epoch 22/100\n",
      "3632/3632 [==============================] - 3s 688us/step - loss: 0.5388 - accuracy: 0.7476\n",
      "Epoch 23/100\n",
      "3632/3632 [==============================] - 3s 712us/step - loss: 0.5387 - accuracy: 0.7476\n",
      "Epoch 24/100\n",
      "3632/3632 [==============================] - 3s 718us/step - loss: 0.5386 - accuracy: 0.7476\n",
      "Epoch 25/100\n",
      "3632/3632 [==============================] - 2s 686us/step - loss: 0.5386 - accuracy: 0.7476\n",
      "Epoch 26/100\n",
      "3632/3632 [==============================] - 3s 904us/step - loss: 0.5385 - accuracy: 0.7476\n",
      "Epoch 27/100\n",
      "3632/3632 [==============================] - 6s 2ms/step - loss: 0.5386 - accuracy: 0.7476\n",
      "Epoch 28/100\n",
      "3632/3632 [==============================] - 6s 2ms/step - loss: 0.5384 - accuracy: 0.7476\n",
      "Epoch 29/100\n",
      "3632/3632 [==============================] - 6s 2ms/step - loss: 0.5385 - accuracy: 0.7476\n",
      "Epoch 30/100\n",
      "3632/3632 [==============================] - 6s 2ms/step - loss: 0.5384 - accuracy: 0.7476\n",
      "Epoch 31/100\n",
      "3632/3632 [==============================] - 6s 2ms/step - loss: 0.5384 - accuracy: 0.7476\n",
      "Epoch 32/100\n",
      "3632/3632 [==============================] - 6s 2ms/step - loss: 0.5384 - accuracy: 0.7476\n",
      "Epoch 33/100\n",
      "3632/3632 [==============================] - 6s 2ms/step - loss: 0.5384 - accuracy: 0.7476\n",
      "Epoch 34/100\n",
      "3632/3632 [==============================] - 6s 2ms/step - loss: 0.5384 - accuracy: 0.7476\n",
      "Epoch 35/100\n",
      "3632/3632 [==============================] - 7s 2ms/step - loss: 0.5383 - accuracy: 0.7476\n",
      "Epoch 36/100\n",
      "3632/3632 [==============================] - 3s 790us/step - loss: 0.5384 - accuracy: 0.7476\n",
      "Epoch 37/100\n",
      "3632/3632 [==============================] - 2s 620us/step - loss: 0.5384 - accuracy: 0.7476\n",
      "Epoch 38/100\n",
      "3632/3632 [==============================] - 2s 659us/step - loss: 0.5383 - accuracy: 0.7476\n",
      "Epoch 39/100\n",
      "3632/3632 [==============================] - 2s 641us/step - loss: 0.5383 - accuracy: 0.7476\n",
      "Epoch 40/100\n",
      "3632/3632 [==============================] - 2s 636us/step - loss: 0.5384 - accuracy: 0.7476\n",
      "Epoch 41/100\n",
      "3632/3632 [==============================] - 2s 639us/step - loss: 0.5383 - accuracy: 0.7476\n",
      "Epoch 42/100\n",
      "3632/3632 [==============================] - 2s 630us/step - loss: 0.5382 - accuracy: 0.7476\n",
      "Epoch 43/100\n",
      "3632/3632 [==============================] - 2s 630us/step - loss: 0.5383 - accuracy: 0.7476\n",
      "Epoch 44/100\n",
      "3632/3632 [==============================] - 2s 633us/step - loss: 0.5383 - accuracy: 0.7476\n",
      "Epoch 45/100\n",
      "3632/3632 [==============================] - 2s 625us/step - loss: 0.5382 - accuracy: 0.7476\n",
      "Epoch 46/100\n",
      "3632/3632 [==============================] - 2s 629us/step - loss: 0.5382 - accuracy: 0.7476\n",
      "Epoch 47/100\n",
      "3632/3632 [==============================] - 2s 624us/step - loss: 0.5383 - accuracy: 0.7476\n",
      "Epoch 48/100\n",
      "3632/3632 [==============================] - 2s 628us/step - loss: 0.5383 - accuracy: 0.7476\n",
      "Epoch 49/100\n",
      "3632/3632 [==============================] - 2s 678us/step - loss: 0.5383 - accuracy: 0.7476\n",
      "Epoch 50/100\n",
      "3632/3632 [==============================] - 2s 645us/step - loss: 0.5383 - accuracy: 0.7476\n",
      "Epoch 51/100\n",
      "3632/3632 [==============================] - 2s 656us/step - loss: 0.5382 - accuracy: 0.7476\n",
      "Epoch 52/100\n",
      "3632/3632 [==============================] - 2s 624us/step - loss: 0.5381 - accuracy: 0.7476\n",
      "Epoch 53/100\n",
      "3632/3632 [==============================] - 2s 676us/step - loss: 0.5383 - accuracy: 0.7476\n",
      "Epoch 54/100\n",
      "3632/3632 [==============================] - 2s 636us/step - loss: 0.5381 - accuracy: 0.7476\n",
      "Epoch 55/100\n",
      "3632/3632 [==============================] - 2s 656us/step - loss: 0.5381 - accuracy: 0.7476\n",
      "Epoch 56/100\n",
      "3632/3632 [==============================] - 2s 651us/step - loss: 0.5382 - accuracy: 0.7476\n",
      "Epoch 57/100\n",
      "3632/3632 [==============================] - 2s 667us/step - loss: 0.5382 - accuracy: 0.7476\n",
      "Epoch 58/100\n",
      "3632/3632 [==============================] - 2s 658us/step - loss: 0.5382 - accuracy: 0.7476\n",
      "Epoch 59/100\n",
      "3632/3632 [==============================] - 6s 2ms/step - loss: 0.5381 - accuracy: 0.7476\n",
      "Epoch 60/100\n",
      "3632/3632 [==============================] - 5s 1ms/step - loss: 0.5382 - accuracy: 0.7476\n",
      "Epoch 61/100\n",
      "3632/3632 [==============================] - 6s 2ms/step - loss: 0.5382 - accuracy: 0.7476\n",
      "Epoch 62/100\n",
      "3632/3632 [==============================] - 5s 2ms/step - loss: 0.5381 - accuracy: 0.7476\n",
      "Epoch 63/100\n",
      "3632/3632 [==============================] - 5s 1ms/step - loss: 0.5381 - accuracy: 0.7476\n",
      "Epoch 64/100\n",
      "3632/3632 [==============================] - 5s 1ms/step - loss: 0.5382 - accuracy: 0.7476\n",
      "Epoch 65/100\n",
      "3632/3632 [==============================] - 5s 1ms/step - loss: 0.5382 - accuracy: 0.7476\n",
      "Epoch 66/100\n",
      "3632/3632 [==============================] - 5s 1ms/step - loss: 0.5381 - accuracy: 0.7476\n",
      "Epoch 67/100\n",
      "3632/3632 [==============================] - 5s 1ms/step - loss: 0.5382 - accuracy: 0.7476\n",
      "Epoch 68/100\n",
      "3632/3632 [==============================] - 5s 1ms/step - loss: 0.5381 - accuracy: 0.7476\n",
      "Epoch 69/100\n",
      "3632/3632 [==============================] - 6s 2ms/step - loss: 0.5381 - accuracy: 0.7476\n",
      "Epoch 70/100\n",
      "3632/3632 [==============================] - 5s 1ms/step - loss: 0.5382 - accuracy: 0.7476\n",
      "Epoch 71/100\n",
      "3632/3632 [==============================] - 5s 1ms/step - loss: 0.5381 - accuracy: 0.7476\n",
      "Epoch 72/100\n",
      "3632/3632 [==============================] - 5s 2ms/step - loss: 0.5382 - accuracy: 0.7476\n",
      "Epoch 73/100\n",
      "3632/3632 [==============================] - 5s 1ms/step - loss: 0.5381 - accuracy: 0.7476\n",
      "Epoch 74/100\n",
      "3632/3632 [==============================] - 6s 2ms/step - loss: 0.5381 - accuracy: 0.7476\n",
      "Epoch 75/100\n",
      "3632/3632 [==============================] - 6s 2ms/step - loss: 0.5381 - accuracy: 0.7476\n",
      "Epoch 76/100\n",
      "3632/3632 [==============================] - 6s 2ms/step - loss: 0.5380 - accuracy: 0.7476\n",
      "Epoch 77/100\n",
      "3632/3632 [==============================] - 5s 2ms/step - loss: 0.5381 - accuracy: 0.7476\n",
      "Epoch 78/100\n",
      "3632/3632 [==============================] - 5s 1ms/step - loss: 0.5380 - accuracy: 0.7476\n",
      "Epoch 79/100\n",
      "3632/3632 [==============================] - 6s 2ms/step - loss: 0.5381 - accuracy: 0.7476\n",
      "Epoch 80/100\n",
      "3632/3632 [==============================] - 3s 719us/step - loss: 0.5381 - accuracy: 0.7476\n",
      "Epoch 81/100\n",
      "3632/3632 [==============================] - 2s 633us/step - loss: 0.5380 - accuracy: 0.7476\n",
      "Epoch 82/100\n",
      "3632/3632 [==============================] - 2s 662us/step - loss: 0.5380 - accuracy: 0.7476\n",
      "Epoch 83/100\n",
      "3632/3632 [==============================] - 3s 717us/step - loss: 0.5381 - accuracy: 0.7476\n",
      "Epoch 84/100\n",
      "3632/3632 [==============================] - 3s 956us/step - loss: 0.5380 - accuracy: 0.7476\n",
      "Epoch 85/100\n",
      "3632/3632 [==============================] - 6s 2ms/step - loss: 0.5380 - accuracy: 0.7476\n",
      "Epoch 86/100\n",
      "3632/3632 [==============================] - 6s 2ms/step - loss: 0.5380 - accuracy: 0.7476\n",
      "Epoch 87/100\n",
      "3632/3632 [==============================] - 6s 2ms/step - loss: 0.5381 - accuracy: 0.7476\n",
      "Epoch 88/100\n",
      "3632/3632 [==============================] - 5s 1ms/step - loss: 0.5380 - accuracy: 0.7476\n",
      "Epoch 89/100\n",
      "3632/3632 [==============================] - 5s 1ms/step - loss: 0.5381 - accuracy: 0.7476\n",
      "Epoch 90/100\n",
      "3632/3632 [==============================] - 5s 2ms/step - loss: 0.5380 - accuracy: 0.7476\n",
      "Epoch 91/100\n",
      "3632/3632 [==============================] - 3s 774us/step - loss: 0.5381 - accuracy: 0.7476\n",
      "Epoch 92/100\n",
      "3632/3632 [==============================] - 2s 648us/step - loss: 0.5380 - accuracy: 0.7476\n",
      "Epoch 93/100\n",
      "3632/3632 [==============================] - 2s 655us/step - loss: 0.5380 - accuracy: 0.7476\n",
      "Epoch 94/100\n",
      "3632/3632 [==============================] - 3s 704us/step - loss: 0.5380 - accuracy: 0.7476\n",
      "Epoch 95/100\n",
      "3632/3632 [==============================] - 3s 713us/step - loss: 0.5380 - accuracy: 0.7476\n",
      "Epoch 96/100\n",
      "3632/3632 [==============================] - 4s 1ms/step - loss: 0.5380 - accuracy: 0.7476\n",
      "Epoch 97/100\n",
      "3632/3632 [==============================] - 5s 1ms/step - loss: 0.5380 - accuracy: 0.7476\n",
      "Epoch 98/100\n",
      "3632/3632 [==============================] - 6s 2ms/step - loss: 0.5380 - accuracy: 0.7476\n",
      "Epoch 99/100\n",
      "3632/3632 [==============================] - 2s 649us/step - loss: 0.5380 - accuracy: 0.7476\n",
      "Epoch 100/100\n",
      "3632/3632 [==============================] - 2s 649us/step - loss: 0.5379 - accuracy: 0.7476\n"
     ]
    }
   ],
   "source": [
    "# Train the model\n",
    "fit_model = nn.fit(X_train_scaled, y_train, epochs = 100)\n"
   ]
  },
  {
   "cell_type": "code",
   "execution_count": 66,
   "metadata": {},
   "outputs": [
    {
     "name": "stdout",
     "output_type": "stream",
     "text": [
      "1211/1211 - 1s - loss: 0.5399 - accuracy: 0.7455 - 605ms/epoch - 500us/step\n",
      "Loss: 0.5399242639541626, Accuracy: 0.7455399632453918\n"
     ]
    }
   ],
   "source": [
    "# Evaluate the model using the test data\n",
    "model_loss, model_accuracy = nn.evaluate(X_test_scaled,y_test,verbose=2)\n",
    "print(f\"Loss: {model_loss}, Accuracy: {model_accuracy}\")"
   ]
  },
  {
   "cell_type": "markdown",
   "metadata": {},
   "source": [
    "## Logistic Regression"
   ]
  },
  {
   "cell_type": "code",
   "execution_count": 67,
   "metadata": {},
   "outputs": [
    {
     "data": {
      "text/html": [
       "<style>#sk-container-id-3 {color: black;background-color: white;}#sk-container-id-3 pre{padding: 0;}#sk-container-id-3 div.sk-toggleable {background-color: white;}#sk-container-id-3 label.sk-toggleable__label {cursor: pointer;display: block;width: 100%;margin-bottom: 0;padding: 0.3em;box-sizing: border-box;text-align: center;}#sk-container-id-3 label.sk-toggleable__label-arrow:before {content: \"▸\";float: left;margin-right: 0.25em;color: #696969;}#sk-container-id-3 label.sk-toggleable__label-arrow:hover:before {color: black;}#sk-container-id-3 div.sk-estimator:hover label.sk-toggleable__label-arrow:before {color: black;}#sk-container-id-3 div.sk-toggleable__content {max-height: 0;max-width: 0;overflow: hidden;text-align: left;background-color: #f0f8ff;}#sk-container-id-3 div.sk-toggleable__content pre {margin: 0.2em;color: black;border-radius: 0.25em;background-color: #f0f8ff;}#sk-container-id-3 input.sk-toggleable__control:checked~div.sk-toggleable__content {max-height: 200px;max-width: 100%;overflow: auto;}#sk-container-id-3 input.sk-toggleable__control:checked~label.sk-toggleable__label-arrow:before {content: \"▾\";}#sk-container-id-3 div.sk-estimator input.sk-toggleable__control:checked~label.sk-toggleable__label {background-color: #d4ebff;}#sk-container-id-3 div.sk-label input.sk-toggleable__control:checked~label.sk-toggleable__label {background-color: #d4ebff;}#sk-container-id-3 input.sk-hidden--visually {border: 0;clip: rect(1px 1px 1px 1px);clip: rect(1px, 1px, 1px, 1px);height: 1px;margin: -1px;overflow: hidden;padding: 0;position: absolute;width: 1px;}#sk-container-id-3 div.sk-estimator {font-family: monospace;background-color: #f0f8ff;border: 1px dotted black;border-radius: 0.25em;box-sizing: border-box;margin-bottom: 0.5em;}#sk-container-id-3 div.sk-estimator:hover {background-color: #d4ebff;}#sk-container-id-3 div.sk-parallel-item::after {content: \"\";width: 100%;border-bottom: 1px solid gray;flex-grow: 1;}#sk-container-id-3 div.sk-label:hover label.sk-toggleable__label {background-color: #d4ebff;}#sk-container-id-3 div.sk-serial::before {content: \"\";position: absolute;border-left: 1px solid gray;box-sizing: border-box;top: 0;bottom: 0;left: 50%;z-index: 0;}#sk-container-id-3 div.sk-serial {display: flex;flex-direction: column;align-items: center;background-color: white;padding-right: 0.2em;padding-left: 0.2em;position: relative;}#sk-container-id-3 div.sk-item {position: relative;z-index: 1;}#sk-container-id-3 div.sk-parallel {display: flex;align-items: stretch;justify-content: center;background-color: white;position: relative;}#sk-container-id-3 div.sk-item::before, #sk-container-id-3 div.sk-parallel-item::before {content: \"\";position: absolute;border-left: 1px solid gray;box-sizing: border-box;top: 0;bottom: 0;left: 50%;z-index: -1;}#sk-container-id-3 div.sk-parallel-item {display: flex;flex-direction: column;z-index: 1;position: relative;background-color: white;}#sk-container-id-3 div.sk-parallel-item:first-child::after {align-self: flex-end;width: 50%;}#sk-container-id-3 div.sk-parallel-item:last-child::after {align-self: flex-start;width: 50%;}#sk-container-id-3 div.sk-parallel-item:only-child::after {width: 0;}#sk-container-id-3 div.sk-dashed-wrapped {border: 1px dashed gray;margin: 0 0.4em 0.5em 0.4em;box-sizing: border-box;padding-bottom: 0.4em;background-color: white;}#sk-container-id-3 div.sk-label label {font-family: monospace;font-weight: bold;display: inline-block;line-height: 1.2em;}#sk-container-id-3 div.sk-label-container {text-align: center;}#sk-container-id-3 div.sk-container {/* jupyter's `normalize.less` sets `[hidden] { display: none; }` but bootstrap.min.css set `[hidden] { display: none !important; }` so we also need the `!important` here to be able to override the default hidden behavior on the sphinx rendered scikit-learn.org. See: https://github.com/scikit-learn/scikit-learn/issues/21755 */display: inline-block !important;position: relative;}#sk-container-id-3 div.sk-text-repr-fallback {display: none;}</style><div id=\"sk-container-id-3\" class=\"sk-top-container\"><div class=\"sk-text-repr-fallback\"><pre>LogisticRegression(random_state=1)</pre><b>In a Jupyter environment, please rerun this cell to show the HTML representation or trust the notebook. <br />On GitHub, the HTML representation is unable to render, please try loading this page with nbviewer.org.</b></div><div class=\"sk-container\" hidden><div class=\"sk-item\"><div class=\"sk-estimator sk-toggleable\"><input class=\"sk-toggleable__control sk-hidden--visually\" id=\"sk-estimator-id-3\" type=\"checkbox\" checked><label for=\"sk-estimator-id-3\" class=\"sk-toggleable__label sk-toggleable__label-arrow\">LogisticRegression</label><div class=\"sk-toggleable__content\"><pre>LogisticRegression(random_state=1)</pre></div></div></div></div></div>"
      ],
      "text/plain": [
       "LogisticRegression(random_state=1)"
      ]
     },
     "execution_count": 67,
     "metadata": {},
     "output_type": "execute_result"
    }
   ],
   "source": [
    "# Instantiate the Logistic Regression model\n",
    "logistic_regression_model = LogisticRegression(random_state=1)\n",
    "\n",
    "# Fit the model using training data\n",
    "logistic_regression_model.fit(X_train, y_train)"
   ]
  },
  {
   "cell_type": "code",
   "execution_count": 68,
   "metadata": {},
   "outputs": [
    {
     "data": {
      "text/plain": [
       "array([False, False, False, ..., False, False, False])"
      ]
     },
     "execution_count": 68,
     "metadata": {},
     "output_type": "execute_result"
    }
   ],
   "source": [
    "predictions = logistic_regression_model.predict(X_test)\n",
    "predictions"
   ]
  },
  {
   "cell_type": "code",
   "execution_count": 69,
   "metadata": {},
   "outputs": [
    {
     "name": "stdout",
     "output_type": "stream",
     "text": [
      "Balanced Accuracy Score: 0.5 %\n"
     ]
    }
   ],
   "source": [
    "# Print the balanced_accuracy score of the model\n",
    "print(f\"Balanced Accuracy Score: {balanced_accuracy_score(y_test,predictions)} %\")"
   ]
  },
  {
   "cell_type": "code",
   "execution_count": 70,
   "metadata": {},
   "outputs": [
    {
     "name": "stdout",
     "output_type": "stream",
     "text": [
      "[[28877     0]\n",
      " [ 9856     0]]\n"
     ]
    }
   ],
   "source": [
    "# Generate a confusion matrix for the model\n",
    "cm = confusion_matrix(y_test, predictions)\n",
    "print(cm)"
   ]
  },
  {
   "cell_type": "code",
   "execution_count": 71,
   "metadata": {},
   "outputs": [
    {
     "name": "stdout",
     "output_type": "stream",
     "text": [
      "              precision    recall  f1-score   support\n",
      "\n",
      "       False       0.75      1.00      0.85     28877\n",
      "        True       0.00      0.00      0.00      9856\n",
      "\n",
      "    accuracy                           0.75     38733\n",
      "   macro avg       0.37      0.50      0.43     38733\n",
      "weighted avg       0.56      0.75      0.64     38733\n",
      "\n"
     ]
    },
    {
     "name": "stderr",
     "output_type": "stream",
     "text": [
      "c:\\Users\\Usuario\\anaconda3\\envs\\dev\\lib\\site-packages\\sklearn\\metrics\\_classification.py:1344: UndefinedMetricWarning: Precision and F-score are ill-defined and being set to 0.0 in labels with no predicted samples. Use `zero_division` parameter to control this behavior.\n",
      "  _warn_prf(average, modifier, msg_start, len(result))\n",
      "c:\\Users\\Usuario\\anaconda3\\envs\\dev\\lib\\site-packages\\sklearn\\metrics\\_classification.py:1344: UndefinedMetricWarning: Precision and F-score are ill-defined and being set to 0.0 in labels with no predicted samples. Use `zero_division` parameter to control this behavior.\n",
      "  _warn_prf(average, modifier, msg_start, len(result))\n",
      "c:\\Users\\Usuario\\anaconda3\\envs\\dev\\lib\\site-packages\\sklearn\\metrics\\_classification.py:1344: UndefinedMetricWarning: Precision and F-score are ill-defined and being set to 0.0 in labels with no predicted samples. Use `zero_division` parameter to control this behavior.\n",
      "  _warn_prf(average, modifier, msg_start, len(result))\n"
     ]
    }
   ],
   "source": [
    "# Print the classification report for the model\n",
    "print(classification_report(y_test, predictions))"
   ]
  },
  {
   "cell_type": "markdown",
   "metadata": {},
   "source": [
    "## Logistic Regression Resampled"
   ]
  },
  {
   "cell_type": "code",
   "execution_count": 72,
   "metadata": {},
   "outputs": [],
   "source": [
    "# Instantiate the random oversampler model\n",
    "random_over_sampler_model = RandomOverSampler(random_state=1)\n",
    "\n",
    "# Fit the original training data to the random_oversampler model\n",
    "X_res, y_res = random_over_sampler_model.fit_resample(X_train, y_train)"
   ]
  },
  {
   "cell_type": "code",
   "execution_count": 73,
   "metadata": {},
   "outputs": [
    {
     "name": "stdout",
     "output_type": "stream",
     "text": [
      "False    86865\n",
      "True     86865\n",
      "Name: is_popular, dtype: int64\n"
     ]
    }
   ],
   "source": [
    "# Count the distinct values of the resampled labels data\n",
    "print(y_res.value_counts())"
   ]
  },
  {
   "cell_type": "code",
   "execution_count": 74,
   "metadata": {},
   "outputs": [],
   "source": [
    "# Instantiate the Logistic Regression model\n",
    "# Assign a random_state parameter of 1 to the model\n",
    "logistic_regression_model_resampled = LogisticRegression(random_state=1)\n",
    "\n",
    "# Fit the model using the resampled training data\n",
    "logistic_regression_model_resampled.fit(X_res, y_res)\n",
    "\n",
    "# Make a prediction using the testing data\n",
    "predictions_resampled = logistic_regression_model_resampled.predict(X_test)"
   ]
  },
  {
   "cell_type": "code",
   "execution_count": 75,
   "metadata": {},
   "outputs": [
    {
     "name": "stdout",
     "output_type": "stream",
     "text": [
      "Balanced Accuracy Score Resampled: 0.5 %\n"
     ]
    }
   ],
   "source": [
    "# Print the balanced_accuracy score of the model \n",
    "print(f\"Balanced Accuracy Score Resampled: {balanced_accuracy_score(y_test,predictions_resampled)} %\")"
   ]
  },
  {
   "cell_type": "code",
   "execution_count": 76,
   "metadata": {},
   "outputs": [
    {
     "name": "stdout",
     "output_type": "stream",
     "text": [
      "[[    0 28877]\n",
      " [    0  9856]]\n"
     ]
    }
   ],
   "source": [
    "# Generate a confusion matrix for the model\n",
    "cm_resampled = confusion_matrix(y_test, predictions_resampled)\n",
    "print(cm_resampled)"
   ]
  },
  {
   "cell_type": "code",
   "execution_count": 77,
   "metadata": {},
   "outputs": [
    {
     "name": "stdout",
     "output_type": "stream",
     "text": [
      "              precision    recall  f1-score   support\n",
      "\n",
      "       False       0.00      0.00      0.00     28877\n",
      "        True       0.25      1.00      0.41      9856\n",
      "\n",
      "    accuracy                           0.25     38733\n",
      "   macro avg       0.13      0.50      0.20     38733\n",
      "weighted avg       0.06      0.25      0.10     38733\n",
      "\n"
     ]
    },
    {
     "name": "stderr",
     "output_type": "stream",
     "text": [
      "c:\\Users\\Usuario\\anaconda3\\envs\\dev\\lib\\site-packages\\sklearn\\metrics\\_classification.py:1344: UndefinedMetricWarning: Precision and F-score are ill-defined and being set to 0.0 in labels with no predicted samples. Use `zero_division` parameter to control this behavior.\n",
      "  _warn_prf(average, modifier, msg_start, len(result))\n",
      "c:\\Users\\Usuario\\anaconda3\\envs\\dev\\lib\\site-packages\\sklearn\\metrics\\_classification.py:1344: UndefinedMetricWarning: Precision and F-score are ill-defined and being set to 0.0 in labels with no predicted samples. Use `zero_division` parameter to control this behavior.\n",
      "  _warn_prf(average, modifier, msg_start, len(result))\n",
      "c:\\Users\\Usuario\\anaconda3\\envs\\dev\\lib\\site-packages\\sklearn\\metrics\\_classification.py:1344: UndefinedMetricWarning: Precision and F-score are ill-defined and being set to 0.0 in labels with no predicted samples. Use `zero_division` parameter to control this behavior.\n",
      "  _warn_prf(average, modifier, msg_start, len(result))\n"
     ]
    }
   ],
   "source": [
    "# Print the classification report for the model\n",
    "print(classification_report(y_test, predictions_resampled))"
   ]
  }
 ],
 "metadata": {
  "kernelspec": {
   "display_name": "orange3",
   "language": "python",
   "name": "python3"
  },
  "language_info": {
   "codemirror_mode": {
    "name": "ipython",
    "version": 3
   },
   "file_extension": ".py",
   "mimetype": "text/x-python",
   "name": "python",
   "nbconvert_exporter": "python",
   "pygments_lexer": "ipython3",
   "version": "3.10.11"
  }
 },
 "nbformat": 4,
 "nbformat_minor": 2
}
