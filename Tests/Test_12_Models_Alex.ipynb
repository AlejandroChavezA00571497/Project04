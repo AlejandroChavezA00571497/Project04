{
 "cells": [
  {
   "cell_type": "code",
   "execution_count": 777,
   "metadata": {},
   "outputs": [],
   "source": [
    "import pandas as pd\n",
    "import numpy as np\n",
    "\n",
    "from sklearn.model_selection import train_test_split\n",
    "from sklearn.preprocessing import StandardScaler\n",
    "import pandas as pd\n",
    "import tensorflow as tf\n",
    "\n",
    "from sklearn.metrics import balanced_accuracy_score, confusion_matrix, classification_report\n",
    "from sklearn.linear_model import LogisticRegression\n",
    "\n",
    "from imblearn.over_sampling import RandomOverSampler\n",
    "\n"
   ]
  },
  {
   "cell_type": "code",
   "execution_count": 778,
   "metadata": {},
   "outputs": [],
   "source": [
    "pd.set_option('display.max_columns', None)"
   ]
  },
  {
   "cell_type": "markdown",
   "metadata": {},
   "source": [
    "# attributesBillboard"
   ]
  },
  {
   "cell_type": "code",
   "execution_count": 779,
   "metadata": {},
   "outputs": [
    {
     "name": "stdout",
     "output_type": "stream",
     "text": [
      "<class 'pandas.core.frame.DataFrame'>\n",
      "RangeIndex: 4774 entries, 0 to 4773\n",
      "Data columns (total 27 columns):\n",
      " #   Column            Non-Null Count  Dtype  \n",
      "---  ------            --------------  -----  \n",
      " 0   Unnamed: 0        4774 non-null   int64  \n",
      " 1   Artist            4774 non-null   object \n",
      " 2   Name              4774 non-null   object \n",
      " 3   Weekly.rank       4774 non-null   int64  \n",
      " 4   Peak.position     4229 non-null   float64\n",
      " 5   Weeks.on.chart    4229 non-null   float64\n",
      " 6   Week              4774 non-null   object \n",
      " 7   Date              3938 non-null   object \n",
      " 8   Genre             4774 non-null   object \n",
      " 9   Writing.Credits   4279 non-null   object \n",
      " 10  Lyrics            4774 non-null   object \n",
      " 11  Features          717 non-null    object \n",
      " 12  Acousticness      4774 non-null   float64\n",
      " 13  Album             4774 non-null   object \n",
      " 14  Danceability      4774 non-null   float64\n",
      " 15  Duration          4774 non-null   int64  \n",
      " 16  Energy            4774 non-null   float64\n",
      " 17  Explicit          4774 non-null   bool   \n",
      " 18  Instrumentalness  4774 non-null   float64\n",
      " 19  Liveness          4774 non-null   float64\n",
      " 20  Loudness          4774 non-null   float64\n",
      " 21  Mode              4774 non-null   int64  \n",
      " 22  Popularity        4774 non-null   int64  \n",
      " 23  Speechiness       4774 non-null   float64\n",
      " 24  Tempo             4774 non-null   float64\n",
      " 25  TimeSignature     4774 non-null   int64  \n",
      " 26  Valence           4774 non-null   float64\n",
      "dtypes: bool(1), float64(11), int64(6), object(9)\n",
      "memory usage: 974.5+ KB\n",
      "None\n"
     ]
    },
    {
     "data": {
      "text/html": [
       "<div>\n",
       "<style scoped>\n",
       "    .dataframe tbody tr th:only-of-type {\n",
       "        vertical-align: middle;\n",
       "    }\n",
       "\n",
       "    .dataframe tbody tr th {\n",
       "        vertical-align: top;\n",
       "    }\n",
       "\n",
       "    .dataframe thead th {\n",
       "        text-align: right;\n",
       "    }\n",
       "</style>\n",
       "<table border=\"1\" class=\"dataframe\">\n",
       "  <thead>\n",
       "    <tr style=\"text-align: right;\">\n",
       "      <th></th>\n",
       "      <th>Unnamed: 0</th>\n",
       "      <th>Artist</th>\n",
       "      <th>Name</th>\n",
       "      <th>Weekly.rank</th>\n",
       "      <th>Peak.position</th>\n",
       "      <th>Weeks.on.chart</th>\n",
       "      <th>Week</th>\n",
       "      <th>Date</th>\n",
       "      <th>Genre</th>\n",
       "      <th>Writing.Credits</th>\n",
       "      <th>Lyrics</th>\n",
       "      <th>Features</th>\n",
       "      <th>Acousticness</th>\n",
       "      <th>Album</th>\n",
       "      <th>Danceability</th>\n",
       "      <th>Duration</th>\n",
       "      <th>Energy</th>\n",
       "      <th>Explicit</th>\n",
       "      <th>Instrumentalness</th>\n",
       "      <th>Liveness</th>\n",
       "      <th>Loudness</th>\n",
       "      <th>Mode</th>\n",
       "      <th>Popularity</th>\n",
       "      <th>Speechiness</th>\n",
       "      <th>Tempo</th>\n",
       "      <th>TimeSignature</th>\n",
       "      <th>Valence</th>\n",
       "    </tr>\n",
       "  </thead>\n",
       "  <tbody>\n",
       "    <tr>\n",
       "      <th>0</th>\n",
       "      <td>0</td>\n",
       "      <td>jonas brothers</td>\n",
       "      <td>sucker</td>\n",
       "      <td>6</td>\n",
       "      <td>1.0</td>\n",
       "      <td>17.0</td>\n",
       "      <td>2019-07-06</td>\n",
       "      <td>March 1, 2019</td>\n",
       "      <td>Alternative Pop,Boy Band,Teen Pop,Pop-Rock,Pop</td>\n",
       "      <td>Ryan tedder, Louis bell, Frank dukes, Nick jon...</td>\n",
       "      <td>Sucker \\nWe go together\\nBetter than birds of ...</td>\n",
       "      <td>NaN</td>\n",
       "      <td>0.04270</td>\n",
       "      <td>Happiness Begins</td>\n",
       "      <td>0.842</td>\n",
       "      <td>181027</td>\n",
       "      <td>0.734</td>\n",
       "      <td>False</td>\n",
       "      <td>0.0</td>\n",
       "      <td>0.1060</td>\n",
       "      <td>-5.065</td>\n",
       "      <td>0</td>\n",
       "      <td>81</td>\n",
       "      <td>0.0588</td>\n",
       "      <td>137.958</td>\n",
       "      <td>4</td>\n",
       "      <td>0.952</td>\n",
       "    </tr>\n",
       "    <tr>\n",
       "      <th>1</th>\n",
       "      <td>1</td>\n",
       "      <td>taylor swift</td>\n",
       "      <td>you need to calm down</td>\n",
       "      <td>13</td>\n",
       "      <td>2.0</td>\n",
       "      <td>2.0</td>\n",
       "      <td>2019-07-06</td>\n",
       "      <td>June 14, 2019</td>\n",
       "      <td>Synth-Pop,LGBTQ+,Pop</td>\n",
       "      <td>Joel little, Taylor swift</td>\n",
       "      <td>You Need To Calm Down \\nYou are somebody that ...</td>\n",
       "      <td>NaN</td>\n",
       "      <td>0.00929</td>\n",
       "      <td>Lover</td>\n",
       "      <td>0.771</td>\n",
       "      <td>171360</td>\n",
       "      <td>0.671</td>\n",
       "      <td>False</td>\n",
       "      <td>0.0</td>\n",
       "      <td>0.0637</td>\n",
       "      <td>-5.617</td>\n",
       "      <td>1</td>\n",
       "      <td>89</td>\n",
       "      <td>0.0553</td>\n",
       "      <td>85.026</td>\n",
       "      <td>4</td>\n",
       "      <td>0.714</td>\n",
       "    </tr>\n",
       "    <tr>\n",
       "      <th>2</th>\n",
       "      <td>2</td>\n",
       "      <td>panic! at the disco</td>\n",
       "      <td>hey look ma, i made it</td>\n",
       "      <td>24</td>\n",
       "      <td>24.0</td>\n",
       "      <td>11.0</td>\n",
       "      <td>2019-07-06</td>\n",
       "      <td>June 22, 2018</td>\n",
       "      <td>Pop-Rock,Jazz Fusion,Alternative,Alternative P...</td>\n",
       "      <td>Jake sinclair, Michael angelakos, Dillon franc...</td>\n",
       "      <td>Hey Look Ma, I Made It \\nAll my life, been hus...</td>\n",
       "      <td>NaN</td>\n",
       "      <td>0.01370</td>\n",
       "      <td>Pray for the Wicked</td>\n",
       "      <td>0.577</td>\n",
       "      <td>169667</td>\n",
       "      <td>0.833</td>\n",
       "      <td>False</td>\n",
       "      <td>0.0</td>\n",
       "      <td>0.1210</td>\n",
       "      <td>-3.337</td>\n",
       "      <td>1</td>\n",
       "      <td>81</td>\n",
       "      <td>0.0695</td>\n",
       "      <td>107.936</td>\n",
       "      <td>4</td>\n",
       "      <td>0.580</td>\n",
       "    </tr>\n",
       "    <tr>\n",
       "      <th>3</th>\n",
       "      <td>3</td>\n",
       "      <td>lee brice</td>\n",
       "      <td>rumor</td>\n",
       "      <td>26</td>\n",
       "      <td>25.0</td>\n",
       "      <td>16.0</td>\n",
       "      <td>2019-07-06</td>\n",
       "      <td>November 3, 2017</td>\n",
       "      <td>Country</td>\n",
       "      <td>Kyle jacobs, Ashley gorley, Lee brice</td>\n",
       "      <td>Rumor \\nGirl you know I've known you forever\\n...</td>\n",
       "      <td>NaN</td>\n",
       "      <td>0.74900</td>\n",
       "      <td>Lee Brice</td>\n",
       "      <td>0.655</td>\n",
       "      <td>198440</td>\n",
       "      <td>0.560</td>\n",
       "      <td>False</td>\n",
       "      <td>0.0</td>\n",
       "      <td>0.1150</td>\n",
       "      <td>-6.857</td>\n",
       "      <td>1</td>\n",
       "      <td>79</td>\n",
       "      <td>0.0486</td>\n",
       "      <td>140.975</td>\n",
       "      <td>4</td>\n",
       "      <td>0.599</td>\n",
       "    </tr>\n",
       "    <tr>\n",
       "      <th>4</th>\n",
       "      <td>4</td>\n",
       "      <td>panic! at the disco</td>\n",
       "      <td>high hopes</td>\n",
       "      <td>32</td>\n",
       "      <td>4.0</td>\n",
       "      <td>47.0</td>\n",
       "      <td>2019-07-06</td>\n",
       "      <td>May 23, 2018</td>\n",
       "      <td>Adult Alternative,Rock,Power Pop,Pop-Rock,Alte...</td>\n",
       "      <td>Sam hollander, Cook classics, Tayla parx, Jake...</td>\n",
       "      <td>High Hopes \\nHigh, high hopes\\nHad to have hig...</td>\n",
       "      <td>NaN</td>\n",
       "      <td>0.19300</td>\n",
       "      <td>Pray for the Wicked</td>\n",
       "      <td>0.579</td>\n",
       "      <td>190947</td>\n",
       "      <td>0.904</td>\n",
       "      <td>False</td>\n",
       "      <td>0.0</td>\n",
       "      <td>0.0640</td>\n",
       "      <td>-2.729</td>\n",
       "      <td>1</td>\n",
       "      <td>87</td>\n",
       "      <td>0.0618</td>\n",
       "      <td>82.014</td>\n",
       "      <td>4</td>\n",
       "      <td>0.681</td>\n",
       "    </tr>\n",
       "  </tbody>\n",
       "</table>\n",
       "</div>"
      ],
      "text/plain": [
       "   Unnamed: 0               Artist                    Name  Weekly.rank  \\\n",
       "0           0       jonas brothers                  sucker            6   \n",
       "1           1         taylor swift   you need to calm down           13   \n",
       "2           2  panic! at the disco  hey look ma, i made it           24   \n",
       "3           3            lee brice                   rumor           26   \n",
       "4           4  panic! at the disco              high hopes           32   \n",
       "\n",
       "   Peak.position  Weeks.on.chart        Week              Date  \\\n",
       "0            1.0            17.0  2019-07-06     March 1, 2019   \n",
       "1            2.0             2.0  2019-07-06     June 14, 2019   \n",
       "2           24.0            11.0  2019-07-06     June 22, 2018   \n",
       "3           25.0            16.0  2019-07-06  November 3, 2017   \n",
       "4            4.0            47.0  2019-07-06      May 23, 2018   \n",
       "\n",
       "                                               Genre  \\\n",
       "0     Alternative Pop,Boy Band,Teen Pop,Pop-Rock,Pop   \n",
       "1                               Synth-Pop,LGBTQ+,Pop   \n",
       "2  Pop-Rock,Jazz Fusion,Alternative,Alternative P...   \n",
       "3                                            Country   \n",
       "4  Adult Alternative,Rock,Power Pop,Pop-Rock,Alte...   \n",
       "\n",
       "                                     Writing.Credits  \\\n",
       "0  Ryan tedder, Louis bell, Frank dukes, Nick jon...   \n",
       "1                          Joel little, Taylor swift   \n",
       "2  Jake sinclair, Michael angelakos, Dillon franc...   \n",
       "3              Kyle jacobs, Ashley gorley, Lee brice   \n",
       "4  Sam hollander, Cook classics, Tayla parx, Jake...   \n",
       "\n",
       "                                              Lyrics Features  Acousticness  \\\n",
       "0  Sucker \\nWe go together\\nBetter than birds of ...      NaN       0.04270   \n",
       "1  You Need To Calm Down \\nYou are somebody that ...      NaN       0.00929   \n",
       "2  Hey Look Ma, I Made It \\nAll my life, been hus...      NaN       0.01370   \n",
       "3  Rumor \\nGirl you know I've known you forever\\n...      NaN       0.74900   \n",
       "4  High Hopes \\nHigh, high hopes\\nHad to have hig...      NaN       0.19300   \n",
       "\n",
       "                 Album  Danceability  Duration  Energy  Explicit  \\\n",
       "0     Happiness Begins         0.842    181027   0.734     False   \n",
       "1                Lover         0.771    171360   0.671     False   \n",
       "2  Pray for the Wicked         0.577    169667   0.833     False   \n",
       "3            Lee Brice         0.655    198440   0.560     False   \n",
       "4  Pray for the Wicked         0.579    190947   0.904     False   \n",
       "\n",
       "   Instrumentalness  Liveness  Loudness  Mode  Popularity  Speechiness  \\\n",
       "0               0.0    0.1060    -5.065     0          81       0.0588   \n",
       "1               0.0    0.0637    -5.617     1          89       0.0553   \n",
       "2               0.0    0.1210    -3.337     1          81       0.0695   \n",
       "3               0.0    0.1150    -6.857     1          79       0.0486   \n",
       "4               0.0    0.0640    -2.729     1          87       0.0618   \n",
       "\n",
       "     Tempo  TimeSignature  Valence  \n",
       "0  137.958              4    0.952  \n",
       "1   85.026              4    0.714  \n",
       "2  107.936              4    0.580  \n",
       "3  140.975              4    0.599  \n",
       "4   82.014              4    0.681  "
      ]
     },
     "execution_count": 779,
     "metadata": {},
     "output_type": "execute_result"
    }
   ],
   "source": [
    "df_01 = pd.read_csv(\"../Resources/attributesBillboard.csv\")\n",
    "print(df_01.info())\n",
    "df_01.head()"
   ]
  },
  {
   "cell_type": "code",
   "execution_count": 780,
   "metadata": {},
   "outputs": [
    {
     "data": {
      "text/plain": [
       "Index(['Unnamed: 0', 'Artist', 'Name', 'Weekly.rank', 'Peak.position',\n",
       "       'Weeks.on.chart', 'Week', 'Date', 'Genre', 'Writing.Credits', 'Lyrics',\n",
       "       'Features', 'Acousticness', 'Album', 'Danceability', 'Duration',\n",
       "       'Energy', 'Explicit', 'Instrumentalness', 'Liveness', 'Loudness',\n",
       "       'Mode', 'Popularity', 'Speechiness', 'Tempo', 'TimeSignature',\n",
       "       'Valence'],\n",
       "      dtype='object')"
      ]
     },
     "execution_count": 780,
     "metadata": {},
     "output_type": "execute_result"
    }
   ],
   "source": [
    "df_01.columns"
   ]
  },
  {
   "cell_type": "code",
   "execution_count": 781,
   "metadata": {},
   "outputs": [
    {
     "data": {
      "text/html": [
       "<div>\n",
       "<style scoped>\n",
       "    .dataframe tbody tr th:only-of-type {\n",
       "        vertical-align: middle;\n",
       "    }\n",
       "\n",
       "    .dataframe tbody tr th {\n",
       "        vertical-align: top;\n",
       "    }\n",
       "\n",
       "    .dataframe thead th {\n",
       "        text-align: right;\n",
       "    }\n",
       "</style>\n",
       "<table border=\"1\" class=\"dataframe\">\n",
       "  <thead>\n",
       "    <tr style=\"text-align: right;\">\n",
       "      <th></th>\n",
       "      <th>Weekly.rank</th>\n",
       "      <th>Peak.position</th>\n",
       "      <th>Weeks.on.chart</th>\n",
       "      <th>Features</th>\n",
       "      <th>Acousticness</th>\n",
       "      <th>Danceability</th>\n",
       "      <th>Duration</th>\n",
       "      <th>Energy</th>\n",
       "      <th>Explicit</th>\n",
       "      <th>Instrumentalness</th>\n",
       "      <th>Liveness</th>\n",
       "      <th>Loudness</th>\n",
       "      <th>Mode</th>\n",
       "      <th>Popularity</th>\n",
       "      <th>Speechiness</th>\n",
       "      <th>Tempo</th>\n",
       "      <th>TimeSignature</th>\n",
       "      <th>Valence</th>\n",
       "    </tr>\n",
       "  </thead>\n",
       "  <tbody>\n",
       "    <tr>\n",
       "      <th>0</th>\n",
       "      <td>6</td>\n",
       "      <td>1.0</td>\n",
       "      <td>17.0</td>\n",
       "      <td>0</td>\n",
       "      <td>0.04270</td>\n",
       "      <td>0.842</td>\n",
       "      <td>181027</td>\n",
       "      <td>0.734</td>\n",
       "      <td>False</td>\n",
       "      <td>0.0</td>\n",
       "      <td>0.1060</td>\n",
       "      <td>-5.065</td>\n",
       "      <td>0</td>\n",
       "      <td>81</td>\n",
       "      <td>0.0588</td>\n",
       "      <td>137.958</td>\n",
       "      <td>4</td>\n",
       "      <td>0.952</td>\n",
       "    </tr>\n",
       "    <tr>\n",
       "      <th>1</th>\n",
       "      <td>13</td>\n",
       "      <td>2.0</td>\n",
       "      <td>2.0</td>\n",
       "      <td>0</td>\n",
       "      <td>0.00929</td>\n",
       "      <td>0.771</td>\n",
       "      <td>171360</td>\n",
       "      <td>0.671</td>\n",
       "      <td>False</td>\n",
       "      <td>0.0</td>\n",
       "      <td>0.0637</td>\n",
       "      <td>-5.617</td>\n",
       "      <td>1</td>\n",
       "      <td>89</td>\n",
       "      <td>0.0553</td>\n",
       "      <td>85.026</td>\n",
       "      <td>4</td>\n",
       "      <td>0.714</td>\n",
       "    </tr>\n",
       "    <tr>\n",
       "      <th>2</th>\n",
       "      <td>24</td>\n",
       "      <td>24.0</td>\n",
       "      <td>11.0</td>\n",
       "      <td>0</td>\n",
       "      <td>0.01370</td>\n",
       "      <td>0.577</td>\n",
       "      <td>169667</td>\n",
       "      <td>0.833</td>\n",
       "      <td>False</td>\n",
       "      <td>0.0</td>\n",
       "      <td>0.1210</td>\n",
       "      <td>-3.337</td>\n",
       "      <td>1</td>\n",
       "      <td>81</td>\n",
       "      <td>0.0695</td>\n",
       "      <td>107.936</td>\n",
       "      <td>4</td>\n",
       "      <td>0.580</td>\n",
       "    </tr>\n",
       "    <tr>\n",
       "      <th>3</th>\n",
       "      <td>26</td>\n",
       "      <td>25.0</td>\n",
       "      <td>16.0</td>\n",
       "      <td>0</td>\n",
       "      <td>0.74900</td>\n",
       "      <td>0.655</td>\n",
       "      <td>198440</td>\n",
       "      <td>0.560</td>\n",
       "      <td>False</td>\n",
       "      <td>0.0</td>\n",
       "      <td>0.1150</td>\n",
       "      <td>-6.857</td>\n",
       "      <td>1</td>\n",
       "      <td>79</td>\n",
       "      <td>0.0486</td>\n",
       "      <td>140.975</td>\n",
       "      <td>4</td>\n",
       "      <td>0.599</td>\n",
       "    </tr>\n",
       "    <tr>\n",
       "      <th>4</th>\n",
       "      <td>32</td>\n",
       "      <td>4.0</td>\n",
       "      <td>47.0</td>\n",
       "      <td>0</td>\n",
       "      <td>0.19300</td>\n",
       "      <td>0.579</td>\n",
       "      <td>190947</td>\n",
       "      <td>0.904</td>\n",
       "      <td>False</td>\n",
       "      <td>0.0</td>\n",
       "      <td>0.0640</td>\n",
       "      <td>-2.729</td>\n",
       "      <td>1</td>\n",
       "      <td>87</td>\n",
       "      <td>0.0618</td>\n",
       "      <td>82.014</td>\n",
       "      <td>4</td>\n",
       "      <td>0.681</td>\n",
       "    </tr>\n",
       "  </tbody>\n",
       "</table>\n",
       "</div>"
      ],
      "text/plain": [
       "   Weekly.rank  Peak.position  Weeks.on.chart  Features  Acousticness  \\\n",
       "0            6            1.0            17.0         0       0.04270   \n",
       "1           13            2.0             2.0         0       0.00929   \n",
       "2           24           24.0            11.0         0       0.01370   \n",
       "3           26           25.0            16.0         0       0.74900   \n",
       "4           32            4.0            47.0         0       0.19300   \n",
       "\n",
       "   Danceability  Duration  Energy  Explicit  Instrumentalness  Liveness  \\\n",
       "0         0.842    181027   0.734     False               0.0    0.1060   \n",
       "1         0.771    171360   0.671     False               0.0    0.0637   \n",
       "2         0.577    169667   0.833     False               0.0    0.1210   \n",
       "3         0.655    198440   0.560     False               0.0    0.1150   \n",
       "4         0.579    190947   0.904     False               0.0    0.0640   \n",
       "\n",
       "   Loudness  Mode  Popularity  Speechiness    Tempo  TimeSignature  Valence  \n",
       "0    -5.065     0          81       0.0588  137.958              4    0.952  \n",
       "1    -5.617     1          89       0.0553   85.026              4    0.714  \n",
       "2    -3.337     1          81       0.0695  107.936              4    0.580  \n",
       "3    -6.857     1          79       0.0486  140.975              4    0.599  \n",
       "4    -2.729     1          87       0.0618   82.014              4    0.681  "
      ]
     },
     "execution_count": 781,
     "metadata": {},
     "output_type": "execute_result"
    }
   ],
   "source": [
    "df_01 = df_01.drop(columns= [\"Unnamed: 0\", \"Artist\",\"Name\",\"Genre\",\"Writing.Credits\",\"Lyrics\",\"Album\",\"Week\",\"Date\"])\n",
    "df_01['Features'] = df_01['Features'].notna().astype(int)\n",
    "df_01.head()"
   ]
  },
  {
   "cell_type": "code",
   "execution_count": 782,
   "metadata": {},
   "outputs": [
    {
     "data": {
      "text/html": [
       "<div>\n",
       "<style scoped>\n",
       "    .dataframe tbody tr th:only-of-type {\n",
       "        vertical-align: middle;\n",
       "    }\n",
       "\n",
       "    .dataframe tbody tr th {\n",
       "        vertical-align: top;\n",
       "    }\n",
       "\n",
       "    .dataframe thead th {\n",
       "        text-align: right;\n",
       "    }\n",
       "</style>\n",
       "<table border=\"1\" class=\"dataframe\">\n",
       "  <thead>\n",
       "    <tr style=\"text-align: right;\">\n",
       "      <th></th>\n",
       "      <th>Weekly.rank</th>\n",
       "      <th>Peak.position</th>\n",
       "      <th>Weeks.on.chart</th>\n",
       "      <th>Features</th>\n",
       "      <th>Acousticness</th>\n",
       "      <th>Danceability</th>\n",
       "      <th>Duration</th>\n",
       "      <th>Energy</th>\n",
       "      <th>Explicit</th>\n",
       "      <th>Instrumentalness</th>\n",
       "      <th>Liveness</th>\n",
       "      <th>Loudness</th>\n",
       "      <th>Mode</th>\n",
       "      <th>Popularity</th>\n",
       "      <th>Speechiness</th>\n",
       "      <th>Tempo</th>\n",
       "      <th>TimeSignature</th>\n",
       "      <th>Valence</th>\n",
       "    </tr>\n",
       "  </thead>\n",
       "  <tbody>\n",
       "    <tr>\n",
       "      <th>0</th>\n",
       "      <td>6</td>\n",
       "      <td>1.0</td>\n",
       "      <td>17.0</td>\n",
       "      <td>0</td>\n",
       "      <td>0.04270</td>\n",
       "      <td>0.842</td>\n",
       "      <td>181027</td>\n",
       "      <td>0.734</td>\n",
       "      <td>False</td>\n",
       "      <td>0.0</td>\n",
       "      <td>0.1060</td>\n",
       "      <td>-5.065</td>\n",
       "      <td>0</td>\n",
       "      <td>81</td>\n",
       "      <td>0.0588</td>\n",
       "      <td>137.958</td>\n",
       "      <td>4</td>\n",
       "      <td>0.952</td>\n",
       "    </tr>\n",
       "    <tr>\n",
       "      <th>1</th>\n",
       "      <td>13</td>\n",
       "      <td>2.0</td>\n",
       "      <td>2.0</td>\n",
       "      <td>0</td>\n",
       "      <td>0.00929</td>\n",
       "      <td>0.771</td>\n",
       "      <td>171360</td>\n",
       "      <td>0.671</td>\n",
       "      <td>False</td>\n",
       "      <td>0.0</td>\n",
       "      <td>0.0637</td>\n",
       "      <td>-5.617</td>\n",
       "      <td>1</td>\n",
       "      <td>89</td>\n",
       "      <td>0.0553</td>\n",
       "      <td>85.026</td>\n",
       "      <td>4</td>\n",
       "      <td>0.714</td>\n",
       "    </tr>\n",
       "    <tr>\n",
       "      <th>2</th>\n",
       "      <td>24</td>\n",
       "      <td>24.0</td>\n",
       "      <td>11.0</td>\n",
       "      <td>0</td>\n",
       "      <td>0.01370</td>\n",
       "      <td>0.577</td>\n",
       "      <td>169667</td>\n",
       "      <td>0.833</td>\n",
       "      <td>False</td>\n",
       "      <td>0.0</td>\n",
       "      <td>0.1210</td>\n",
       "      <td>-3.337</td>\n",
       "      <td>1</td>\n",
       "      <td>81</td>\n",
       "      <td>0.0695</td>\n",
       "      <td>107.936</td>\n",
       "      <td>4</td>\n",
       "      <td>0.580</td>\n",
       "    </tr>\n",
       "    <tr>\n",
       "      <th>3</th>\n",
       "      <td>26</td>\n",
       "      <td>25.0</td>\n",
       "      <td>16.0</td>\n",
       "      <td>0</td>\n",
       "      <td>0.74900</td>\n",
       "      <td>0.655</td>\n",
       "      <td>198440</td>\n",
       "      <td>0.560</td>\n",
       "      <td>False</td>\n",
       "      <td>0.0</td>\n",
       "      <td>0.1150</td>\n",
       "      <td>-6.857</td>\n",
       "      <td>1</td>\n",
       "      <td>79</td>\n",
       "      <td>0.0486</td>\n",
       "      <td>140.975</td>\n",
       "      <td>4</td>\n",
       "      <td>0.599</td>\n",
       "    </tr>\n",
       "    <tr>\n",
       "      <th>4</th>\n",
       "      <td>32</td>\n",
       "      <td>4.0</td>\n",
       "      <td>47.0</td>\n",
       "      <td>0</td>\n",
       "      <td>0.19300</td>\n",
       "      <td>0.579</td>\n",
       "      <td>190947</td>\n",
       "      <td>0.904</td>\n",
       "      <td>False</td>\n",
       "      <td>0.0</td>\n",
       "      <td>0.0640</td>\n",
       "      <td>-2.729</td>\n",
       "      <td>1</td>\n",
       "      <td>87</td>\n",
       "      <td>0.0618</td>\n",
       "      <td>82.014</td>\n",
       "      <td>4</td>\n",
       "      <td>0.681</td>\n",
       "    </tr>\n",
       "  </tbody>\n",
       "</table>\n",
       "</div>"
      ],
      "text/plain": [
       "   Weekly.rank  Peak.position  Weeks.on.chart  Features  Acousticness  \\\n",
       "0            6            1.0            17.0         0       0.04270   \n",
       "1           13            2.0             2.0         0       0.00929   \n",
       "2           24           24.0            11.0         0       0.01370   \n",
       "3           26           25.0            16.0         0       0.74900   \n",
       "4           32            4.0            47.0         0       0.19300   \n",
       "\n",
       "   Danceability  Duration  Energy  Explicit  Instrumentalness  Liveness  \\\n",
       "0         0.842    181027   0.734     False               0.0    0.1060   \n",
       "1         0.771    171360   0.671     False               0.0    0.0637   \n",
       "2         0.577    169667   0.833     False               0.0    0.1210   \n",
       "3         0.655    198440   0.560     False               0.0    0.1150   \n",
       "4         0.579    190947   0.904     False               0.0    0.0640   \n",
       "\n",
       "   Loudness  Mode  Popularity  Speechiness    Tempo  TimeSignature  Valence  \n",
       "0    -5.065     0          81       0.0588  137.958              4    0.952  \n",
       "1    -5.617     1          89       0.0553   85.026              4    0.714  \n",
       "2    -3.337     1          81       0.0695  107.936              4    0.580  \n",
       "3    -6.857     1          79       0.0486  140.975              4    0.599  \n",
       "4    -2.729     1          87       0.0618   82.014              4    0.681  "
      ]
     },
     "execution_count": 782,
     "metadata": {},
     "output_type": "execute_result"
    }
   ],
   "source": [
    "df_01_dummies = pd.get_dummies(df_01)\n",
    "df_01_dummies.head()"
   ]
  },
  {
   "cell_type": "code",
   "execution_count": 783,
   "metadata": {},
   "outputs": [
    {
     "data": {
      "text/plain": [
       "count    4774.000000\n",
       "mean       39.847926\n",
       "std        21.823721\n",
       "min         0.000000\n",
       "25%        23.000000\n",
       "50%        42.000000\n",
       "75%        58.000000\n",
       "max        89.000000\n",
       "Name: Popularity, dtype: float64"
      ]
     },
     "execution_count": 783,
     "metadata": {},
     "output_type": "execute_result"
    }
   ],
   "source": [
    "df_01_dummies[\"Popularity\"].describe()"
   ]
  },
  {
   "cell_type": "code",
   "execution_count": 784,
   "metadata": {},
   "outputs": [
    {
     "name": "stdout",
     "output_type": "stream",
     "text": [
      "<class 'pandas.core.frame.DataFrame'>\n",
      "Index: 4229 entries, 0 to 4773\n",
      "Data columns (total 18 columns):\n",
      " #   Column            Non-Null Count  Dtype  \n",
      "---  ------            --------------  -----  \n",
      " 0   Weekly.rank       4229 non-null   int64  \n",
      " 1   Peak.position     4229 non-null   float64\n",
      " 2   Weeks.on.chart    4229 non-null   float64\n",
      " 3   Features          4229 non-null   int32  \n",
      " 4   Acousticness      4229 non-null   float64\n",
      " 5   Danceability      4229 non-null   float64\n",
      " 6   Duration          4229 non-null   int64  \n",
      " 7   Energy            4229 non-null   float64\n",
      " 8   Explicit          4229 non-null   bool   \n",
      " 9   Instrumentalness  4229 non-null   float64\n",
      " 10  Liveness          4229 non-null   float64\n",
      " 11  Loudness          4229 non-null   float64\n",
      " 12  Mode              4229 non-null   int64  \n",
      " 13  Popularity        4229 non-null   int64  \n",
      " 14  Speechiness       4229 non-null   float64\n",
      " 15  Tempo             4229 non-null   float64\n",
      " 16  TimeSignature     4229 non-null   int64  \n",
      " 17  Valence           4229 non-null   float64\n",
      "dtypes: bool(1), float64(11), int32(1), int64(5)\n",
      "memory usage: 582.3 KB\n"
     ]
    }
   ],
   "source": [
    "df_01_dummies = df_01_dummies.dropna()\n",
    "df_01_dummies.info()"
   ]
  },
  {
   "cell_type": "code",
   "execution_count": 785,
   "metadata": {},
   "outputs": [
    {
     "data": {
      "text/html": [
       "<div>\n",
       "<style scoped>\n",
       "    .dataframe tbody tr th:only-of-type {\n",
       "        vertical-align: middle;\n",
       "    }\n",
       "\n",
       "    .dataframe tbody tr th {\n",
       "        vertical-align: top;\n",
       "    }\n",
       "\n",
       "    .dataframe thead th {\n",
       "        text-align: right;\n",
       "    }\n",
       "</style>\n",
       "<table border=\"1\" class=\"dataframe\">\n",
       "  <thead>\n",
       "    <tr style=\"text-align: right;\">\n",
       "      <th></th>\n",
       "      <th>Weekly.rank</th>\n",
       "      <th>Peak.position</th>\n",
       "      <th>Weeks.on.chart</th>\n",
       "      <th>Features</th>\n",
       "      <th>Acousticness</th>\n",
       "      <th>Danceability</th>\n",
       "      <th>Duration</th>\n",
       "      <th>Energy</th>\n",
       "      <th>Explicit</th>\n",
       "      <th>Instrumentalness</th>\n",
       "      <th>Liveness</th>\n",
       "      <th>Loudness</th>\n",
       "      <th>Mode</th>\n",
       "      <th>Speechiness</th>\n",
       "      <th>Tempo</th>\n",
       "      <th>TimeSignature</th>\n",
       "      <th>Valence</th>\n",
       "      <th>is_popular</th>\n",
       "    </tr>\n",
       "  </thead>\n",
       "  <tbody>\n",
       "    <tr>\n",
       "      <th>0</th>\n",
       "      <td>6</td>\n",
       "      <td>1.0</td>\n",
       "      <td>17.0</td>\n",
       "      <td>0</td>\n",
       "      <td>0.04270</td>\n",
       "      <td>0.842</td>\n",
       "      <td>181027</td>\n",
       "      <td>0.734</td>\n",
       "      <td>False</td>\n",
       "      <td>0.0</td>\n",
       "      <td>0.1060</td>\n",
       "      <td>-5.065</td>\n",
       "      <td>0</td>\n",
       "      <td>0.0588</td>\n",
       "      <td>137.958</td>\n",
       "      <td>4</td>\n",
       "      <td>0.952</td>\n",
       "      <td>True</td>\n",
       "    </tr>\n",
       "    <tr>\n",
       "      <th>1</th>\n",
       "      <td>13</td>\n",
       "      <td>2.0</td>\n",
       "      <td>2.0</td>\n",
       "      <td>0</td>\n",
       "      <td>0.00929</td>\n",
       "      <td>0.771</td>\n",
       "      <td>171360</td>\n",
       "      <td>0.671</td>\n",
       "      <td>False</td>\n",
       "      <td>0.0</td>\n",
       "      <td>0.0637</td>\n",
       "      <td>-5.617</td>\n",
       "      <td>1</td>\n",
       "      <td>0.0553</td>\n",
       "      <td>85.026</td>\n",
       "      <td>4</td>\n",
       "      <td>0.714</td>\n",
       "      <td>True</td>\n",
       "    </tr>\n",
       "    <tr>\n",
       "      <th>2</th>\n",
       "      <td>24</td>\n",
       "      <td>24.0</td>\n",
       "      <td>11.0</td>\n",
       "      <td>0</td>\n",
       "      <td>0.01370</td>\n",
       "      <td>0.577</td>\n",
       "      <td>169667</td>\n",
       "      <td>0.833</td>\n",
       "      <td>False</td>\n",
       "      <td>0.0</td>\n",
       "      <td>0.1210</td>\n",
       "      <td>-3.337</td>\n",
       "      <td>1</td>\n",
       "      <td>0.0695</td>\n",
       "      <td>107.936</td>\n",
       "      <td>4</td>\n",
       "      <td>0.580</td>\n",
       "      <td>True</td>\n",
       "    </tr>\n",
       "    <tr>\n",
       "      <th>3</th>\n",
       "      <td>26</td>\n",
       "      <td>25.0</td>\n",
       "      <td>16.0</td>\n",
       "      <td>0</td>\n",
       "      <td>0.74900</td>\n",
       "      <td>0.655</td>\n",
       "      <td>198440</td>\n",
       "      <td>0.560</td>\n",
       "      <td>False</td>\n",
       "      <td>0.0</td>\n",
       "      <td>0.1150</td>\n",
       "      <td>-6.857</td>\n",
       "      <td>1</td>\n",
       "      <td>0.0486</td>\n",
       "      <td>140.975</td>\n",
       "      <td>4</td>\n",
       "      <td>0.599</td>\n",
       "      <td>True</td>\n",
       "    </tr>\n",
       "    <tr>\n",
       "      <th>4</th>\n",
       "      <td>32</td>\n",
       "      <td>4.0</td>\n",
       "      <td>47.0</td>\n",
       "      <td>0</td>\n",
       "      <td>0.19300</td>\n",
       "      <td>0.579</td>\n",
       "      <td>190947</td>\n",
       "      <td>0.904</td>\n",
       "      <td>False</td>\n",
       "      <td>0.0</td>\n",
       "      <td>0.0640</td>\n",
       "      <td>-2.729</td>\n",
       "      <td>1</td>\n",
       "      <td>0.0618</td>\n",
       "      <td>82.014</td>\n",
       "      <td>4</td>\n",
       "      <td>0.681</td>\n",
       "      <td>True</td>\n",
       "    </tr>\n",
       "  </tbody>\n",
       "</table>\n",
       "</div>"
      ],
      "text/plain": [
       "   Weekly.rank  Peak.position  Weeks.on.chart  Features  Acousticness  \\\n",
       "0            6            1.0            17.0         0       0.04270   \n",
       "1           13            2.0             2.0         0       0.00929   \n",
       "2           24           24.0            11.0         0       0.01370   \n",
       "3           26           25.0            16.0         0       0.74900   \n",
       "4           32            4.0            47.0         0       0.19300   \n",
       "\n",
       "   Danceability  Duration  Energy  Explicit  Instrumentalness  Liveness  \\\n",
       "0         0.842    181027   0.734     False               0.0    0.1060   \n",
       "1         0.771    171360   0.671     False               0.0    0.0637   \n",
       "2         0.577    169667   0.833     False               0.0    0.1210   \n",
       "3         0.655    198440   0.560     False               0.0    0.1150   \n",
       "4         0.579    190947   0.904     False               0.0    0.0640   \n",
       "\n",
       "   Loudness  Mode  Speechiness    Tempo  TimeSignature  Valence  is_popular  \n",
       "0    -5.065     0       0.0588  137.958              4    0.952        True  \n",
       "1    -5.617     1       0.0553   85.026              4    0.714        True  \n",
       "2    -3.337     1       0.0695  107.936              4    0.580        True  \n",
       "3    -6.857     1       0.0486  140.975              4    0.599        True  \n",
       "4    -2.729     1       0.0618   82.014              4    0.681        True  "
      ]
     },
     "execution_count": 785,
     "metadata": {},
     "output_type": "execute_result"
    }
   ],
   "source": [
    "df_01_dummies[\"is_popular\"] = df_01_dummies[\"Popularity\"] >= 58\n",
    "df_01_dummies = df_01_dummies.drop(columns=[\"Popularity\"])\n",
    "df_01_dummies.head()"
   ]
  },
  {
   "cell_type": "code",
   "execution_count": 786,
   "metadata": {},
   "outputs": [
    {
     "data": {
      "text/plain": [
       "is_popular\n",
       "False    3125\n",
       "True     1104\n",
       "Name: count, dtype: int64"
      ]
     },
     "execution_count": 786,
     "metadata": {},
     "output_type": "execute_result"
    }
   ],
   "source": [
    "df_01_dummies[\"is_popular\"].value_counts()"
   ]
  },
  {
   "cell_type": "code",
   "execution_count": 787,
   "metadata": {},
   "outputs": [],
   "source": [
    "# Split our preprocessed data into our features and target arrays\n",
    "X = df_01_dummies.drop(columns = [\"is_popular\"])\n",
    "y = df_01_dummies[\"is_popular\"]\n",
    "# Split the preprocessed data into a training and testing dataset\n",
    "X_train, X_test, y_train, y_test = train_test_split(X, y, random_state=1)"
   ]
  },
  {
   "cell_type": "code",
   "execution_count": 788,
   "metadata": {},
   "outputs": [],
   "source": [
    "# Create a StandardScaler instances\n",
    "scaler = StandardScaler()\n",
    "\n",
    "# Fit the StandardScaler\n",
    "X_scaler = scaler.fit(X_train)\n",
    "\n",
    "# Scale the data\n",
    "X_train_scaled = X_scaler.transform(X_train)\n",
    "X_test_scaled = X_scaler.transform(X_test)"
   ]
  },
  {
   "cell_type": "markdown",
   "metadata": {},
   "source": [
    "## Neural Network"
   ]
  },
  {
   "cell_type": "code",
   "execution_count": 789,
   "metadata": {},
   "outputs": [
    {
     "name": "stdout",
     "output_type": "stream",
     "text": [
      "Model: \"sequential_32\"\n",
      "_________________________________________________________________\n",
      " Layer (type)                Output Shape              Param #   \n",
      "=================================================================\n",
      " dense_99 (Dense)            (None, 30)                540       \n",
      "                                                                 \n",
      " dense_100 (Dense)           (None, 30)                930       \n",
      "                                                                 \n",
      " dense_101 (Dense)           (None, 30)                930       \n",
      "                                                                 \n",
      " dense_102 (Dense)           (None, 1)                 31        \n",
      "                                                                 \n",
      "=================================================================\n",
      "Total params: 2431 (9.50 KB)\n",
      "Trainable params: 2431 (9.50 KB)\n",
      "Non-trainable params: 0 (0.00 Byte)\n",
      "_________________________________________________________________\n"
     ]
    }
   ],
   "source": [
    "# Define the model - deep neural net, i.e., the number of input features and hidden nodes for each layer.\n",
    "num_input_features = len(X_train_scaled[0])\n",
    "num_neurons_hl1 = 30\n",
    "num_neurons_hl2 = 30\n",
    "num_neurons_hl3 = 30\n",
    "\n",
    "nn = tf.keras.models.Sequential()\n",
    "\n",
    "# First hidden layer\n",
    "nn.add(tf.keras.layers.Dense(units = num_neurons_hl1, input_dim = num_input_features, activation = \"relu\"))\n",
    "\n",
    "# Second hidden layer\n",
    "nn.add(tf.keras.layers.Dense(units = num_neurons_hl2, activation = \"relu\"))\n",
    "\n",
    "# Third hidden layer\n",
    "nn.add(tf.keras.layers.Dense(units = num_neurons_hl3, activation = \"relu\"))\n",
    "\n",
    "# Output layer\n",
    "nn.add(tf.keras.layers.Dense(units = 1, activation = \"sigmoid\"))\n",
    "\n",
    "# Check the structure of the model\n",
    "nn.summary()"
   ]
  },
  {
   "cell_type": "code",
   "execution_count": 790,
   "metadata": {},
   "outputs": [],
   "source": [
    "# Compile the model\n",
    "nn.compile(loss = 'binary_crossentropy', optimizer = 'adam', metrics=['accuracy'])\n"
   ]
  },
  {
   "cell_type": "code",
   "execution_count": 791,
   "metadata": {},
   "outputs": [
    {
     "name": "stdout",
     "output_type": "stream",
     "text": [
      "Epoch 1/50\n"
     ]
    },
    {
     "name": "stdout",
     "output_type": "stream",
     "text": [
      "100/100 [==============================] - 1s 2ms/step - loss: 0.5774 - accuracy: 0.7342\n",
      "Epoch 2/50\n",
      "100/100 [==============================] - 0s 2ms/step - loss: 0.5438 - accuracy: 0.7430\n",
      "Epoch 3/50\n",
      "100/100 [==============================] - 0s 3ms/step - loss: 0.5354 - accuracy: 0.7465\n",
      "Epoch 4/50\n",
      "100/100 [==============================] - 0s 2ms/step - loss: 0.5292 - accuracy: 0.7537\n",
      "Epoch 5/50\n",
      "100/100 [==============================] - 0s 2ms/step - loss: 0.5256 - accuracy: 0.7534\n",
      "Epoch 6/50\n",
      "100/100 [==============================] - 0s 2ms/step - loss: 0.5202 - accuracy: 0.7531\n",
      "Epoch 7/50\n",
      "100/100 [==============================] - 0s 2ms/step - loss: 0.5183 - accuracy: 0.7528\n",
      "Epoch 8/50\n",
      "100/100 [==============================] - 0s 2ms/step - loss: 0.5131 - accuracy: 0.7565\n",
      "Epoch 9/50\n",
      "100/100 [==============================] - 0s 2ms/step - loss: 0.5088 - accuracy: 0.7603\n",
      "Epoch 10/50\n",
      "100/100 [==============================] - 0s 2ms/step - loss: 0.5061 - accuracy: 0.7616\n",
      "Epoch 11/50\n",
      "100/100 [==============================] - 0s 2ms/step - loss: 0.5033 - accuracy: 0.7629\n",
      "Epoch 12/50\n",
      "100/100 [==============================] - 0s 2ms/step - loss: 0.5021 - accuracy: 0.7597\n",
      "Epoch 13/50\n",
      "100/100 [==============================] - 0s 2ms/step - loss: 0.4971 - accuracy: 0.7641\n",
      "Epoch 14/50\n",
      "100/100 [==============================] - 0s 2ms/step - loss: 0.4956 - accuracy: 0.7638\n",
      "Epoch 15/50\n",
      "100/100 [==============================] - 0s 2ms/step - loss: 0.4904 - accuracy: 0.7638\n",
      "Epoch 16/50\n",
      "100/100 [==============================] - 0s 2ms/step - loss: 0.4878 - accuracy: 0.7688\n",
      "Epoch 17/50\n",
      "100/100 [==============================] - 0s 2ms/step - loss: 0.4843 - accuracy: 0.7714\n",
      "Epoch 18/50\n",
      "100/100 [==============================] - 0s 2ms/step - loss: 0.4809 - accuracy: 0.7695\n",
      "Epoch 19/50\n",
      "100/100 [==============================] - 0s 2ms/step - loss: 0.4791 - accuracy: 0.7755\n",
      "Epoch 20/50\n",
      "100/100 [==============================] - 0s 2ms/step - loss: 0.4765 - accuracy: 0.7751\n",
      "Epoch 21/50\n",
      "100/100 [==============================] - 0s 2ms/step - loss: 0.4725 - accuracy: 0.7786\n",
      "Epoch 22/50\n",
      "100/100 [==============================] - 0s 2ms/step - loss: 0.4670 - accuracy: 0.7859\n",
      "Epoch 23/50\n",
      "100/100 [==============================] - 0s 2ms/step - loss: 0.4647 - accuracy: 0.7840\n",
      "Epoch 24/50\n",
      "100/100 [==============================] - 0s 2ms/step - loss: 0.4597 - accuracy: 0.7849\n",
      "Epoch 25/50\n",
      "100/100 [==============================] - 0s 2ms/step - loss: 0.4578 - accuracy: 0.7884\n",
      "Epoch 26/50\n",
      "100/100 [==============================] - 0s 2ms/step - loss: 0.4533 - accuracy: 0.7925\n",
      "Epoch 27/50\n",
      "100/100 [==============================] - 0s 2ms/step - loss: 0.4503 - accuracy: 0.7947\n",
      "Epoch 28/50\n",
      "100/100 [==============================] - 0s 2ms/step - loss: 0.4468 - accuracy: 0.7922\n",
      "Epoch 29/50\n",
      "100/100 [==============================] - 0s 2ms/step - loss: 0.4421 - accuracy: 0.7985\n",
      "Epoch 30/50\n",
      "100/100 [==============================] - 0s 2ms/step - loss: 0.4381 - accuracy: 0.8038\n",
      "Epoch 31/50\n",
      "100/100 [==============================] - 0s 2ms/step - loss: 0.4351 - accuracy: 0.8045\n",
      "Epoch 32/50\n",
      "100/100 [==============================] - 0s 2ms/step - loss: 0.4314 - accuracy: 0.8048\n",
      "Epoch 33/50\n",
      "100/100 [==============================] - 0s 2ms/step - loss: 0.4280 - accuracy: 0.8089\n",
      "Epoch 34/50\n",
      "100/100 [==============================] - 0s 2ms/step - loss: 0.4336 - accuracy: 0.8035\n",
      "Epoch 35/50\n",
      "100/100 [==============================] - 0s 2ms/step - loss: 0.4203 - accuracy: 0.8079\n",
      "Epoch 36/50\n",
      "100/100 [==============================] - 0s 2ms/step - loss: 0.4192 - accuracy: 0.8136\n",
      "Epoch 37/50\n",
      "100/100 [==============================] - 0s 2ms/step - loss: 0.4224 - accuracy: 0.8105\n",
      "Epoch 38/50\n",
      "100/100 [==============================] - 0s 2ms/step - loss: 0.4133 - accuracy: 0.8165\n",
      "Epoch 39/50\n",
      "100/100 [==============================] - 0s 2ms/step - loss: 0.4103 - accuracy: 0.8124\n",
      "Epoch 40/50\n",
      "100/100 [==============================] - 0s 2ms/step - loss: 0.4081 - accuracy: 0.8158\n",
      "Epoch 41/50\n",
      "100/100 [==============================] - 0s 2ms/step - loss: 0.4044 - accuracy: 0.8196\n",
      "Epoch 42/50\n",
      "100/100 [==============================] - 0s 2ms/step - loss: 0.4003 - accuracy: 0.8225\n",
      "Epoch 43/50\n",
      "100/100 [==============================] - 0s 2ms/step - loss: 0.3994 - accuracy: 0.8190\n",
      "Epoch 44/50\n",
      "100/100 [==============================] - 0s 2ms/step - loss: 0.3935 - accuracy: 0.8256\n",
      "Epoch 45/50\n",
      "100/100 [==============================] - 0s 2ms/step - loss: 0.3938 - accuracy: 0.8152\n",
      "Epoch 46/50\n",
      "100/100 [==============================] - 0s 2ms/step - loss: 0.3883 - accuracy: 0.8262\n",
      "Epoch 47/50\n",
      "100/100 [==============================] - 0s 2ms/step - loss: 0.3847 - accuracy: 0.8256\n",
      "Epoch 48/50\n",
      "100/100 [==============================] - 0s 2ms/step - loss: 0.3815 - accuracy: 0.8278\n",
      "Epoch 49/50\n",
      "100/100 [==============================] - 0s 2ms/step - loss: 0.3808 - accuracy: 0.8272\n",
      "Epoch 50/50\n",
      "100/100 [==============================] - 0s 2ms/step - loss: 0.3768 - accuracy: 0.8344\n"
     ]
    }
   ],
   "source": [
    "# Train the model\n",
    "fit_model = nn.fit(X_train_scaled, y_train, epochs = 50)\n"
   ]
  },
  {
   "cell_type": "code",
   "execution_count": 792,
   "metadata": {},
   "outputs": [
    {
     "name": "stdout",
     "output_type": "stream",
     "text": [
      "34/34 - 0s - loss: 0.7311 - accuracy: 0.6909 - 171ms/epoch - 5ms/step\n",
      "Loss: 0.7311177253723145, Accuracy: 0.6909262537956238\n"
     ]
    }
   ],
   "source": [
    "# Evaluate the model using the test data\n",
    "model_loss, model_accuracy = nn.evaluate(X_test_scaled,y_test,verbose=2)\n",
    "print(f\"Loss: {model_loss}, Accuracy: {model_accuracy}\")"
   ]
  },
  {
   "cell_type": "markdown",
   "metadata": {},
   "source": [
    "## Logistic Regression"
   ]
  },
  {
   "cell_type": "code",
   "execution_count": 793,
   "metadata": {},
   "outputs": [
    {
     "data": {
      "text/html": [
       "<style>#sk-container-id-20 {color: black;}#sk-container-id-20 pre{padding: 0;}#sk-container-id-20 div.sk-toggleable {background-color: white;}#sk-container-id-20 label.sk-toggleable__label {cursor: pointer;display: block;width: 100%;margin-bottom: 0;padding: 0.3em;box-sizing: border-box;text-align: center;}#sk-container-id-20 label.sk-toggleable__label-arrow:before {content: \"▸\";float: left;margin-right: 0.25em;color: #696969;}#sk-container-id-20 label.sk-toggleable__label-arrow:hover:before {color: black;}#sk-container-id-20 div.sk-estimator:hover label.sk-toggleable__label-arrow:before {color: black;}#sk-container-id-20 div.sk-toggleable__content {max-height: 0;max-width: 0;overflow: hidden;text-align: left;background-color: #f0f8ff;}#sk-container-id-20 div.sk-toggleable__content pre {margin: 0.2em;color: black;border-radius: 0.25em;background-color: #f0f8ff;}#sk-container-id-20 input.sk-toggleable__control:checked~div.sk-toggleable__content {max-height: 200px;max-width: 100%;overflow: auto;}#sk-container-id-20 input.sk-toggleable__control:checked~label.sk-toggleable__label-arrow:before {content: \"▾\";}#sk-container-id-20 div.sk-estimator input.sk-toggleable__control:checked~label.sk-toggleable__label {background-color: #d4ebff;}#sk-container-id-20 div.sk-label input.sk-toggleable__control:checked~label.sk-toggleable__label {background-color: #d4ebff;}#sk-container-id-20 input.sk-hidden--visually {border: 0;clip: rect(1px 1px 1px 1px);clip: rect(1px, 1px, 1px, 1px);height: 1px;margin: -1px;overflow: hidden;padding: 0;position: absolute;width: 1px;}#sk-container-id-20 div.sk-estimator {font-family: monospace;background-color: #f0f8ff;border: 1px dotted black;border-radius: 0.25em;box-sizing: border-box;margin-bottom: 0.5em;}#sk-container-id-20 div.sk-estimator:hover {background-color: #d4ebff;}#sk-container-id-20 div.sk-parallel-item::after {content: \"\";width: 100%;border-bottom: 1px solid gray;flex-grow: 1;}#sk-container-id-20 div.sk-label:hover label.sk-toggleable__label {background-color: #d4ebff;}#sk-container-id-20 div.sk-serial::before {content: \"\";position: absolute;border-left: 1px solid gray;box-sizing: border-box;top: 0;bottom: 0;left: 50%;z-index: 0;}#sk-container-id-20 div.sk-serial {display: flex;flex-direction: column;align-items: center;background-color: white;padding-right: 0.2em;padding-left: 0.2em;position: relative;}#sk-container-id-20 div.sk-item {position: relative;z-index: 1;}#sk-container-id-20 div.sk-parallel {display: flex;align-items: stretch;justify-content: center;background-color: white;position: relative;}#sk-container-id-20 div.sk-item::before, #sk-container-id-20 div.sk-parallel-item::before {content: \"\";position: absolute;border-left: 1px solid gray;box-sizing: border-box;top: 0;bottom: 0;left: 50%;z-index: -1;}#sk-container-id-20 div.sk-parallel-item {display: flex;flex-direction: column;z-index: 1;position: relative;background-color: white;}#sk-container-id-20 div.sk-parallel-item:first-child::after {align-self: flex-end;width: 50%;}#sk-container-id-20 div.sk-parallel-item:last-child::after {align-self: flex-start;width: 50%;}#sk-container-id-20 div.sk-parallel-item:only-child::after {width: 0;}#sk-container-id-20 div.sk-dashed-wrapped {border: 1px dashed gray;margin: 0 0.4em 0.5em 0.4em;box-sizing: border-box;padding-bottom: 0.4em;background-color: white;}#sk-container-id-20 div.sk-label label {font-family: monospace;font-weight: bold;display: inline-block;line-height: 1.2em;}#sk-container-id-20 div.sk-label-container {text-align: center;}#sk-container-id-20 div.sk-container {/* jupyter's `normalize.less` sets `[hidden] { display: none; }` but bootstrap.min.css set `[hidden] { display: none !important; }` so we also need the `!important` here to be able to override the default hidden behavior on the sphinx rendered scikit-learn.org. See: https://github.com/scikit-learn/scikit-learn/issues/21755 */display: inline-block !important;position: relative;}#sk-container-id-20 div.sk-text-repr-fallback {display: none;}</style><div id=\"sk-container-id-20\" class=\"sk-top-container\"><div class=\"sk-text-repr-fallback\"><pre>LogisticRegression(random_state=1)</pre><b>In a Jupyter environment, please rerun this cell to show the HTML representation or trust the notebook. <br />On GitHub, the HTML representation is unable to render, please try loading this page with nbviewer.org.</b></div><div class=\"sk-container\" hidden><div class=\"sk-item\"><div class=\"sk-estimator sk-toggleable\"><input class=\"sk-toggleable__control sk-hidden--visually\" id=\"sk-estimator-id-20\" type=\"checkbox\" checked><label for=\"sk-estimator-id-20\" class=\"sk-toggleable__label sk-toggleable__label-arrow\">LogisticRegression</label><div class=\"sk-toggleable__content\"><pre>LogisticRegression(random_state=1)</pre></div></div></div></div></div>"
      ],
      "text/plain": [
       "LogisticRegression(random_state=1)"
      ]
     },
     "execution_count": 793,
     "metadata": {},
     "output_type": "execute_result"
    }
   ],
   "source": [
    "# Instantiate the Logistic Regression model\n",
    "logistic_regression_model = LogisticRegression(random_state=1)\n",
    "\n",
    "# Fit the model using training data\n",
    "logistic_regression_model.fit(X_train, y_train)"
   ]
  },
  {
   "cell_type": "code",
   "execution_count": 794,
   "metadata": {},
   "outputs": [
    {
     "data": {
      "text/plain": [
       "array([False, False, False, ..., False, False, False])"
      ]
     },
     "execution_count": 794,
     "metadata": {},
     "output_type": "execute_result"
    }
   ],
   "source": [
    "predictions = logistic_regression_model.predict(X_test)\n",
    "predictions"
   ]
  },
  {
   "cell_type": "code",
   "execution_count": 795,
   "metadata": {},
   "outputs": [
    {
     "name": "stdout",
     "output_type": "stream",
     "text": [
      "Balanced Accuracy Score: 0.49934980494148246 %\n"
     ]
    }
   ],
   "source": [
    "# Print the balanced_accuracy score of the model\n",
    "print(f\"Balanced Accuracy Score: {balanced_accuracy_score(y_test,predictions)} %\")"
   ]
  },
  {
   "cell_type": "code",
   "execution_count": 796,
   "metadata": {},
   "outputs": [
    {
     "name": "stdout",
     "output_type": "stream",
     "text": [
      "[[768   1]\n",
      " [289   0]]\n"
     ]
    }
   ],
   "source": [
    "# Generate a confusion matrix for the model\n",
    "cm = confusion_matrix(y_test, predictions)\n",
    "print(cm)"
   ]
  },
  {
   "cell_type": "code",
   "execution_count": 797,
   "metadata": {},
   "outputs": [
    {
     "name": "stdout",
     "output_type": "stream",
     "text": [
      "              precision    recall  f1-score   support\n",
      "\n",
      "       False       0.73      1.00      0.84       769\n",
      "        True       0.00      0.00      0.00       289\n",
      "\n",
      "    accuracy                           0.73      1058\n",
      "   macro avg       0.36      0.50      0.42      1058\n",
      "weighted avg       0.53      0.73      0.61      1058\n",
      "\n"
     ]
    }
   ],
   "source": [
    "# Print the classification report for the model\n",
    "print(classification_report(y_test, predictions))"
   ]
  },
  {
   "cell_type": "markdown",
   "metadata": {},
   "source": [
    "## Logistic Regression Resampled"
   ]
  },
  {
   "cell_type": "code",
   "execution_count": 798,
   "metadata": {},
   "outputs": [],
   "source": [
    "# Instantiate the random oversampler model\n",
    "random_over_sampler_model = RandomOverSampler(random_state=1)\n",
    "\n",
    "# Fit the original training data to the random_oversampler model\n",
    "X_res, y_res = random_over_sampler_model.fit_resample(X_train, y_train)"
   ]
  },
  {
   "cell_type": "code",
   "execution_count": 799,
   "metadata": {},
   "outputs": [
    {
     "name": "stdout",
     "output_type": "stream",
     "text": [
      "is_popular\n",
      "True     2356\n",
      "False    2356\n",
      "Name: count, dtype: int64\n"
     ]
    }
   ],
   "source": [
    "# Count the distinct values of the resampled labels data\n",
    "print(y_res.value_counts())"
   ]
  },
  {
   "cell_type": "code",
   "execution_count": 800,
   "metadata": {},
   "outputs": [],
   "source": [
    "# Instantiate the Logistic Regression model\n",
    "# Assign a random_state parameter of 1 to the model\n",
    "logistic_regression_model_resampled = LogisticRegression(random_state=1)\n",
    "\n",
    "# Fit the model using the resampled training data\n",
    "logistic_regression_model_resampled.fit(X_res, y_res)\n",
    "\n",
    "# Make a prediction using the testing data\n",
    "predictions_resampled = logistic_regression_model_resampled.predict(X_test)"
   ]
  },
  {
   "cell_type": "code",
   "execution_count": 801,
   "metadata": {},
   "outputs": [
    {
     "name": "stdout",
     "output_type": "stream",
     "text": [
      "Balanced Accuracy Score Resampled: 0.5 %\n"
     ]
    }
   ],
   "source": [
    "# Print the balanced_accuracy score of the model \n",
    "print(f\"Balanced Accuracy Score Resampled: {balanced_accuracy_score(y_test,predictions_resampled)} %\")"
   ]
  },
  {
   "cell_type": "code",
   "execution_count": 802,
   "metadata": {},
   "outputs": [
    {
     "name": "stdout",
     "output_type": "stream",
     "text": [
      "[[769   0]\n",
      " [289   0]]\n"
     ]
    }
   ],
   "source": [
    "# Generate a confusion matrix for the model\n",
    "cm_resampled = confusion_matrix(y_test, predictions_resampled)\n",
    "print(cm_resampled)"
   ]
  },
  {
   "cell_type": "code",
   "execution_count": 803,
   "metadata": {},
   "outputs": [
    {
     "name": "stdout",
     "output_type": "stream",
     "text": [
      "              precision    recall  f1-score   support\n",
      "\n",
      "       False       0.73      1.00      0.84       769\n",
      "        True       0.00      0.00      0.00       289\n",
      "\n",
      "    accuracy                           0.73      1058\n",
      "   macro avg       0.36      0.50      0.42      1058\n",
      "weighted avg       0.53      0.73      0.61      1058\n",
      "\n"
     ]
    },
    {
     "name": "stderr",
     "output_type": "stream",
     "text": [
      "c:\\Users\\Aspire-PC\\anaconda3\\envs\\orange3\\lib\\site-packages\\sklearn\\metrics\\_classification.py:1469: UndefinedMetricWarning: Precision and F-score are ill-defined and being set to 0.0 in labels with no predicted samples. Use `zero_division` parameter to control this behavior.\n",
      "  _warn_prf(average, modifier, msg_start, len(result))\n",
      "c:\\Users\\Aspire-PC\\anaconda3\\envs\\orange3\\lib\\site-packages\\sklearn\\metrics\\_classification.py:1469: UndefinedMetricWarning: Precision and F-score are ill-defined and being set to 0.0 in labels with no predicted samples. Use `zero_division` parameter to control this behavior.\n",
      "  _warn_prf(average, modifier, msg_start, len(result))\n",
      "c:\\Users\\Aspire-PC\\anaconda3\\envs\\orange3\\lib\\site-packages\\sklearn\\metrics\\_classification.py:1469: UndefinedMetricWarning: Precision and F-score are ill-defined and being set to 0.0 in labels with no predicted samples. Use `zero_division` parameter to control this behavior.\n",
      "  _warn_prf(average, modifier, msg_start, len(result))\n"
     ]
    }
   ],
   "source": [
    "# Print the classification report for the model\n",
    "print(classification_report(y_test, predictions_resampled))"
   ]
  },
  {
   "cell_type": "markdown",
   "metadata": {},
   "source": [
    "# ArtistWeek"
   ]
  },
  {
   "cell_type": "markdown",
   "metadata": {},
   "source": [
    "## Neural Network"
   ]
  },
  {
   "cell_type": "code",
   "execution_count": 804,
   "metadata": {},
   "outputs": [
    {
     "name": "stdout",
     "output_type": "stream",
     "text": [
      "<class 'pandas.core.frame.DataFrame'>\n",
      "RangeIndex: 595 entries, 0 to 594\n",
      "Data columns (total 12 columns):\n",
      " #   Column          Non-Null Count  Dtype  \n",
      "---  ------          --------------  -----  \n",
      " 0   Unnamed: 0      595 non-null    int64  \n",
      " 1   index           595 non-null    int64  \n",
      " 2   Artist          595 non-null    object \n",
      " 3   Followers       130 non-null    float64\n",
      " 4   Genres          129 non-null    object \n",
      " 5   NumAlbums       130 non-null    float64\n",
      " 6   YearFirstAlbum  130 non-null    float64\n",
      " 7   Gender          126 non-null    object \n",
      " 8   Group.Solo      130 non-null    object \n",
      " 9   Features        108 non-null    object \n",
      " 10  Week            595 non-null    object \n",
      " 11  Total streams   595 non-null    float64\n",
      "dtypes: float64(4), int64(2), object(6)\n",
      "memory usage: 55.9+ KB\n",
      "None\n"
     ]
    },
    {
     "data": {
      "text/html": [
       "<div>\n",
       "<style scoped>\n",
       "    .dataframe tbody tr th:only-of-type {\n",
       "        vertical-align: middle;\n",
       "    }\n",
       "\n",
       "    .dataframe tbody tr th {\n",
       "        vertical-align: top;\n",
       "    }\n",
       "\n",
       "    .dataframe thead th {\n",
       "        text-align: right;\n",
       "    }\n",
       "</style>\n",
       "<table border=\"1\" class=\"dataframe\">\n",
       "  <thead>\n",
       "    <tr style=\"text-align: right;\">\n",
       "      <th></th>\n",
       "      <th>Unnamed: 0</th>\n",
       "      <th>index</th>\n",
       "      <th>Artist</th>\n",
       "      <th>Followers</th>\n",
       "      <th>Genres</th>\n",
       "      <th>NumAlbums</th>\n",
       "      <th>YearFirstAlbum</th>\n",
       "      <th>Gender</th>\n",
       "      <th>Group.Solo</th>\n",
       "      <th>Features</th>\n",
       "      <th>Week</th>\n",
       "      <th>Total streams</th>\n",
       "    </tr>\n",
       "  </thead>\n",
       "  <tbody>\n",
       "    <tr>\n",
       "      <th>0</th>\n",
       "      <td>0</td>\n",
       "      <td>0</td>\n",
       "      <td>ed sheeran</td>\n",
       "      <td>52698756.0</td>\n",
       "      <td>pop,uk pop</td>\n",
       "      <td>8.0</td>\n",
       "      <td>2011.0</td>\n",
       "      <td>M</td>\n",
       "      <td>Solo</td>\n",
       "      <td>NaN</td>\n",
       "      <td>2018-07-20</td>\n",
       "      <td>9.361553e+08</td>\n",
       "    </tr>\n",
       "    <tr>\n",
       "      <th>1</th>\n",
       "      <td>1</td>\n",
       "      <td>1</td>\n",
       "      <td>justin bieber</td>\n",
       "      <td>30711450.0</td>\n",
       "      <td>canadian pop,dance pop,pop,post-teen pop</td>\n",
       "      <td>10.0</td>\n",
       "      <td>2009.0</td>\n",
       "      <td>M</td>\n",
       "      <td>Solo</td>\n",
       "      <td>NaN</td>\n",
       "      <td>2018-12-14</td>\n",
       "      <td>4.543449e+07</td>\n",
       "    </tr>\n",
       "    <tr>\n",
       "      <th>2</th>\n",
       "      <td>2</td>\n",
       "      <td>2</td>\n",
       "      <td>jonas brothers</td>\n",
       "      <td>3069527.0</td>\n",
       "      <td>boy band,dance pop,pop,post-teen pop</td>\n",
       "      <td>10.0</td>\n",
       "      <td>2006.0</td>\n",
       "      <td>M</td>\n",
       "      <td>Group</td>\n",
       "      <td>NaN</td>\n",
       "      <td>2019-04-12</td>\n",
       "      <td>1.825584e+08</td>\n",
       "    </tr>\n",
       "    <tr>\n",
       "      <th>3</th>\n",
       "      <td>3</td>\n",
       "      <td>3</td>\n",
       "      <td>drake</td>\n",
       "      <td>41420478.0</td>\n",
       "      <td>canadian hip hop,canadian pop,hip hop,pop rap,...</td>\n",
       "      <td>11.0</td>\n",
       "      <td>2010.0</td>\n",
       "      <td>M</td>\n",
       "      <td>Solo</td>\n",
       "      <td>NaN</td>\n",
       "      <td>2018-07-20</td>\n",
       "      <td>3.441947e+09</td>\n",
       "    </tr>\n",
       "    <tr>\n",
       "      <th>4</th>\n",
       "      <td>4</td>\n",
       "      <td>4</td>\n",
       "      <td>chris brown</td>\n",
       "      <td>9676862.0</td>\n",
       "      <td>dance pop,pop,pop rap,r&amp;b,rap</td>\n",
       "      <td>6.0</td>\n",
       "      <td>2005.0</td>\n",
       "      <td>M</td>\n",
       "      <td>Solo</td>\n",
       "      <td>NaN</td>\n",
       "      <td>2017-11-10</td>\n",
       "      <td>1.383342e+08</td>\n",
       "    </tr>\n",
       "  </tbody>\n",
       "</table>\n",
       "</div>"
      ],
      "text/plain": [
       "   Unnamed: 0  index          Artist   Followers  \\\n",
       "0           0      0      ed sheeran  52698756.0   \n",
       "1           1      1   justin bieber  30711450.0   \n",
       "2           2      2  jonas brothers   3069527.0   \n",
       "3           3      3           drake  41420478.0   \n",
       "4           4      4     chris brown   9676862.0   \n",
       "\n",
       "                                              Genres  NumAlbums  \\\n",
       "0                                         pop,uk pop        8.0   \n",
       "1           canadian pop,dance pop,pop,post-teen pop       10.0   \n",
       "2               boy band,dance pop,pop,post-teen pop       10.0   \n",
       "3  canadian hip hop,canadian pop,hip hop,pop rap,...       11.0   \n",
       "4                      dance pop,pop,pop rap,r&b,rap        6.0   \n",
       "\n",
       "   YearFirstAlbum Gender Group.Solo Features        Week  Total streams  \n",
       "0          2011.0      M       Solo      NaN  2018-07-20   9.361553e+08  \n",
       "1          2009.0      M       Solo      NaN  2018-12-14   4.543449e+07  \n",
       "2          2006.0      M      Group      NaN  2019-04-12   1.825584e+08  \n",
       "3          2010.0      M       Solo      NaN  2018-07-20   3.441947e+09  \n",
       "4          2005.0      M       Solo      NaN  2017-11-10   1.383342e+08  "
      ]
     },
     "execution_count": 804,
     "metadata": {},
     "output_type": "execute_result"
    }
   ],
   "source": [
    "df_02 = pd.read_csv(\"../Resources/ArtistWeek.csv\")\n",
    "print(df_02.info())\n",
    "df_02.head()"
   ]
  },
  {
   "cell_type": "code",
   "execution_count": 805,
   "metadata": {},
   "outputs": [
    {
     "data": {
      "text/plain": [
       "Index(['Unnamed: 0', 'index', 'Artist', 'Followers', 'Genres', 'NumAlbums',\n",
       "       'YearFirstAlbum', 'Gender', 'Group.Solo', 'Features', 'Week',\n",
       "       'Total streams'],\n",
       "      dtype='object')"
      ]
     },
     "execution_count": 805,
     "metadata": {},
     "output_type": "execute_result"
    }
   ],
   "source": [
    "df_02.columns"
   ]
  },
  {
   "cell_type": "code",
   "execution_count": 806,
   "metadata": {},
   "outputs": [
    {
     "data": {
      "text/html": [
       "<div>\n",
       "<style scoped>\n",
       "    .dataframe tbody tr th:only-of-type {\n",
       "        vertical-align: middle;\n",
       "    }\n",
       "\n",
       "    .dataframe tbody tr th {\n",
       "        vertical-align: top;\n",
       "    }\n",
       "\n",
       "    .dataframe thead th {\n",
       "        text-align: right;\n",
       "    }\n",
       "</style>\n",
       "<table border=\"1\" class=\"dataframe\">\n",
       "  <thead>\n",
       "    <tr style=\"text-align: right;\">\n",
       "      <th></th>\n",
       "      <th>Followers</th>\n",
       "      <th>NumAlbums</th>\n",
       "      <th>YearFirstAlbum</th>\n",
       "      <th>Gender</th>\n",
       "      <th>Group.Solo</th>\n",
       "      <th>Features</th>\n",
       "      <th>Total streams</th>\n",
       "    </tr>\n",
       "  </thead>\n",
       "  <tbody>\n",
       "    <tr>\n",
       "      <th>0</th>\n",
       "      <td>52698756.0</td>\n",
       "      <td>8.0</td>\n",
       "      <td>2011.0</td>\n",
       "      <td>M</td>\n",
       "      <td>Solo</td>\n",
       "      <td>0</td>\n",
       "      <td>9.361553e+08</td>\n",
       "    </tr>\n",
       "    <tr>\n",
       "      <th>1</th>\n",
       "      <td>30711450.0</td>\n",
       "      <td>10.0</td>\n",
       "      <td>2009.0</td>\n",
       "      <td>M</td>\n",
       "      <td>Solo</td>\n",
       "      <td>0</td>\n",
       "      <td>4.543449e+07</td>\n",
       "    </tr>\n",
       "    <tr>\n",
       "      <th>2</th>\n",
       "      <td>3069527.0</td>\n",
       "      <td>10.0</td>\n",
       "      <td>2006.0</td>\n",
       "      <td>M</td>\n",
       "      <td>Group</td>\n",
       "      <td>0</td>\n",
       "      <td>1.825584e+08</td>\n",
       "    </tr>\n",
       "    <tr>\n",
       "      <th>3</th>\n",
       "      <td>41420478.0</td>\n",
       "      <td>11.0</td>\n",
       "      <td>2010.0</td>\n",
       "      <td>M</td>\n",
       "      <td>Solo</td>\n",
       "      <td>0</td>\n",
       "      <td>3.441947e+09</td>\n",
       "    </tr>\n",
       "    <tr>\n",
       "      <th>4</th>\n",
       "      <td>9676862.0</td>\n",
       "      <td>6.0</td>\n",
       "      <td>2005.0</td>\n",
       "      <td>M</td>\n",
       "      <td>Solo</td>\n",
       "      <td>0</td>\n",
       "      <td>1.383342e+08</td>\n",
       "    </tr>\n",
       "  </tbody>\n",
       "</table>\n",
       "</div>"
      ],
      "text/plain": [
       "    Followers  NumAlbums  YearFirstAlbum Gender Group.Solo  Features  \\\n",
       "0  52698756.0        8.0          2011.0      M       Solo         0   \n",
       "1  30711450.0       10.0          2009.0      M       Solo         0   \n",
       "2   3069527.0       10.0          2006.0      M      Group         0   \n",
       "3  41420478.0       11.0          2010.0      M       Solo         0   \n",
       "4   9676862.0        6.0          2005.0      M       Solo         0   \n",
       "\n",
       "   Total streams  \n",
       "0   9.361553e+08  \n",
       "1   4.543449e+07  \n",
       "2   1.825584e+08  \n",
       "3   3.441947e+09  \n",
       "4   1.383342e+08  "
      ]
     },
     "execution_count": 806,
     "metadata": {},
     "output_type": "execute_result"
    }
   ],
   "source": [
    "df_02 = df_02.drop(columns= [\"Unnamed: 0\", \"index\",\"Artist\",\"Genres\",\"Week\"])\n",
    "df_02['Features'] = df_02['Features'].notna().astype(int)\n",
    "df_02.head()"
   ]
  },
  {
   "cell_type": "code",
   "execution_count": 807,
   "metadata": {},
   "outputs": [
    {
     "data": {
      "text/html": [
       "<div>\n",
       "<style scoped>\n",
       "    .dataframe tbody tr th:only-of-type {\n",
       "        vertical-align: middle;\n",
       "    }\n",
       "\n",
       "    .dataframe tbody tr th {\n",
       "        vertical-align: top;\n",
       "    }\n",
       "\n",
       "    .dataframe thead th {\n",
       "        text-align: right;\n",
       "    }\n",
       "</style>\n",
       "<table border=\"1\" class=\"dataframe\">\n",
       "  <thead>\n",
       "    <tr style=\"text-align: right;\">\n",
       "      <th></th>\n",
       "      <th>Followers</th>\n",
       "      <th>NumAlbums</th>\n",
       "      <th>YearFirstAlbum</th>\n",
       "      <th>Features</th>\n",
       "      <th>Total streams</th>\n",
       "      <th>Gender_F</th>\n",
       "      <th>Gender_M</th>\n",
       "      <th>Group.Solo_Group</th>\n",
       "      <th>Group.Solo_Solo</th>\n",
       "    </tr>\n",
       "  </thead>\n",
       "  <tbody>\n",
       "    <tr>\n",
       "      <th>0</th>\n",
       "      <td>52698756.0</td>\n",
       "      <td>8.0</td>\n",
       "      <td>2011.0</td>\n",
       "      <td>0</td>\n",
       "      <td>9.361553e+08</td>\n",
       "      <td>False</td>\n",
       "      <td>True</td>\n",
       "      <td>False</td>\n",
       "      <td>True</td>\n",
       "    </tr>\n",
       "    <tr>\n",
       "      <th>1</th>\n",
       "      <td>30711450.0</td>\n",
       "      <td>10.0</td>\n",
       "      <td>2009.0</td>\n",
       "      <td>0</td>\n",
       "      <td>4.543449e+07</td>\n",
       "      <td>False</td>\n",
       "      <td>True</td>\n",
       "      <td>False</td>\n",
       "      <td>True</td>\n",
       "    </tr>\n",
       "    <tr>\n",
       "      <th>2</th>\n",
       "      <td>3069527.0</td>\n",
       "      <td>10.0</td>\n",
       "      <td>2006.0</td>\n",
       "      <td>0</td>\n",
       "      <td>1.825584e+08</td>\n",
       "      <td>False</td>\n",
       "      <td>True</td>\n",
       "      <td>True</td>\n",
       "      <td>False</td>\n",
       "    </tr>\n",
       "    <tr>\n",
       "      <th>3</th>\n",
       "      <td>41420478.0</td>\n",
       "      <td>11.0</td>\n",
       "      <td>2010.0</td>\n",
       "      <td>0</td>\n",
       "      <td>3.441947e+09</td>\n",
       "      <td>False</td>\n",
       "      <td>True</td>\n",
       "      <td>False</td>\n",
       "      <td>True</td>\n",
       "    </tr>\n",
       "    <tr>\n",
       "      <th>4</th>\n",
       "      <td>9676862.0</td>\n",
       "      <td>6.0</td>\n",
       "      <td>2005.0</td>\n",
       "      <td>0</td>\n",
       "      <td>1.383342e+08</td>\n",
       "      <td>False</td>\n",
       "      <td>True</td>\n",
       "      <td>False</td>\n",
       "      <td>True</td>\n",
       "    </tr>\n",
       "  </tbody>\n",
       "</table>\n",
       "</div>"
      ],
      "text/plain": [
       "    Followers  NumAlbums  YearFirstAlbum  Features  Total streams  Gender_F  \\\n",
       "0  52698756.0        8.0          2011.0         0   9.361553e+08     False   \n",
       "1  30711450.0       10.0          2009.0         0   4.543449e+07     False   \n",
       "2   3069527.0       10.0          2006.0         0   1.825584e+08     False   \n",
       "3  41420478.0       11.0          2010.0         0   3.441947e+09     False   \n",
       "4   9676862.0        6.0          2005.0         0   1.383342e+08     False   \n",
       "\n",
       "   Gender_M  Group.Solo_Group  Group.Solo_Solo  \n",
       "0      True             False             True  \n",
       "1      True             False             True  \n",
       "2      True              True            False  \n",
       "3      True             False             True  \n",
       "4      True             False             True  "
      ]
     },
     "execution_count": 807,
     "metadata": {},
     "output_type": "execute_result"
    }
   ],
   "source": [
    "df_02_dummies = pd.get_dummies(df_02)\n",
    "df_02_dummies.head()"
   ]
  },
  {
   "cell_type": "code",
   "execution_count": 808,
   "metadata": {},
   "outputs": [
    {
     "data": {
      "text/plain": [
       "count    1.300000e+02\n",
       "mean     6.954067e+06\n",
       "std      8.476361e+06\n",
       "min      1.047000e+04\n",
       "25%      1.916465e+06\n",
       "50%      3.766748e+06\n",
       "75%      8.624010e+06\n",
       "max      5.269876e+07\n",
       "Name: Followers, dtype: float64"
      ]
     },
     "execution_count": 808,
     "metadata": {},
     "output_type": "execute_result"
    }
   ],
   "source": [
    "df_02_dummies[\"Followers\"].describe()"
   ]
  },
  {
   "cell_type": "code",
   "execution_count": 809,
   "metadata": {},
   "outputs": [
    {
     "name": "stdout",
     "output_type": "stream",
     "text": [
      "<class 'pandas.core.frame.DataFrame'>\n",
      "Index: 130 entries, 0 to 129\n",
      "Data columns (total 9 columns):\n",
      " #   Column            Non-Null Count  Dtype  \n",
      "---  ------            --------------  -----  \n",
      " 0   Followers         130 non-null    float64\n",
      " 1   NumAlbums         130 non-null    float64\n",
      " 2   YearFirstAlbum    130 non-null    float64\n",
      " 3   Features          130 non-null    int32  \n",
      " 4   Total streams     130 non-null    float64\n",
      " 5   Gender_F          130 non-null    bool   \n",
      " 6   Gender_M          130 non-null    bool   \n",
      " 7   Group.Solo_Group  130 non-null    bool   \n",
      " 8   Group.Solo_Solo   130 non-null    bool   \n",
      "dtypes: bool(4), float64(4), int32(1)\n",
      "memory usage: 6.1 KB\n"
     ]
    }
   ],
   "source": [
    "df_02_dummies = df_02_dummies.dropna()\n",
    "df_02_dummies.info()"
   ]
  },
  {
   "cell_type": "code",
   "execution_count": 810,
   "metadata": {},
   "outputs": [
    {
     "data": {
      "text/html": [
       "<div>\n",
       "<style scoped>\n",
       "    .dataframe tbody tr th:only-of-type {\n",
       "        vertical-align: middle;\n",
       "    }\n",
       "\n",
       "    .dataframe tbody tr th {\n",
       "        vertical-align: top;\n",
       "    }\n",
       "\n",
       "    .dataframe thead th {\n",
       "        text-align: right;\n",
       "    }\n",
       "</style>\n",
       "<table border=\"1\" class=\"dataframe\">\n",
       "  <thead>\n",
       "    <tr style=\"text-align: right;\">\n",
       "      <th></th>\n",
       "      <th>NumAlbums</th>\n",
       "      <th>YearFirstAlbum</th>\n",
       "      <th>Features</th>\n",
       "      <th>Total streams</th>\n",
       "      <th>Gender_F</th>\n",
       "      <th>Gender_M</th>\n",
       "      <th>Group.Solo_Group</th>\n",
       "      <th>Group.Solo_Solo</th>\n",
       "      <th>is_popular</th>\n",
       "    </tr>\n",
       "  </thead>\n",
       "  <tbody>\n",
       "    <tr>\n",
       "      <th>0</th>\n",
       "      <td>8.0</td>\n",
       "      <td>2011.0</td>\n",
       "      <td>0</td>\n",
       "      <td>9.361553e+08</td>\n",
       "      <td>False</td>\n",
       "      <td>True</td>\n",
       "      <td>False</td>\n",
       "      <td>True</td>\n",
       "      <td>True</td>\n",
       "    </tr>\n",
       "    <tr>\n",
       "      <th>1</th>\n",
       "      <td>10.0</td>\n",
       "      <td>2009.0</td>\n",
       "      <td>0</td>\n",
       "      <td>4.543449e+07</td>\n",
       "      <td>False</td>\n",
       "      <td>True</td>\n",
       "      <td>False</td>\n",
       "      <td>True</td>\n",
       "      <td>True</td>\n",
       "    </tr>\n",
       "    <tr>\n",
       "      <th>2</th>\n",
       "      <td>10.0</td>\n",
       "      <td>2006.0</td>\n",
       "      <td>0</td>\n",
       "      <td>1.825584e+08</td>\n",
       "      <td>False</td>\n",
       "      <td>True</td>\n",
       "      <td>True</td>\n",
       "      <td>False</td>\n",
       "      <td>False</td>\n",
       "    </tr>\n",
       "    <tr>\n",
       "      <th>3</th>\n",
       "      <td>11.0</td>\n",
       "      <td>2010.0</td>\n",
       "      <td>0</td>\n",
       "      <td>3.441947e+09</td>\n",
       "      <td>False</td>\n",
       "      <td>True</td>\n",
       "      <td>False</td>\n",
       "      <td>True</td>\n",
       "      <td>True</td>\n",
       "    </tr>\n",
       "    <tr>\n",
       "      <th>4</th>\n",
       "      <td>6.0</td>\n",
       "      <td>2005.0</td>\n",
       "      <td>0</td>\n",
       "      <td>1.383342e+08</td>\n",
       "      <td>False</td>\n",
       "      <td>True</td>\n",
       "      <td>False</td>\n",
       "      <td>True</td>\n",
       "      <td>True</td>\n",
       "    </tr>\n",
       "  </tbody>\n",
       "</table>\n",
       "</div>"
      ],
      "text/plain": [
       "   NumAlbums  YearFirstAlbum  Features  Total streams  Gender_F  Gender_M  \\\n",
       "0        8.0          2011.0         0   9.361553e+08     False      True   \n",
       "1       10.0          2009.0         0   4.543449e+07     False      True   \n",
       "2       10.0          2006.0         0   1.825584e+08     False      True   \n",
       "3       11.0          2010.0         0   3.441947e+09     False      True   \n",
       "4        6.0          2005.0         0   1.383342e+08     False      True   \n",
       "\n",
       "   Group.Solo_Group  Group.Solo_Solo  is_popular  \n",
       "0             False             True        True  \n",
       "1             False             True        True  \n",
       "2              True            False       False  \n",
       "3             False             True        True  \n",
       "4             False             True        True  "
      ]
     },
     "execution_count": 810,
     "metadata": {},
     "output_type": "execute_result"
    }
   ],
   "source": [
    "df_02_dummies[\"is_popular\"] = df_02_dummies[\"Followers\"] >= 8624010\n",
    "df_02_dummies = df_02_dummies.drop(columns=[\"Followers\"])\n",
    "df_02_dummies.head()"
   ]
  },
  {
   "cell_type": "code",
   "execution_count": 811,
   "metadata": {},
   "outputs": [
    {
     "data": {
      "text/plain": [
       "is_popular\n",
       "False    97\n",
       "True     33\n",
       "Name: count, dtype: int64"
      ]
     },
     "execution_count": 811,
     "metadata": {},
     "output_type": "execute_result"
    }
   ],
   "source": [
    "df_02_dummies[\"is_popular\"].value_counts()"
   ]
  },
  {
   "cell_type": "code",
   "execution_count": 812,
   "metadata": {},
   "outputs": [],
   "source": [
    "\n",
    "# Split our preprocessed data into our features and target arrays\n",
    "X = df_02_dummies.drop(columns = [\"is_popular\"])\n",
    "y = df_02_dummies[\"is_popular\"]\n",
    "# Split the preprocessed data into a training and testing dataset\n",
    "X_train, X_test, y_train, y_test = train_test_split(X, y, random_state=1)"
   ]
  },
  {
   "cell_type": "code",
   "execution_count": 813,
   "metadata": {},
   "outputs": [],
   "source": [
    "# Create a StandardScaler instances\n",
    "scaler = StandardScaler()\n",
    "\n",
    "# Fit the StandardScaler\n",
    "X_scaler = scaler.fit(X_train)\n",
    "\n",
    "# Scale the data\n",
    "X_train_scaled = X_scaler.transform(X_train)\n",
    "X_test_scaled = X_scaler.transform(X_test)"
   ]
  },
  {
   "cell_type": "code",
   "execution_count": 814,
   "metadata": {},
   "outputs": [
    {
     "name": "stdout",
     "output_type": "stream",
     "text": [
      "Model: \"sequential_33\"\n",
      "_________________________________________________________________\n",
      " Layer (type)                Output Shape              Param #   \n",
      "=================================================================\n",
      " dense_103 (Dense)           (None, 30)                270       \n",
      "                                                                 \n",
      " dense_104 (Dense)           (None, 30)                930       \n",
      "                                                                 \n",
      " dense_105 (Dense)           (None, 30)                930       \n",
      "                                                                 \n",
      " dense_106 (Dense)           (None, 1)                 31        \n",
      "                                                                 \n",
      "=================================================================\n",
      "Total params: 2161 (8.44 KB)\n",
      "Trainable params: 2161 (8.44 KB)\n",
      "Non-trainable params: 0 (0.00 Byte)\n",
      "_________________________________________________________________\n"
     ]
    }
   ],
   "source": [
    "# Define the model - deep neural net, i.e., the number of input features and hidden nodes for each layer.\n",
    "num_input_features = len(X_train_scaled[0])\n",
    "num_neurons_hl1 = 30\n",
    "num_neurons_hl2 = 30\n",
    "num_neurons_hl3 = 30\n",
    "\n",
    "nn = tf.keras.models.Sequential()\n",
    "\n",
    "# First hidden layer\n",
    "nn.add(tf.keras.layers.Dense(units = num_neurons_hl1, input_dim = num_input_features, activation = \"relu\"))\n",
    "\n",
    "# Second hidden layer\n",
    "nn.add(tf.keras.layers.Dense(units = num_neurons_hl2, activation = \"relu\"))\n",
    "\n",
    "# Third hidden layer\n",
    "nn.add(tf.keras.layers.Dense(units = num_neurons_hl3, activation = \"relu\"))\n",
    "\n",
    "# Output layer\n",
    "nn.add(tf.keras.layers.Dense(units = 1, activation = \"sigmoid\"))\n",
    "\n",
    "# Check the structure of the model\n",
    "nn.summary()"
   ]
  },
  {
   "cell_type": "code",
   "execution_count": 815,
   "metadata": {},
   "outputs": [],
   "source": [
    "# Compile the model\n",
    "nn.compile(loss = 'binary_crossentropy', optimizer = 'adam', metrics=['accuracy'])\n"
   ]
  },
  {
   "cell_type": "code",
   "execution_count": 816,
   "metadata": {},
   "outputs": [
    {
     "name": "stdout",
     "output_type": "stream",
     "text": [
      "Epoch 1/50\n"
     ]
    },
    {
     "name": "stdout",
     "output_type": "stream",
     "text": [
      "4/4 [==============================] - 1s 3ms/step - loss: 0.6538 - accuracy: 0.7113\n",
      "Epoch 2/50\n",
      "4/4 [==============================] - 0s 3ms/step - loss: 0.6292 - accuracy: 0.7113\n",
      "Epoch 3/50\n",
      "4/4 [==============================] - 0s 3ms/step - loss: 0.6108 - accuracy: 0.7216\n",
      "Epoch 4/50\n",
      "4/4 [==============================] - 0s 2ms/step - loss: 0.5935 - accuracy: 0.7320\n",
      "Epoch 5/50\n",
      "4/4 [==============================] - 0s 2ms/step - loss: 0.5748 - accuracy: 0.7320\n",
      "Epoch 6/50\n",
      "4/4 [==============================] - 0s 3ms/step - loss: 0.5579 - accuracy: 0.7526\n",
      "Epoch 7/50\n",
      "4/4 [==============================] - 0s 3ms/step - loss: 0.5427 - accuracy: 0.7732\n",
      "Epoch 8/50\n",
      "4/4 [==============================] - 0s 3ms/step - loss: 0.5298 - accuracy: 0.7938\n",
      "Epoch 9/50\n",
      "4/4 [==============================] - 0s 3ms/step - loss: 0.5162 - accuracy: 0.8247\n",
      "Epoch 10/50\n",
      "4/4 [==============================] - 0s 3ms/step - loss: 0.5054 - accuracy: 0.8351\n",
      "Epoch 11/50\n",
      "4/4 [==============================] - 0s 3ms/step - loss: 0.4934 - accuracy: 0.8144\n",
      "Epoch 12/50\n",
      "4/4 [==============================] - 0s 3ms/step - loss: 0.4802 - accuracy: 0.8144\n",
      "Epoch 13/50\n",
      "4/4 [==============================] - 0s 3ms/step - loss: 0.4697 - accuracy: 0.8144\n",
      "Epoch 14/50\n",
      "4/4 [==============================] - 0s 3ms/step - loss: 0.4591 - accuracy: 0.8144\n",
      "Epoch 15/50\n",
      "4/4 [==============================] - 0s 2ms/step - loss: 0.4489 - accuracy: 0.8144\n",
      "Epoch 16/50\n",
      "4/4 [==============================] - 0s 3ms/step - loss: 0.4409 - accuracy: 0.8144\n",
      "Epoch 17/50\n",
      "4/4 [==============================] - 0s 3ms/step - loss: 0.4338 - accuracy: 0.8144\n",
      "Epoch 18/50\n",
      "4/4 [==============================] - 0s 3ms/step - loss: 0.4269 - accuracy: 0.8144\n",
      "Epoch 19/50\n",
      "4/4 [==============================] - 0s 3ms/step - loss: 0.4211 - accuracy: 0.8041\n",
      "Epoch 20/50\n",
      "4/4 [==============================] - 0s 2ms/step - loss: 0.4167 - accuracy: 0.8041\n",
      "Epoch 21/50\n",
      "4/4 [==============================] - 0s 3ms/step - loss: 0.4124 - accuracy: 0.8041\n",
      "Epoch 22/50\n",
      "4/4 [==============================] - 0s 3ms/step - loss: 0.4087 - accuracy: 0.8041\n",
      "Epoch 23/50\n",
      "4/4 [==============================] - 0s 3ms/step - loss: 0.4055 - accuracy: 0.8041\n",
      "Epoch 24/50\n",
      "4/4 [==============================] - 0s 3ms/step - loss: 0.4014 - accuracy: 0.8041\n",
      "Epoch 25/50\n",
      "4/4 [==============================] - 0s 2ms/step - loss: 0.3983 - accuracy: 0.8041\n",
      "Epoch 26/50\n",
      "4/4 [==============================] - 0s 3ms/step - loss: 0.3961 - accuracy: 0.8144\n",
      "Epoch 27/50\n",
      "4/4 [==============================] - 0s 3ms/step - loss: 0.3940 - accuracy: 0.8041\n",
      "Epoch 28/50\n",
      "4/4 [==============================] - 0s 3ms/step - loss: 0.3920 - accuracy: 0.8041\n",
      "Epoch 29/50\n",
      "4/4 [==============================] - 0s 3ms/step - loss: 0.3916 - accuracy: 0.8144\n",
      "Epoch 30/50\n",
      "4/4 [==============================] - 0s 3ms/step - loss: 0.3894 - accuracy: 0.8247\n",
      "Epoch 31/50\n",
      "4/4 [==============================] - 0s 3ms/step - loss: 0.3851 - accuracy: 0.8041\n",
      "Epoch 32/50\n",
      "4/4 [==============================] - 0s 3ms/step - loss: 0.3820 - accuracy: 0.8144\n",
      "Epoch 33/50\n",
      "4/4 [==============================] - 0s 3ms/step - loss: 0.3787 - accuracy: 0.8144\n",
      "Epoch 34/50\n",
      "4/4 [==============================] - 0s 3ms/step - loss: 0.3773 - accuracy: 0.8247\n",
      "Epoch 35/50\n",
      "4/4 [==============================] - 0s 3ms/step - loss: 0.3778 - accuracy: 0.8041\n",
      "Epoch 36/50\n",
      "4/4 [==============================] - 0s 3ms/step - loss: 0.3776 - accuracy: 0.8247\n",
      "Epoch 37/50\n",
      "4/4 [==============================] - 0s 3ms/step - loss: 0.3810 - accuracy: 0.8351\n",
      "Epoch 38/50\n",
      "4/4 [==============================] - 0s 3ms/step - loss: 0.3826 - accuracy: 0.8351\n",
      "Epoch 39/50\n",
      "4/4 [==============================] - 0s 3ms/step - loss: 0.3800 - accuracy: 0.8247\n",
      "Epoch 40/50\n",
      "4/4 [==============================] - 0s 3ms/step - loss: 0.3781 - accuracy: 0.8247\n",
      "Epoch 41/50\n",
      "4/4 [==============================] - 0s 3ms/step - loss: 0.3744 - accuracy: 0.8247\n",
      "Epoch 42/50\n",
      "4/4 [==============================] - 0s 3ms/step - loss: 0.3735 - accuracy: 0.8144\n",
      "Epoch 43/50\n",
      "4/4 [==============================] - 0s 3ms/step - loss: 0.3761 - accuracy: 0.8247\n",
      "Epoch 44/50\n",
      "4/4 [==============================] - 0s 3ms/step - loss: 0.3812 - accuracy: 0.8247\n",
      "Epoch 45/50\n",
      "4/4 [==============================] - 0s 3ms/step - loss: 0.3849 - accuracy: 0.8247\n",
      "Epoch 46/50\n",
      "4/4 [==============================] - 0s 3ms/step - loss: 0.3825 - accuracy: 0.8351\n",
      "Epoch 47/50\n",
      "4/4 [==============================] - 0s 3ms/step - loss: 0.3769 - accuracy: 0.8454\n",
      "Epoch 48/50\n",
      "4/4 [==============================] - 0s 2ms/step - loss: 0.3707 - accuracy: 0.8454\n",
      "Epoch 49/50\n",
      "4/4 [==============================] - 0s 2ms/step - loss: 0.3694 - accuracy: 0.8454\n",
      "Epoch 50/50\n",
      "4/4 [==============================] - 0s 3ms/step - loss: 0.3682 - accuracy: 0.8454\n"
     ]
    }
   ],
   "source": [
    "# Train the model\n",
    "fit_model = nn.fit(X_train_scaled, y_train, epochs = 50)\n"
   ]
  },
  {
   "cell_type": "code",
   "execution_count": 817,
   "metadata": {},
   "outputs": [
    {
     "name": "stdout",
     "output_type": "stream",
     "text": [
      "2/2 - 0s - loss: 0.5038 - accuracy: 0.7576 - 146ms/epoch - 73ms/step\n",
      "Loss: 0.5037690997123718, Accuracy: 0.7575757503509521\n"
     ]
    }
   ],
   "source": [
    "# Evaluate the model using the test data\n",
    "model_loss, model_accuracy = nn.evaluate(X_test_scaled,y_test,verbose=2)\n",
    "print(f\"Loss: {model_loss}, Accuracy: {model_accuracy}\")"
   ]
  },
  {
   "cell_type": "markdown",
   "metadata": {},
   "source": [
    "## Logistic Regression"
   ]
  },
  {
   "cell_type": "code",
   "execution_count": 818,
   "metadata": {},
   "outputs": [
    {
     "data": {
      "text/html": [
       "<style>#sk-container-id-21 {color: black;}#sk-container-id-21 pre{padding: 0;}#sk-container-id-21 div.sk-toggleable {background-color: white;}#sk-container-id-21 label.sk-toggleable__label {cursor: pointer;display: block;width: 100%;margin-bottom: 0;padding: 0.3em;box-sizing: border-box;text-align: center;}#sk-container-id-21 label.sk-toggleable__label-arrow:before {content: \"▸\";float: left;margin-right: 0.25em;color: #696969;}#sk-container-id-21 label.sk-toggleable__label-arrow:hover:before {color: black;}#sk-container-id-21 div.sk-estimator:hover label.sk-toggleable__label-arrow:before {color: black;}#sk-container-id-21 div.sk-toggleable__content {max-height: 0;max-width: 0;overflow: hidden;text-align: left;background-color: #f0f8ff;}#sk-container-id-21 div.sk-toggleable__content pre {margin: 0.2em;color: black;border-radius: 0.25em;background-color: #f0f8ff;}#sk-container-id-21 input.sk-toggleable__control:checked~div.sk-toggleable__content {max-height: 200px;max-width: 100%;overflow: auto;}#sk-container-id-21 input.sk-toggleable__control:checked~label.sk-toggleable__label-arrow:before {content: \"▾\";}#sk-container-id-21 div.sk-estimator input.sk-toggleable__control:checked~label.sk-toggleable__label {background-color: #d4ebff;}#sk-container-id-21 div.sk-label input.sk-toggleable__control:checked~label.sk-toggleable__label {background-color: #d4ebff;}#sk-container-id-21 input.sk-hidden--visually {border: 0;clip: rect(1px 1px 1px 1px);clip: rect(1px, 1px, 1px, 1px);height: 1px;margin: -1px;overflow: hidden;padding: 0;position: absolute;width: 1px;}#sk-container-id-21 div.sk-estimator {font-family: monospace;background-color: #f0f8ff;border: 1px dotted black;border-radius: 0.25em;box-sizing: border-box;margin-bottom: 0.5em;}#sk-container-id-21 div.sk-estimator:hover {background-color: #d4ebff;}#sk-container-id-21 div.sk-parallel-item::after {content: \"\";width: 100%;border-bottom: 1px solid gray;flex-grow: 1;}#sk-container-id-21 div.sk-label:hover label.sk-toggleable__label {background-color: #d4ebff;}#sk-container-id-21 div.sk-serial::before {content: \"\";position: absolute;border-left: 1px solid gray;box-sizing: border-box;top: 0;bottom: 0;left: 50%;z-index: 0;}#sk-container-id-21 div.sk-serial {display: flex;flex-direction: column;align-items: center;background-color: white;padding-right: 0.2em;padding-left: 0.2em;position: relative;}#sk-container-id-21 div.sk-item {position: relative;z-index: 1;}#sk-container-id-21 div.sk-parallel {display: flex;align-items: stretch;justify-content: center;background-color: white;position: relative;}#sk-container-id-21 div.sk-item::before, #sk-container-id-21 div.sk-parallel-item::before {content: \"\";position: absolute;border-left: 1px solid gray;box-sizing: border-box;top: 0;bottom: 0;left: 50%;z-index: -1;}#sk-container-id-21 div.sk-parallel-item {display: flex;flex-direction: column;z-index: 1;position: relative;background-color: white;}#sk-container-id-21 div.sk-parallel-item:first-child::after {align-self: flex-end;width: 50%;}#sk-container-id-21 div.sk-parallel-item:last-child::after {align-self: flex-start;width: 50%;}#sk-container-id-21 div.sk-parallel-item:only-child::after {width: 0;}#sk-container-id-21 div.sk-dashed-wrapped {border: 1px dashed gray;margin: 0 0.4em 0.5em 0.4em;box-sizing: border-box;padding-bottom: 0.4em;background-color: white;}#sk-container-id-21 div.sk-label label {font-family: monospace;font-weight: bold;display: inline-block;line-height: 1.2em;}#sk-container-id-21 div.sk-label-container {text-align: center;}#sk-container-id-21 div.sk-container {/* jupyter's `normalize.less` sets `[hidden] { display: none; }` but bootstrap.min.css set `[hidden] { display: none !important; }` so we also need the `!important` here to be able to override the default hidden behavior on the sphinx rendered scikit-learn.org. See: https://github.com/scikit-learn/scikit-learn/issues/21755 */display: inline-block !important;position: relative;}#sk-container-id-21 div.sk-text-repr-fallback {display: none;}</style><div id=\"sk-container-id-21\" class=\"sk-top-container\"><div class=\"sk-text-repr-fallback\"><pre>LogisticRegression(random_state=1)</pre><b>In a Jupyter environment, please rerun this cell to show the HTML representation or trust the notebook. <br />On GitHub, the HTML representation is unable to render, please try loading this page with nbviewer.org.</b></div><div class=\"sk-container\" hidden><div class=\"sk-item\"><div class=\"sk-estimator sk-toggleable\"><input class=\"sk-toggleable__control sk-hidden--visually\" id=\"sk-estimator-id-21\" type=\"checkbox\" checked><label for=\"sk-estimator-id-21\" class=\"sk-toggleable__label sk-toggleable__label-arrow\">LogisticRegression</label><div class=\"sk-toggleable__content\"><pre>LogisticRegression(random_state=1)</pre></div></div></div></div></div>"
      ],
      "text/plain": [
       "LogisticRegression(random_state=1)"
      ]
     },
     "execution_count": 818,
     "metadata": {},
     "output_type": "execute_result"
    }
   ],
   "source": [
    "# Instantiate the Logistic Regression model\n",
    "logistic_regression_model = LogisticRegression(random_state=1)\n",
    "\n",
    "# Fit the model using training data\n",
    "logistic_regression_model.fit(X_train, y_train)"
   ]
  },
  {
   "cell_type": "code",
   "execution_count": 819,
   "metadata": {},
   "outputs": [
    {
     "data": {
      "text/plain": [
       "array([ True,  True,  True,  True,  True,  True,  True,  True,  True,\n",
       "        True,  True,  True,  True,  True,  True,  True,  True,  True,\n",
       "        True,  True,  True,  True,  True,  True,  True,  True,  True,\n",
       "        True,  True,  True,  True,  True,  True])"
      ]
     },
     "execution_count": 819,
     "metadata": {},
     "output_type": "execute_result"
    }
   ],
   "source": [
    "predictions = logistic_regression_model.predict(X_test)\n",
    "predictions"
   ]
  },
  {
   "cell_type": "code",
   "execution_count": 820,
   "metadata": {},
   "outputs": [
    {
     "name": "stdout",
     "output_type": "stream",
     "text": [
      "Balanced Accuracy Score: 0.5 %\n"
     ]
    }
   ],
   "source": [
    "# Print the balanced_accuracy score of the model\n",
    "print(f\"Balanced Accuracy Score: {balanced_accuracy_score(y_test,predictions)} %\")"
   ]
  },
  {
   "cell_type": "code",
   "execution_count": 821,
   "metadata": {},
   "outputs": [
    {
     "name": "stdout",
     "output_type": "stream",
     "text": [
      "[[ 0 28]\n",
      " [ 0  5]]\n"
     ]
    }
   ],
   "source": [
    "# Generate a confusion matrix for the model\n",
    "cm = confusion_matrix(y_test, predictions)\n",
    "print(cm)"
   ]
  },
  {
   "cell_type": "code",
   "execution_count": 822,
   "metadata": {},
   "outputs": [
    {
     "name": "stdout",
     "output_type": "stream",
     "text": [
      "              precision    recall  f1-score   support\n",
      "\n",
      "       False       0.00      0.00      0.00        28\n",
      "        True       0.15      1.00      0.26         5\n",
      "\n",
      "    accuracy                           0.15        33\n",
      "   macro avg       0.08      0.50      0.13        33\n",
      "weighted avg       0.02      0.15      0.04        33\n",
      "\n"
     ]
    },
    {
     "name": "stderr",
     "output_type": "stream",
     "text": [
      "c:\\Users\\Aspire-PC\\anaconda3\\envs\\orange3\\lib\\site-packages\\sklearn\\metrics\\_classification.py:1469: UndefinedMetricWarning: Precision and F-score are ill-defined and being set to 0.0 in labels with no predicted samples. Use `zero_division` parameter to control this behavior.\n",
      "  _warn_prf(average, modifier, msg_start, len(result))\n",
      "c:\\Users\\Aspire-PC\\anaconda3\\envs\\orange3\\lib\\site-packages\\sklearn\\metrics\\_classification.py:1469: UndefinedMetricWarning: Precision and F-score are ill-defined and being set to 0.0 in labels with no predicted samples. Use `zero_division` parameter to control this behavior.\n",
      "  _warn_prf(average, modifier, msg_start, len(result))\n",
      "c:\\Users\\Aspire-PC\\anaconda3\\envs\\orange3\\lib\\site-packages\\sklearn\\metrics\\_classification.py:1469: UndefinedMetricWarning: Precision and F-score are ill-defined and being set to 0.0 in labels with no predicted samples. Use `zero_division` parameter to control this behavior.\n",
      "  _warn_prf(average, modifier, msg_start, len(result))\n"
     ]
    }
   ],
   "source": [
    "# Print the classification report for the model\n",
    "print(classification_report(y_test, predictions))"
   ]
  },
  {
   "cell_type": "markdown",
   "metadata": {},
   "source": [
    "## Logistic Regression Resampled"
   ]
  },
  {
   "cell_type": "code",
   "execution_count": 823,
   "metadata": {},
   "outputs": [],
   "source": [
    "# Instantiate the random oversampler model\n",
    "random_over_sampler_model = RandomOverSampler(random_state=1)\n",
    "\n",
    "# Fit the original training data to the random_oversampler model\n",
    "X_res, y_res = random_over_sampler_model.fit_resample(X_train, y_train)"
   ]
  },
  {
   "cell_type": "code",
   "execution_count": 824,
   "metadata": {},
   "outputs": [
    {
     "name": "stdout",
     "output_type": "stream",
     "text": [
      "is_popular\n",
      "False    69\n",
      "True     69\n",
      "Name: count, dtype: int64\n"
     ]
    }
   ],
   "source": [
    "# Count the distinct values of the resampled labels data\n",
    "print(y_res.value_counts())"
   ]
  },
  {
   "cell_type": "code",
   "execution_count": 825,
   "metadata": {},
   "outputs": [],
   "source": [
    "# Instantiate the Logistic Regression model\n",
    "# Assign a random_state parameter of 1 to the model\n",
    "logistic_regression_model_resampled = LogisticRegression(random_state=1)\n",
    "\n",
    "# Fit the model using the resampled training data\n",
    "logistic_regression_model_resampled.fit(X_res, y_res)\n",
    "\n",
    "# Make a prediction using the testing data\n",
    "predictions_resampled = logistic_regression_model_resampled.predict(X_test)"
   ]
  },
  {
   "cell_type": "code",
   "execution_count": 826,
   "metadata": {},
   "outputs": [
    {
     "name": "stdout",
     "output_type": "stream",
     "text": [
      "Balanced Accuracy Score Resampled: 0.5 %\n"
     ]
    }
   ],
   "source": [
    "# Print the balanced_accuracy score of the model \n",
    "print(f\"Balanced Accuracy Score Resampled: {balanced_accuracy_score(y_test,predictions_resampled)} %\")"
   ]
  },
  {
   "cell_type": "code",
   "execution_count": 827,
   "metadata": {},
   "outputs": [
    {
     "name": "stdout",
     "output_type": "stream",
     "text": [
      "[[ 0 28]\n",
      " [ 0  5]]\n"
     ]
    }
   ],
   "source": [
    "# Generate a confusion matrix for the model\n",
    "cm_resampled = confusion_matrix(y_test, predictions_resampled)\n",
    "print(cm_resampled)"
   ]
  },
  {
   "cell_type": "code",
   "execution_count": 828,
   "metadata": {},
   "outputs": [
    {
     "name": "stdout",
     "output_type": "stream",
     "text": [
      "              precision    recall  f1-score   support\n",
      "\n",
      "       False       0.00      0.00      0.00        28\n",
      "        True       0.15      1.00      0.26         5\n",
      "\n",
      "    accuracy                           0.15        33\n",
      "   macro avg       0.08      0.50      0.13        33\n",
      "weighted avg       0.02      0.15      0.04        33\n",
      "\n"
     ]
    },
    {
     "name": "stderr",
     "output_type": "stream",
     "text": [
      "c:\\Users\\Aspire-PC\\anaconda3\\envs\\orange3\\lib\\site-packages\\sklearn\\metrics\\_classification.py:1469: UndefinedMetricWarning: Precision and F-score are ill-defined and being set to 0.0 in labels with no predicted samples. Use `zero_division` parameter to control this behavior.\n",
      "  _warn_prf(average, modifier, msg_start, len(result))\n",
      "c:\\Users\\Aspire-PC\\anaconda3\\envs\\orange3\\lib\\site-packages\\sklearn\\metrics\\_classification.py:1469: UndefinedMetricWarning: Precision and F-score are ill-defined and being set to 0.0 in labels with no predicted samples. Use `zero_division` parameter to control this behavior.\n",
      "  _warn_prf(average, modifier, msg_start, len(result))\n",
      "c:\\Users\\Aspire-PC\\anaconda3\\envs\\orange3\\lib\\site-packages\\sklearn\\metrics\\_classification.py:1469: UndefinedMetricWarning: Precision and F-score are ill-defined and being set to 0.0 in labels with no predicted samples. Use `zero_division` parameter to control this behavior.\n",
      "  _warn_prf(average, modifier, msg_start, len(result))\n"
     ]
    }
   ],
   "source": [
    "# Print the classification report for the model\n",
    "print(classification_report(y_test, predictions_resampled))"
   ]
  }
 ],
 "metadata": {
  "kernelspec": {
   "display_name": "orange3",
   "language": "python",
   "name": "python3"
  },
  "language_info": {
   "codemirror_mode": {
    "name": "ipython",
    "version": 3
   },
   "file_extension": ".py",
   "mimetype": "text/x-python",
   "name": "python",
   "nbconvert_exporter": "python",
   "pygments_lexer": "ipython3",
   "version": "3.9.18"
  }
 },
 "nbformat": 4,
 "nbformat_minor": 2
}
